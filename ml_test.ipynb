{
 "cells": [
  {
   "cell_type": "code",
   "execution_count": 7,
   "metadata": {},
   "outputs": [],
   "source": [
    "import awkward as ak\n",
    "import numpy as np\n",
    "import vector\n",
    "from coffea.nanoevents import NanoEventsFactory, NanoAODSchema\n",
    "from coffea.analysis_tools import PackedSelection\n",
    "from xgboost import XGBClassifier"
   ]
  },
  {
   "cell_type": "code",
   "execution_count": 8,
   "metadata": {},
   "outputs": [],
   "source": [
    "MAX_N_JETS = 6\n",
    "B_TAG_THRESHOLD = 0.5"
   ]
  },
  {
   "cell_type": "code",
   "execution_count": 9,
   "metadata": {},
   "outputs": [
    {
     "name": "stderr",
     "output_type": "stream",
     "text": [
      "/Users/con_np/micromamba/envs/r3k_bdttools/lib/python3.10/site-packages/coffea/nanoevents/schemas/nanoaod.py:201: RuntimeWarning: Missing cross-reference index for FatJet_subJetIdx1 => SubJet\n",
      "  warnings.warn(\n",
      "/Users/con_np/micromamba/envs/r3k_bdttools/lib/python3.10/site-packages/coffea/nanoevents/schemas/nanoaod.py:201: RuntimeWarning: Missing cross-reference index for FatJet_subJetIdx2 => SubJet\n",
      "  warnings.warn(\n"
     ]
    }
   ],
   "source": [
    "file_path = 'https://xrootd-local.unl.edu:1094//store/user/AGC/nanoAOD/TT_TuneCUETP8M1_13TeV-powheg-pythia8/cmsopendata2015_ttbar_19980_PU25nsData2015v1_76X_mcRun2_asymptotic_v12_ext3-v1_00000_0000.root'\n",
    "tree_name = 'Events'\n",
    "# events = NanoEventsFactory.from_root({file_path: tree_name}, schemaclass=NanoAODSchema).events()\n",
    "events = NanoEventsFactory.from_root(file_path, treepath=tree_name, schemaclass=NanoAODSchema).events()\n",
    "\n",
    "Muon = events.Muon\n",
    "Electron = events.Electron\n",
    "Jet = events.Jet\n",
    "\n",
    "muon_mask = ((Muon.pt>30) & (np.abs(Muon.eta)<2.1) & (Muon.tightId) & (Muon.sip3d<4) & (Muon.pfRelIso04_all<0.15))\n",
    "electron_mask = ((Electron.pt>30) & (np.abs(Electron.eta)<2.1) & (Electron.cutBased==4) & (Electron.sip3d<4))\n",
    "jet_mask = ((Jet.pt>30) & (np.abs(Jet.eta)<2.4) & (Jet.isTightLeptonVeto))\n",
    "\n",
    "muons = Muon[muon_mask]\n",
    "electrons = Electron[electron_mask]\n",
    "jets = Jet[jet_mask]"
   ]
  },
  {
   "cell_type": "code",
   "execution_count": 17,
   "metadata": {},
   "outputs": [],
   "source": [
    "selections = PackedSelection(dtype='uint64')\n",
    "# Basic selection criteria\n",
    "selections.add(\"exactly_1l\", (ak.num(electrons) + ak.num(muons)) == 1) #PackedSelection.add(name(str), selection(array), fill_value=False)\n",
    "selections.add(\"atleast_4j\", ak.num(jets) >= 4)\n",
    "selections.add(\"exactly_1b\", ak.sum(jets.btagCSVV2 > B_TAG_THRESHOLD, axis=1) == 1)\n",
    "selections.add(\"atleast_2b\", ak.sum(jets.btagCSVV2 > B_TAG_THRESHOLD, axis=1) >= 2)\n",
    "# Complex selection criteria\n",
    "selections.add(\"4j1b\", selections.all(\"exactly_1l\", \"atleast_4j\", \"exactly_1b\")) #requirement, where all the values are True\n",
    "selections.add(\"4j2b\", selections.all(\"exactly_1l\", \"atleast_4j\", \"atleast_2b\"))"
   ]
  },
  {
   "cell_type": "code",
   "execution_count": 18,
   "metadata": {},
   "outputs": [],
   "source": [
    "region_4j2b = selections.all('4j2b')\n",
    "elecs = electrons[region_4j2b]\n",
    "muons = muons[region_4j2b]\n",
    "jets = jets[region_4j2b]\n",
    "genpart = events.GenPart[region_4j2b]"
   ]
  },
  {
   "cell_type": "code",
   "execution_count": 24,
   "metadata": {},
   "outputs": [
    {
     "data": {
      "text/plain": [
       "13"
      ]
     },
     "execution_count": 24,
     "metadata": {},
     "output_type": "execute_result"
    }
   ],
   "source": [
    "max(ak.num(jets, axis=1))"
   ]
  },
  {
   "cell_type": "markdown",
   "metadata": {},
   "source": [
    "## get_permutations_dict"
   ]
  },
  {
   "cell_type": "code",
   "execution_count": 3,
   "metadata": {},
   "outputs": [],
   "source": [
    "# calculate the dictionary of permutations for each number of jets\n",
    "permutations_dict = {}\n",
    "for n in range(4, MAX_N_JETS + 1): # for max_n_jets = 6, the range would be 4, 5, 6\n",
    "    test = ak.Array(range(n)) #create array -> at least 4 jet up to 6 jets\n",
    "    unzipped = ak.unzip(ak.argcartesian([test] * 4, axis=0))\n",
    "\n",
    "    combos = ak.combinations(ak.Array(range(4)), 2, axis=0) #choosing 2 out of [0, 1, 2, 3] to create sub array (like a permutation)\n",
    "    different = unzipped[combos[0][\"0\"]] != unzipped[combos[0][\"1\"]] # eg (0,1) and (0,0) would be different. combos acts like a mask. This creats boolean mask\n",
    "    for i in range(1, len(combos)): #1,2,3,4,5\n",
    "        different = different & (unzipped[combos[i][\"0\"]] != unzipped[combos[i][\"1\"]]) #also another boolean mask\n",
    "    permutations = ak.zip([test[unzipped[i][different]] for i in range(len(unzipped))], depth_limit=1).tolist() #looks like a list of array [(),(),...,()]\n",
    "\n",
    "    permutations = ak.concatenate([test[unzipped[i][different]][..., np.newaxis] for i in range(len(unzipped))], axis=1).to_list() #list of event of jet permutation [[],[],[],...,[]]\n",
    "\n",
    "    permutations_dict[n] = permutations #list of permutation corresponding to 4, 5, 6 jets (24, 120, 360 permutations respectatively)"
   ]
  },
  {
   "cell_type": "code",
   "execution_count": 4,
   "metadata": {},
   "outputs": [
    {
     "data": {
      "text/plain": [
       "([[3, 0, 2, 1], [3, 1, 0, 2], [3, 1, 2, 0], [3, 2, 0, 1], [3, 2, 1, 0]],\n",
       " [[4, 3, 0, 2], [4, 3, 1, 0], [4, 3, 1, 2], [4, 3, 2, 0], [4, 3, 2, 1]],\n",
       " [[5, 4, 2, 1], [5, 4, 2, 3], [5, 4, 3, 0], [5, 4, 3, 1], [5, 4, 3, 2]])"
      ]
     },
     "execution_count": 4,
     "metadata": {},
     "output_type": "execute_result"
    }
   ],
   "source": [
    "permutations_dict[4][19:], permutations_dict[5][115:], permutations_dict[6][355:]"
   ]
  },
  {
   "cell_type": "code",
   "execution_count": 5,
   "metadata": {},
   "outputs": [],
   "source": [
    "# for each permutation, calculate the corresponding label\n",
    "labels_dict = {}\n",
    "for n in range(4, MAX_N_JETS + 1): # 4 ,5, 6\n",
    "    current_labels = []\n",
    "    for inds in permutations_dict[n]: # inds are the jet permutation list\n",
    "        inds = np.array(inds)\n",
    "        current_label = 100 * np.ones(n)\n",
    "        current_label[inds[:2]] = 24\n",
    "        current_label[inds[2]] = 6\n",
    "        current_label[inds[3]] = -6\n",
    "        current_labels.append(current_label.tolist())\n",
    "\n",
    "    labels_dict[n] = current_labels\n",
    "    # list of length 4, 5, or 6. Elements are 24, 6, -6 or 100. (100 probably for other jets, two 24 indistinquishable, -6, 6 either from b_top or b_lep)\n"
   ]
  },
  {
   "cell_type": "code",
   "execution_count": 6,
   "metadata": {},
   "outputs": [
    {
     "data": {
      "text/plain": [
       "([[24.0, -6.0, 6.0, 24.0],\n",
       "  [6.0, 24.0, -6.0, 24.0],\n",
       "  [-6.0, 24.0, 6.0, 24.0],\n",
       "  [6.0, -6.0, 24.0, 24.0],\n",
       "  [-6.0, 6.0, 24.0, 24.0]],\n",
       " [[6.0, 100.0, -6.0, 24.0, 24.0],\n",
       "  [-6.0, 6.0, 100.0, 24.0, 24.0],\n",
       "  [100.0, 6.0, -6.0, 24.0, 24.0],\n",
       "  [-6.0, 100.0, 6.0, 24.0, 24.0],\n",
       "  [100.0, -6.0, 6.0, 24.0, 24.0]],\n",
       " [[100.0, -6.0, 6.0, 100.0, 24.0, 24.0],\n",
       "  [100.0, 100.0, 6.0, -6.0, 24.0, 24.0],\n",
       "  [-6.0, 100.0, 100.0, 6.0, 24.0, 24.0],\n",
       "  [100.0, -6.0, 100.0, 6.0, 24.0, 24.0],\n",
       "  [100.0, 100.0, -6.0, 6.0, 24.0, 24.0]])"
      ]
     },
     "execution_count": 6,
     "metadata": {},
     "output_type": "execute_result"
    }
   ],
   "source": [
    "labels_dict[4][19:], labels_dict[5][115:], labels_dict[6][355:]"
   ]
  },
  {
   "cell_type": "code",
   "execution_count": 7,
   "metadata": {},
   "outputs": [],
   "source": [
    "# get rid of duplicates since we consider W jets to be exchangeable\n",
    "# (halves the number of permutations we consider)\n",
    "for n in range(4, MAX_N_JETS + 1):\n",
    "    res = []\n",
    "    for idx, val in enumerate(labels_dict[n]): #idx = 0, 1, 2, ... and  val = list of labels (eg. [24.0, 24.0, 6.0, -6.0] for 4 jets, [24.0, 24.0, 6.0, 100.0, -6.0] for 5 jets)\n",
    "        if val in labels_dict[n][:idx]: #incremented by 1 to see if the next val is already in the previous one on lanbels_dict\n",
    "            res.append(idx) #store the repated val idx\n",
    "    labels_dict[n] = np.array(labels_dict[n])[res].tolist() #chosen unique permutations NOTE: val in labels[n][:idx] / val not it labels[n][:idx] give different res but the labels_dict[n] is the same (same permutation but differnet indices)\n",
    "    permutations_dict[n] = np.array(permutations_dict[n])[res].tolist()"
   ]
  },
  {
   "cell_type": "code",
   "execution_count": 8,
   "metadata": {},
   "outputs": [
    {
     "data": {
      "text/plain": [
       "(12, 60, 180)"
      ]
     },
     "execution_count": 8,
     "metadata": {},
     "output_type": "execute_result"
    }
   ],
   "source": [
    "len(permutations_dict[4]), len(permutations_dict[5]), len(permutations_dict[6]) # after filter repeated permutations/labels "
   ]
  },
  {
   "cell_type": "code",
   "execution_count": 9,
   "metadata": {},
   "outputs": [],
   "source": [
    "#eval_metrices_dict\n",
    "# elif include_labels and include_eval_mat:\n",
    "    # these matrices tell you the overlap between the predicted label (rows) and truth label (columns). Thus, square matrix\n",
    "    # the \"score\" in each matrix entry is the number of jets which are assigned correctly\n",
    "evaluation_matrices = {}  # overall event score\n",
    "for n in range(4, MAX_N_JETS + 1):\n",
    "    evaluation_matrix = np.zeros((len(permutations_dict[n]), len(permutations_dict[n])))\n",
    "    for i in range(len(permutations_dict[n])):\n",
    "        for j in range(len(permutations_dict[n])): #going through each entries\n",
    "            evaluation_matrix[i, j] = sum(np.equal(labels_dict[n][i], labels_dict[n][j])) #filling matrix\n",
    "\n",
    "    evaluation_matrices[n] = evaluation_matrix / 4\n",
    "\n",
    "# evaluation_matrices[4].shape = (12, 12)\n",
    "# evaluation_matrices[5].shape = (60, 60)\n",
    "# evaluation_matrices[6].shape = (180, 180)\n",
    "\n",
    "# return permutations_dict, labels_dict, evaluation_matrices"
   ]
  },
  {
   "cell_type": "markdown",
   "metadata": {},
   "source": [
    "## get_features"
   ]
  },
  {
   "cell_type": "code",
   "execution_count": null,
   "metadata": {},
   "outputs": [],
   "source": [
    "def get_features(jets, electrons, muons, max_n_jets=6):\n",
    "    \"\"\"\n",
    "    Calculate features for each of the 12 combinations per event\n",
    "\n",
    "    Args:\n",
    "        jets: selected jets\n",
    "        electrons: selected electrons\n",
    "        muons: selected muons\n",
    "        permutations_dict: which permutations to consider for each number of jets in an event\n",
    "\n",
    "    Returns:\n",
    "        features (flattened to remove event level)\n",
    "        perm_counts: how many permutations in each event. use to unflatten features\n",
    "    \"\"\""
   ]
  },
  {
   "cell_type": "code",
   "execution_count": 60,
   "metadata": {},
   "outputs": [],
   "source": [
    "# for four-vector addition of custom Momentum4D instances below\n",
    "vector.register_awkward()"
   ]
  },
  {
   "cell_type": "code",
   "execution_count": 65,
   "metadata": {},
   "outputs": [
    {
     "data": {
      "text/plain": [
       "(4, 13)"
      ]
     },
     "execution_count": 65,
     "metadata": {},
     "output_type": "execute_result"
    }
   ],
   "source": [
    "min(ak.num(jets)), max(ak.num(jets))"
   ]
  },
  {
   "cell_type": "code",
   "execution_count": 66,
   "metadata": {},
   "outputs": [],
   "source": [
    "# permutations_dict = get_permutations_dict(MAX_N_JETS) #technically from the previous function\n",
    "\n",
    "# calculate number of jets in each event\n",
    "njet = ak.num(jets).to_numpy()\n",
    "# don't consider every jet for events with high jet multiplicity\n",
    "njet[njet>max(permutations_dict.keys())] = max(permutations_dict.keys()) # replacing event with more than 6 jets to exactly 6 jets\n"
   ]
  },
  {
   "cell_type": "code",
   "execution_count": 67,
   "metadata": {},
   "outputs": [
    {
     "data": {
      "text/plain": [
       "(4, 6)"
      ]
     },
     "execution_count": 67,
     "metadata": {},
     "output_type": "execute_result"
    }
   ],
   "source": [
    "min(njet), max(njet)"
   ]
  },
  {
   "cell_type": "code",
   "execution_count": 72,
   "metadata": {},
   "outputs": [],
   "source": [
    "# create awkward array of permutation indices\n",
    "perms = ak.Array([permutations_dict[n] for n in njet]) # each event, depending on the jet number, will have list of permutation indices (eg. [[1, 0, 2, 3], [1, ... 1], [3, 2, 1, 0]])\n",
    "perm_counts = ak.num(perms) #the number of permutations in each event (eg. [12, 60, 12, 60, 12, ... 60, 12, 12, 12])"
   ]
  },
  {
   "cell_type": "code",
   "execution_count": 90,
   "metadata": {},
   "outputs": [
    {
     "name": "stdout",
     "output_type": "stream",
     "text": [
      "events: 28616     jets: 135491      perm_count: 1596720\n"
     ]
    }
   ],
   "source": [
    "#### calculate features ####\n",
    "features = np.zeros((np.sum(perm_counts), 20)) #rows are the total number of pemutation ( n_event*n_jet*perm_each_jet  x  20 features )\n",
    "print('events:', ak.num(jets, axis=0), '    jets:', ak.sum(ak.num(jets, axis=1)), '     perm_count:', np.sum(perm_counts))"
   ]
  },
  {
   "cell_type": "code",
   "execution_count": 104,
   "metadata": {},
   "outputs": [],
   "source": [
    "# grab lepton info\n",
    "leptons = ak.flatten(ak.concatenate((elecs, muons), axis=1), axis=-1)"
   ]
  },
  {
   "cell_type": "code",
   "execution_count": 162,
   "metadata": {},
   "outputs": [
    {
     "data": {
      "text/plain": [
       "<Array [[3, 2, 1, 0], [2, ... 0], [3, 2, 1, 0]] type='28616 * var * int64'>"
      ]
     },
     "execution_count": 162,
     "metadata": {},
     "output_type": "execute_result"
    }
   ],
   "source": [
    "perms[:, 11]"
   ]
  },
  {
   "cell_type": "code",
   "execution_count": 168,
   "metadata": {},
   "outputs": [
    {
     "data": {
      "text/plain": [
       "<Array [[3, 2, 3, 1, 3, 0, ... 1, 2, 0, 1, 0]] type='28616 * var * int64'>"
      ]
     },
     "execution_count": 168,
     "metadata": {},
     "output_type": "execute_result"
    }
   ],
   "source": [
    "perms[..., 3]"
   ]
  },
  {
   "cell_type": "code",
   "execution_count": 183,
   "metadata": {},
   "outputs": [],
   "source": [
    "### Constructing Features (filling features matrix) ###\n",
    "\n",
    "# deltaR (b_toplep, lepton)\n",
    "features[:, 0] = ak.flatten( np.sqrt((leptons.eta - jets[perms[...,3]].eta)**2 + (leptons.phi - jets[perms[...,3]].phi)**2) ).to_numpy()\n",
    "# deltaR (two W)\n",
    "features[:, 1] = ak.flatten( np.sqrt( (jets[perms[...,0]].eta - jets[perms[...,1]].eta)**2 + (jets[perms[...,0]].phi - jets[perms[...,1]].phi)**2 )).to_numpy()\n",
    "# deltaR between W and b_tophad\n",
    "features[:, 2] = ak.flatten( np.sqrt((jets[perms[...,0]].eta - jets[perms[...,2]].eta)**2 + (jets[perms[...,0]].phi - jets[perms[...,2]].phi)**2) ).to_numpy()\n",
    "features[:, 3] = ak.flatten( np.sqrt((jets[perms[...,1]].eta - jets[perms[...,2]].eta)**2 + (jets[perms[...,1]].phi - jets[perms[...,2]].phi)**2) ).to_numpy()\n",
    "\n",
    "#combining leptons and jets arrays\n",
    "#creating 4momentum\n",
    "el_p4 = ak.zip({'pt': elecs.pt, 'eta': elecs.eta, 'phi': elecs.phi, 'mass': elecs.mass}, with_name= 'Momentum4D')\n",
    "mu_p4 = ak.zip({'pt': muons.pt, 'eta': muons.eta, 'phi': muons.phi, 'mass': muons.mass}, with_name= 'Momentum4D')\n",
    "lep_p4 = ak.flatten(ak.concatenate((el_p4, mu_p4), axis=1), axis=-1)\n",
    "jet_p4 = ak.zip({'pt': jets.pt, 'eta': jets.eta, 'phi': jets.phi, 'mass': jets.mass}, with_name= 'Momentum4D')\n",
    "\n",
    "#b_toplep + lep mass\n",
    "features[:, 4] = ak.flatten((jet_p4[perms[...,3]] + lep_p4).mass).to_numpy()\n",
    "#Ws mass\n",
    "features[:, 5] = ak.flatten((jets[perms[...,0]] + jets[perms[...,1]]).mass).to_numpy()\n",
    "# W + b_tophad\n",
    "features[:, 6] = ak.flatten((jets[perms[...,0]] + jets[perms[...,1]] + jets[perms[...,2]]).mass).to_numpy()\n",
    "# combined pT of W and b_tophad\n",
    "features[:, 7] = ak.flatten((jets[perms[...,0]] + jets[perms[...,1]] + jets[perms[...,2]]).pt).to_numpy()\n",
    "\n",
    "# jets pt\n",
    "features[:, 8] = ak.flatten(jets[perms[...,0]].pt).to_numpy()\n",
    "features[:, 9] = ak.flatten(jets[perms[...,1]].pt).to_numpy()\n",
    "features[:, 10] = ak.flatten(jets[perms[...,2]].pt).to_numpy()\n",
    "features[:, 11] = ak.flatten(jets[perms[...,3]].pt).to_numpy()\n",
    "# btagCSVV2 of every jet\n",
    "features[:, 12] = ak.flatten(jets[perms[...,0]].btagCSVV2).to_numpy()\n",
    "features[:, 13] = ak.flatten(jets[perms[...,1]].btagCSVV2).to_numpy()\n",
    "features[:, 14] = ak.flatten(jets[perms[...,2]].btagCSVV2).to_numpy()\n",
    "features[:, 15] = ak.flatten(jets[perms[...,3]].btagCSVV2).to_numpy()\n",
    "# quark-gluon likelihood discriminator of every jet\n",
    "features[:, 16] = ak.flatten(jets[perms[...,0]].qgl).to_numpy()\n",
    "features[:, 17] = ak.flatten(jets[perms[...,1]].qgl).to_numpy()\n",
    "features[:, 18] = ak.flatten(jets[perms[...,2]].qgl).to_numpy()\n",
    "features[:, 19] = ak.flatten(jets[perms[...,3]].qgl).to_numpy()\n",
    "\n",
    "# return features, perm_counts\n"
   ]
  },
  {
   "cell_type": "markdown",
   "metadata": {},
   "source": [
    "## get_inference_result_local"
   ]
  },
  {
   "cell_type": "code",
   "execution_count": 200,
   "metadata": {},
   "outputs": [
    {
     "data": {
      "text/plain": [
       "<Array [False, True, True, ... False, False] type='28616 * bool'>"
      ]
     },
     "execution_count": 200,
     "metadata": {},
     "output_type": "execute_result"
    }
   ],
   "source": [
    "even = (events.event%2==0)\n",
    "region_selection = selections.all('4j2b')\n",
    "even = even[region_selection]\n",
    "even"
   ]
  },
  {
   "cell_type": "code",
   "execution_count": 202,
   "metadata": {},
   "outputs": [
    {
     "data": {
      "text/plain": [
       "<Array [12, 60, 12, 60, 12, ... 60, 12, 12, 12] type='28616 * int64'>"
      ]
     },
     "execution_count": 202,
     "metadata": {},
     "output_type": "execute_result"
    }
   ],
   "source": [
    "perm_counts"
   ]
  },
  {
   "cell_type": "code",
   "execution_count": 206,
   "metadata": {},
   "outputs": [
    {
     "data": {
      "text/plain": [
       "<Array [False, False, False, ... False, False] type='1596720 * bool'>"
      ]
     },
     "execution_count": 206,
     "metadata": {},
     "output_type": "execute_result"
    }
   ],
   "source": [
    "even_perm = np.repeat(even, perm_counts) # [12*False, 60*True, ... ]\n",
    "even_perm"
   ]
  },
  {
   "cell_type": "code",
   "execution_count": null,
   "metadata": {},
   "outputs": [],
   "source": [
    "model_even = XGBClassifier()\n",
    "model_even.load_model('to path')\n",
    "model_odd = XGBClassifier()\n",
    "model_odd.load_model('to path')"
   ]
  },
  {
   "cell_type": "code",
   "execution_count": 208,
   "metadata": {},
   "outputs": [
    {
     "data": {
      "text/plain": [
       "1596720"
      ]
     },
     "execution_count": 208,
     "metadata": {},
     "output_type": "execute_result"
    }
   ],
   "source": [
    "# def get_inference_results_local(features, even, model_even, model_odd):\n",
    "\n",
    "results = np.zeros(features.shape[0]) #the total number of permutations, 1596720. Target arrays set to 0"
   ]
  },
  {
   "cell_type": "code",
   "execution_count": 216,
   "metadata": {},
   "outputs": [
    {
     "data": {
      "text/plain": [
       "array([[3.53892112e+00, 4.47395992e+00, 1.71641088e+00, ...,\n",
       "        9.99023438e-01, 1.04248047e-01, 3.93371582e-02],\n",
       "       [1.69428432e+00, 4.47395992e+00, 1.71641088e+00, ...,\n",
       "        9.99023438e-01, 1.04248047e-01, 5.28808594e-01],\n",
       "       [1.00351238e+00, 4.47395992e+00, 2.48113680e+00, ...,\n",
       "        9.99023438e-01, 3.93371582e-02, 1.04248047e-01],\n",
       "       ...,\n",
       "       [3.38696718e+00, 2.91796923e+00, 3.65302038e+00, ...,\n",
       "        5.94615936e-04, 1.09863281e-01, 9.82910156e-01],\n",
       "       [1.69450653e+00, 3.65302038e+00, 4.61065245e+00, ...,\n",
       "        1.09863281e-01, 9.82910156e-01, 5.94615936e-04],\n",
       "       [3.38696718e+00, 3.65302038e+00, 2.91796923e+00, ...,\n",
       "        1.09863281e-01, 5.94615936e-04, 9.82910156e-01]])"
      ]
     },
     "execution_count": 216,
     "metadata": {},
     "output_type": "execute_result"
    }
   ],
   "source": [
    "features[even_perm]"
   ]
  },
  {
   "cell_type": "code",
   "execution_count": null,
   "metadata": {},
   "outputs": [],
   "source": [
    "if len(features[even_perm])>0: #803448\n",
    "    results[even_perm] = model_odd.predict_proba(features[even_perm,:])[:,1] # prodict_proba(all features with even_perm mask)(getting all output for class 1=correct classification)\n",
    "if len(features[np.invert(even_perm)])>0: #793272\n",
    "    results[np.invert(even_perm)] = model_even.predict_proba(features[np.invert(even_perm), :])[:,1]\n",
    "# return results"
   ]
  },
  {
   "cell_type": "markdown",
   "metadata": {},
   "source": [
    "## get_interference_results_triton"
   ]
  },
  {
   "cell_type": "markdown",
   "metadata": {},
   "source": [
    "## training_filter"
   ]
  },
  {
   "cell_type": "code",
   "execution_count": 30,
   "metadata": {},
   "outputs": [],
   "source": [
    "def training_filter(jets, electrons, muons, genparts, even):\n",
    "    '''\n",
    "    Filters events down to training set and calculates jet-level labels\n",
    "    \n",
    "    Args:\n",
    "        jets: selected jets after region filter (and selecting leading four for each event)\n",
    "        electrons: selected electrons after region filter\n",
    "        muons: selected muons after region filter\n",
    "        genparts: selected genpart after region filter\n",
    "        even: whether the event is even-numbered (used to separate training events)\n",
    "    \n",
    "    Returns:\n",
    "        jets: selected jets after training filter\n",
    "        electrons: selected electrons after training filter\n",
    "        muons: selected muons after training filter\n",
    "        labels: labels of jets within an event (24=W, 6=top_hadron, -6=top_lepton)\n",
    "        even: whether the event is even-numbered\n",
    "    '''\n",
    "    #### filter genPart to valid matching candidates ####\n",
    "\n",
    "    # get rid of particles without parents\n",
    "    genpart_parent = genparts.distinctParent\n",
    "    genpart_filter = np.invert(ak.is_none(genpart_parent, axis=1))\n",
    "    genparts = genparts[genpart_filter]\n",
    "    genpart_parent = genparts.distinctParent\n",
    "\n",
    "    # ensure that parents are top quark or W\n",
    "    genpart_filter2 = ((np.abs(genpart_parent.pdgId)==6) | (np.abs(genpart_parent.pdgId)==24))\n",
    "    genparts = genparts[genpart_filter2]\n",
    "\n",
    "    # ensure particle itself is a quark\n",
    "    genpart_filter3 = ((np.abs(genparts.pdgId)<7) & (np.abs(genparts.pdgId)>0))\n",
    "    genparts = genparts[genpart_filter3]\n",
    "\n",
    "    # get rid of duplicates\n",
    "    genpart_filter4 = genparts.hasFlags(\"isLastCopy\")\n",
    "    genparts = genparts[genpart_filter4]\n",
    "            \n",
    "        \n",
    "    #### get jet-level labels and filter events to training set\n",
    "        \n",
    "    # match jets to nearest valid genPart candidate\n",
    "    nearest_genpart = jets.nearest(genparts, threshold=0.4)\n",
    "    nearest_parent = nearest_genpart.distinctParent # parent of matched particle\n",
    "    parent_pdgid = nearest_parent.pdgId # pdgId of parent particle\n",
    "    grandchild_pdgid = nearest_parent.distinctChildren.distinctChildren.pdgId # pdgId of particle's parent's grandchildren\n",
    "\n",
    "    grandchildren_flat = np.abs(ak.flatten(grandchild_pdgid,axis=-1)) # flatten innermost axis for convenience\n",
    "\n",
    "    # if particle has a cousin that is a lepton\n",
    "    has_lepton_cousin = (ak.sum(((grandchildren_flat%2==0) & (grandchildren_flat>10) & (grandchildren_flat<19)),\n",
    "                                axis=-1)>0)\n",
    "    # if particle has a cousin that is a neutrino\n",
    "    has_neutrino_cousin = (ak.sum(((grandchildren_flat%2==1) & (grandchildren_flat>10) & (grandchildren_flat<19)),\n",
    "                                  axis=-1)>0)\n",
    "\n",
    "    # if a particle has a lepton cousin and a neutrino cousin\n",
    "    has_both_cousins = ak.fill_none((has_lepton_cousin & has_neutrino_cousin), False).to_numpy()\n",
    "\n",
    "    # get labels from parent pdgId (fill none with 100 to filter out events with those jets)\n",
    "    labels = np.abs(ak.fill_none(parent_pdgid,100).to_numpy())\n",
    "    labels[has_both_cousins] = -6 # assign jets with both cousins as top_lepton (not necessarily antiparticle)\n",
    "\n",
    "    training_event_filter = (np.sum(labels,axis=1)==48) # events with a label sum of 48 have the correct particles\n",
    "            \n",
    "    # filter events\n",
    "    jets = jets[training_event_filter]\n",
    "    electrons = electrons[training_event_filter]\n",
    "    muons = muons[training_event_filter]\n",
    "    labels = labels[training_event_filter]\n",
    "    even = even[training_event_filter]\n",
    "    \n",
    "    return jets, electrons, muons, labels, even\n"
   ]
  },
  {
   "cell_type": "markdown",
   "metadata": {},
   "source": []
  },
  {
   "cell_type": "code",
   "execution_count": 31,
   "metadata": {},
   "outputs": [],
   "source": [
    "selected_electrons = events.Electron[(events.Electron.pt > 30) & (np.abs(events.Electron.eta)<2.1) & \n",
    "                                        (events.Electron.cutBased==4) & (events.Electron.sip3d < 4)]\n",
    "selected_muons = events.Muon[(events.Muon.pt > 30) & (np.abs(events.Muon.eta)<2.1) & (events.Muon.tightId) & \n",
    "                                (events.Muon.sip3d < 4) & (events.Muon.pfRelIso04_all < 0.15)]\n",
    "jet_filter = (events.Jet.pt > 30) & (np.abs(events.Jet.eta) < 2.4) & (events.Jet.isTightLeptonVeto)\n",
    "selected_jets = events.Jet[jet_filter]\n",
    "selected_genpart = events.GenPart\n",
    "even = (events.event%2==0)\n",
    "    \n",
    "# single lepton requirement\n",
    "event_filters = ((ak.count(selected_electrons.pt, axis=1) + ak.count(selected_muons.pt, axis=1)) == 1)\n",
    "# require at least 4 jets\n",
    "event_filters = event_filters & (ak.count(selected_jets.pt, axis=1) >= 4)\n",
    "# require at least one jet above B_TAG_THRESHOLD\n",
    "B_TAG_THRESHOLD = 0.5\n",
    "event_filters = event_filters & (ak.sum(selected_jets.btagCSVV2 >= B_TAG_THRESHOLD, axis=1) >= 1)\n",
    "    \n",
    "# apply event filters\n",
    "selected_electrons = selected_electrons[event_filters]\n",
    "selected_muons = selected_muons[event_filters]\n",
    "selected_jets = selected_jets[event_filters]\n",
    "selected_genpart = selected_genpart[event_filters]\n",
    "even = even[event_filters]\n",
    "    \n",
    "### only consider 4j2b (signal) region\n",
    "region_filter = ak.sum(selected_jets.btagCSVV2 > B_TAG_THRESHOLD, axis=1) >= 2 # at least two b-tagged jets\n",
    "selected_jets_region = selected_jets[region_filter][:,:4] # only keep top 4 jets\n",
    "selected_electrons_region = selected_electrons[region_filter]\n",
    "selected_muons_region = selected_muons[region_filter]\n",
    "selected_genpart_region = selected_genpart[region_filter]\n",
    "even = even[region_filter]\n",
    "    \n",
    "# filter events and calculate labels\n",
    "jets, electrons, muons, labels, even = training_filter(selected_jets_region, \n",
    "                                                                selected_electrons_region, \n",
    "                                                                selected_muons_region, \n",
    "                                                                selected_genpart_region,\n",
    "                                                                even)"
   ]
  },
  {
   "cell_type": "code",
   "execution_count": null,
   "metadata": {},
   "outputs": [],
   "source": []
  }
 ],
 "metadata": {
  "kernelspec": {
   "display_name": "Python 3",
   "language": "python",
   "name": "python3"
  },
  "language_info": {
   "codemirror_mode": {
    "name": "ipython",
    "version": 3
   },
   "file_extension": ".py",
   "mimetype": "text/x-python",
   "name": "python",
   "nbconvert_exporter": "python",
   "pygments_lexer": "ipython3",
   "version": "3.10.13"
  }
 },
 "nbformat": 4,
 "nbformat_minor": 2
}
