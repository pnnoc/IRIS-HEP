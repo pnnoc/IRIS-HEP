{
 "cells": [
  {
   "cell_type": "code",
   "execution_count": 2,
   "id": "3d6aa6b7",
   "metadata": {},
   "outputs": [
    {
     "name": "stdout",
     "output_type": "stream",
     "text": [
      "============================================================\n",
      "| Structure for training_SPANet_08.h5 \n",
      "============================================================\n",
      "\n",
      "|-CLASSIFICATION                \n",
      "|-INPUTS                        \n",
      "|---Met                         \n",
      "|-----cos_phi                    :: float32  : (1740132,)\n",
      "|-----sin_phi                    :: float32  : (1740132,)\n",
      "|-----sumet                      :: float32  : (1740132,)\n",
      "|---Momenta                     \n",
      "|-----MASK                       :: bool     : (1740132, 17)\n",
      "|-----btag                       :: float64  : (1740132, 17)\n",
      "|-----cos_phi                    :: float64  : (1740132, 17)\n",
      "|-----eta                        :: float64  : (1740132, 17)\n",
      "|-----mass                       :: float64  : (1740132, 17)\n",
      "|-----pt                         :: float64  : (1740132, 17)\n",
      "|-----sin_phi                    :: float64  : (1740132, 17)\n",
      "|-PERMUTATION                   \n",
      "|-REGRESSION                    \n",
      "|-TARGETS                       \n",
      "|---ht                          \n",
      "|-----b                          :: int64    : (1740132,)\n",
      "|-----q1                         :: int64    : (1740132,)\n",
      "|-----q2                         :: int64    : (1740132,)\n",
      "|---lt                          \n",
      "|-----b                          :: int64    : (1740132,)\n",
      "|-----l                          :: int64    : (1740132,)\n",
      "\n"
     ]
    }
   ],
   "source": [
    "%%bash\n",
    "python utils/examine_hdf5.py training_SPANet_08.h5 --shape"
   ]
  },
  {
   "cell_type": "code",
   "execution_count": 4,
   "id": "cfee4c2f",
   "metadata": {},
   "outputs": [
    {
     "name": "stdout",
     "output_type": "stream",
     "text": [
      "============================================================\n",
      "| Structure for testing_SPANet_02.h5 \n",
      "============================================================\n",
      "\n",
      "|-CLASSIFICATION                \n",
      "|-INPUTS                        \n",
      "|---Met                         \n",
      "|-----cos_phi                    :: float32  : (440691,)\n",
      "|-----sin_phi                    :: float32  : (440691,)\n",
      "|-----sumet                      :: float32  : (440691,)\n",
      "|---Momenta                     \n",
      "|-----MASK                       :: bool     : (440691, 17)\n",
      "|-----btag                       :: float64  : (440691, 17)\n",
      "|-----cos_phi                    :: float64  : (440691, 17)\n",
      "|-----eta                        :: float64  : (440691, 17)\n",
      "|-----mass                       :: float64  : (440691, 17)\n",
      "|-----pt                         :: float64  : (440691, 17)\n",
      "|-----sin_phi                    :: float64  : (440691, 17)\n",
      "|-PERMUTATION                   \n",
      "|-REGRESSION                    \n",
      "|-TARGETS                       \n",
      "|---ht                          \n",
      "|-----b                          :: int64    : (440691,)\n",
      "|-----q1                         :: int64    : (440691,)\n",
      "|-----q2                         :: int64    : (440691,)\n",
      "|---lt                          \n",
      "|-----b                          :: int64    : (440691,)\n",
      "|-----l                          :: int64    : (440691,)\n",
      "\n"
     ]
    }
   ],
   "source": [
    "%%bash\n",
    "python utils/examine_hdf5.py testing_SPANet_02.h5 --shape"
   ]
  },
  {
   "cell_type": "code",
   "execution_count": null,
   "id": "1f70d087",
   "metadata": {},
   "outputs": [],
   "source": []
  }
 ],
 "metadata": {
  "kernelspec": {
   "display_name": "Python 3",
   "language": "python",
   "name": "python3"
  },
  "language_info": {
   "codemirror_mode": {
    "name": "ipython",
    "version": 3
   },
   "file_extension": ".py",
   "mimetype": "text/x-python",
   "name": "python",
   "nbconvert_exporter": "python",
   "pygments_lexer": "ipython3",
   "version": "3.9.12"
  }
 },
 "nbformat": 4,
 "nbformat_minor": 5
}
