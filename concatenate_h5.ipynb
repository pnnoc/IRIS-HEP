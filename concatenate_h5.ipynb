{
 "cells": [
  {
   "cell_type": "code",
   "execution_count": 1,
   "id": "2e0b5b5c",
   "metadata": {},
   "outputs": [],
   "source": [
    "import numpy as np\n",
    "import h5py"
   ]
  },
  {
   "cell_type": "code",
   "execution_count": 6,
   "id": "8ebdd4ea",
   "metadata": {},
   "outputs": [
    {
     "name": "stdout",
     "output_type": "stream",
     "text": [
      "============================================================\n",
      "| Structure for training_SPANet_input_v1.h5 \n",
      "============================================================\n",
      "\n",
      "|-CLASSIFICATION                \n",
      "|-INPUTS                        \n",
      "|---Met                         \n",
      "|-----cos_phi                    :: float32  : (829977,)\n",
      "|-----sin_phi                    :: float32  : (829977,)\n",
      "|-----sumet                      :: float32  : (829977,)\n",
      "|---Momenta                     \n",
      "|-----MASK                       :: bool     : (829977, 17)\n",
      "|-----btag                       :: float64  : (829977, 17)\n",
      "|-----cos_phi                    :: float64  : (829977, 17)\n",
      "|-----eta                        :: float64  : (829977, 17)\n",
      "|-----mass                       :: float64  : (829977, 17)\n",
      "|-----pt                         :: float64  : (829977, 17)\n",
      "|-----sin_phi                    :: float64  : (829977, 17)\n",
      "|-PERMUTATION                   \n",
      "|-REGRESSION                    \n",
      "|-TARGETS                       \n",
      "|---ht                          \n",
      "|-----b                          :: int64    : (829977,)\n",
      "|-----q1                         :: int64    : (829977,)\n",
      "|-----q2                         :: int64    : (829977,)\n",
      "|---lt                          \n",
      "|-----b                          :: int64    : (829977,)\n",
      "|-----l                          :: int64    : (829977,)\n",
      "\n"
     ]
    }
   ],
   "source": [
    "%%bash\n",
    "python utils/examine_hdf5.py training_SPANet_input_v1.h5 --shape"
   ]
  },
  {
   "cell_type": "code",
   "execution_count": 7,
   "id": "b402fa7c",
   "metadata": {},
   "outputs": [
    {
     "name": "stdout",
     "output_type": "stream",
     "text": [
      "============================================================\n",
      "| Structure for training_SPANet_input_v2.h5 \n",
      "============================================================\n",
      "\n",
      "|-CLASSIFICATION                \n",
      "|-INPUTS                        \n",
      "|---Met                         \n",
      "|-----cos_phi                    :: float32  : (1349032,)\n",
      "|-----sin_phi                    :: float32  : (1349032,)\n",
      "|-----sumet                      :: float32  : (1349032,)\n",
      "|---Momenta                     \n",
      "|-----MASK                       :: bool     : (1349032, 17)\n",
      "|-----btag                       :: float64  : (1349032, 17)\n",
      "|-----cos_phi                    :: float64  : (1349032, 17)\n",
      "|-----eta                        :: float64  : (1349032, 17)\n",
      "|-----mass                       :: float64  : (1349032, 17)\n",
      "|-----pt                         :: float64  : (1349032, 17)\n",
      "|-----sin_phi                    :: float64  : (1349032, 17)\n",
      "|-PERMUTATION                   \n",
      "|-REGRESSION                    \n",
      "|-TARGETS                       \n",
      "|---ht                          \n",
      "|-----b                          :: int64    : (1349032,)\n",
      "|-----q1                         :: int64    : (1349032,)\n",
      "|-----q2                         :: int64    : (1349032,)\n",
      "|---lt                          \n",
      "|-----b                          :: int64    : (1349032,)\n",
      "|-----l                          :: int64    : (1349032,)\n",
      "\n"
     ]
    }
   ],
   "source": [
    "%%bash\n",
    "python utils/examine_hdf5.py training_SPANet_input_v2.h5 --shape"
   ]
  },
  {
   "cell_type": "code",
   "execution_count": 11,
   "id": "f1e68d45",
   "metadata": {},
   "outputs": [],
   "source": []
  },
  {
   "cell_type": "code",
   "execution_count": 27,
   "id": "35411026",
   "metadata": {},
   "outputs": [],
   "source": [
    "def concatenate_data(data_list):\n",
    "    return np.concatenate(data_list, axis=0)"
   ]
  },
  {
   "cell_type": "code",
   "execution_count": null,
   "id": "0badfddd",
   "metadata": {},
   "outputs": [],
   "source": [
    "file_path = [\n",
    "    \n",
    "]"
   ]
  },
  {
   "cell_type": "code",
   "execution_count": 29,
   "id": "b765c12a",
   "metadata": {},
   "outputs": [],
   "source": [
    "#Concatenation file\n",
    "\n",
    "# file_paths = ['training_SPANet_structure.h5', 'training_SPANet_structure_ext3-v1_00000_0002.h5', 'training_SPANet_structure_ext3-v1_00000_0003.h5', 'training_SPANet_structure_ext3-v1_00000_0004.h5', 'training_SPANet_structure_ext3-v1_00000_0005.h5']\n",
    "output_file_path = 'training_SPANet_input.h5'\n",
    "\n",
    "data = {\n",
    "    'CLASSIFICATION': {},\n",
    "    'INPUTS': {'Met': {}, 'Momenta': {}},\n",
    "    'PERMUTATION': {},\n",
    "    'REGRESSION': {},\n",
    "    'TARGETS': {'ht': {}, 'lt': {}}\n",
    "}\n",
    "\n",
    "# Read data from each file and store it in the dictionaries\n",
    "for file_path in file_paths:\n",
    "    with h5py.File(file_path, 'r') as f:\n",
    "        for group_name, group in data.items():\n",
    "            for subgroup_name, subgroup in group.items():\n",
    "                for dataset_name in f[group_name][subgroup_name].keys():\n",
    "                    if dataset_name not in subgroup:\n",
    "                        subgroup[dataset_name] = []\n",
    "                    subgroup[dataset_name].append(f[group_name][subgroup_name][dataset_name][:])\n",
    "\n",
    "# Concatenate data for each dataset\n",
    "for group_name, group in data.items():\n",
    "    for subgroup_name, subgroup in group.items():\n",
    "        for dataset_name, datasets in subgroup.items():\n",
    "            data[group_name][subgroup_name][dataset_name] = concatenate_data(datasets)\n",
    "\n",
    "# Write the concatenated data to a new HDF5 file\n",
    "with h5py.File(output_file_path, 'w') as f:\n",
    "    for group_name, group in data.items():\n",
    "        group_obj = f.create_group(group_name)\n",
    "        for subgroup_name, subgroup in group.items():\n",
    "            subgroup_obj = group_obj.create_group(subgroup_name)\n",
    "            for dataset_name, dataset_data in subgroup.items():\n",
    "                subgroup_obj.create_dataset(dataset_name, data=dataset_data)"
   ]
  },
  {
   "cell_type": "code",
   "execution_count": 1,
   "id": "2ef96e70",
   "metadata": {},
   "outputs": [
    {
     "name": "stdout",
     "output_type": "stream",
     "text": [
      "============================================================\n",
      "| Structure for training_concatenated.h5 \n",
      "============================================================\n",
      "\n",
      "|-CLASSIFICATION                \n",
      "|-INPUTS                        \n",
      "|---Met                         \n",
      "|-----cos_phi                    :: float32  : (40840,)\n",
      "|-----sin_phi                    :: float32  : (40840,)\n",
      "|-----sumet                      :: float32  : (40840,)\n",
      "|---Momenta                     \n",
      "|-----MASK                       :: bool     : (40840, 14)\n",
      "|-----btag                       :: float64  : (40840, 14)\n",
      "|-----cos_phi                    :: float64  : (40840, 14)\n",
      "|-----eta                        :: float64  : (40840, 14)\n",
      "|-----mass                       :: float64  : (40840, 14)\n",
      "|-----pt                         :: float64  : (40840, 14)\n",
      "|-----sin_phi                    :: float64  : (40840, 14)\n",
      "|-PERMUTATION                   \n",
      "|-REGRESSION                    \n",
      "|-TARGETS                       \n",
      "|---ht                          \n",
      "|-----b                          :: int64    : (40840,)\n",
      "|-----q1                         :: int64    : (40840,)\n",
      "|-----q2                         :: int64    : (40840,)\n",
      "|---lt                          \n",
      "|-----b                          :: int64    : (40840,)\n",
      "|-----l                          :: int64    : (40840,)\n",
      "\n"
     ]
    }
   ],
   "source": [
    "%%bash\n",
    "python utils/examine_hdf5.py training_concatenated.h5 --shape"
   ]
  },
  {
   "cell_type": "code",
   "execution_count": null,
   "id": "c6fde9e4",
   "metadata": {},
   "outputs": [],
   "source": []
  }
 ],
 "metadata": {
  "kernelspec": {
   "display_name": "Python 3",
   "language": "python",
   "name": "python3"
  },
  "language_info": {
   "codemirror_mode": {
    "name": "ipython",
    "version": 3
   },
   "file_extension": ".py",
   "mimetype": "text/x-python",
   "name": "python",
   "nbconvert_exporter": "python",
   "pygments_lexer": "ipython3",
   "version": "3.9.12"
  }
 },
 "nbformat": 4,
 "nbformat_minor": 5
}
