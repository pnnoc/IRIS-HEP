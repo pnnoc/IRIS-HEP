{
 "cells": [
  {
   "cell_type": "code",
   "execution_count": null,
   "metadata": {},
   "outputs": [],
   "source": []
  },
  {
   "cell_type": "markdown",
   "metadata": {},
   "source": [
    "Attention: dealing with jets symmetries (quark)\n",
    "\n",
    "Special Loss function: dealing with particle symmetries (top and anti-top)\n",
    "\n",
    "Tensor Attention: endoding the symmetries"
   ]
  },
  {
   "cell_type": "markdown",
   "metadata": {},
   "source": [
    "Input: unordered jets\n",
    "Outpu: one head per particle"
   ]
  },
  {
   "cell_type": "code",
   "execution_count": 2,
   "metadata": {},
   "outputs": [],
   "source": [
    "import h5py\n",
    "from coffea.nanoevents import NanoEventsFactory, NanoAODSchema\n",
    "import awkward as ak\n",
    "import numpy as np"
   ]
  },
  {
   "cell_type": "markdown",
   "metadata": {},
   "source": [
    "### Data Construction"
   ]
  },
  {
   "cell_type": "markdown",
   "metadata": {},
   "source": []
  },
  {
   "cell_type": "code",
   "execution_count": 3,
   "metadata": {},
   "outputs": [
    {
     "name": "stdout",
     "output_type": "stream",
     "text": [
      "<KeysViewHDF5 ['INPUTS', 'TARGETS']>\n"
     ]
    },
    {
     "data": {
      "text/plain": [
       "<KeysViewHDF5 ['MASK', 'btag', 'eta', 'mass', 'phi', 'pt']>"
      ]
     },
     "execution_count": 3,
     "metadata": {},
     "output_type": "execute_result"
    }
   ],
   "source": [
    "#testing reading h5 file\n",
    "filename = '/Users/con_np/Desktop/IRIS-HEP/SPANet/data/full_hadronic_ttbar/example.h5'\n",
    "# with h5py.File(filename, 'r') as f:\n",
    "#     print('Key:', f.keys())\n",
    "\n",
    "f = h5py.File(filename, 'r')\n",
    "print(f.keys())\n",
    "f['INPUTS'].keys(), f['TARGETS'].keys()\n",
    "f['INPUTS']['Source'].keys() # <KeysViewHDF5 ['MASK', 'btag', 'eta', 'mass', 'phi', 'pt']>"
   ]
  },
  {
   "cell_type": "code",
   "execution_count": 4,
   "metadata": {},
   "outputs": [
    {
     "data": {
      "text/plain": [
       "['MASK', 'btag', 'eta', 'mass', 'phi', 'pt']"
      ]
     },
     "execution_count": 4,
     "metadata": {},
     "output_type": "execute_result"
    }
   ],
   "source": [
    "list(f['INPUTS']['Source'].keys())\n",
    "# f['INPUTS']['Source']['pt'].shape"
   ]
  },
  {
   "cell_type": "code",
   "execution_count": 5,
   "metadata": {},
   "outputs": [
    {
     "data": {
      "text/plain": [
       "(array([ True,  True,  True,  True,  True,  True,  True,  True, False,\n",
       "        False]),\n",
       " array([50.61789 , 45.034477, 36.778576, 34.147022, 32.926132, 32.87439 ,\n",
       "        26.713516, 24.644855,  0.      ,  0.      ], dtype=float32))"
      ]
     },
     "execution_count": 5,
     "metadata": {},
     "output_type": "execute_result"
    }
   ],
   "source": [
    "f['INPUTS']['Source']['MASK'][2], f['INPUTS']['Source']['pt'][2]"
   ]
  },
  {
   "cell_type": "code",
   "execution_count": 39,
   "metadata": {},
   "outputs": [
    {
     "name": "stdout",
     "output_type": "stream",
     "text": [
      "[2, 0, 1, 3, 4, 5, 6, -1]\n"
     ]
    }
   ],
   "source": [
    "un = []\n",
    "for label in f['TARGETS']['t1']['b'][:]:\n",
    "    if label not in un:\n",
    "        un.append(label)\n",
    "\n",
    "print(un)\n",
    "# what does each label represent"
   ]
  },
  {
   "cell_type": "code",
   "execution_count": 59,
   "metadata": {},
   "outputs": [
    {
     "name": "stdout",
     "output_type": "stream",
     "text": [
      "t1 (b,q1,q2): 0 -1 1\n",
      "t2 (b,q1,q2): 4 6 3\n"
     ]
    }
   ],
   "source": [
    "event = 2\n",
    "print('t1 (b,q1,q2):', f['TARGETS']['t1']['b'][event], f['TARGETS']['t1']['q1'][event], f['TARGETS']['t1']['q2'][event]) \n",
    "print('t2 (b,q1,q2):', f['TARGETS']['t2']['b'][event], f['TARGETS']['t2']['q1'][event], f['TARGETS']['t2']['q2'][event]) "
   ]
  },
  {
   "cell_type": "code",
   "execution_count": 46,
   "metadata": {},
   "outputs": [
    {
     "name": "stderr",
     "output_type": "stream",
     "text": [
      "/Users/con_np/micromamba/envs/r3k_bdttools/lib/python3.10/site-packages/coffea/nanoevents/schemas/nanoaod.py:201: RuntimeWarning: Missing cross-reference index for FatJet_subJetIdx1 => SubJet\n",
      "  warnings.warn(\n",
      "/Users/con_np/micromamba/envs/r3k_bdttools/lib/python3.10/site-packages/coffea/nanoevents/schemas/nanoaod.py:201: RuntimeWarning: Missing cross-reference index for FatJet_subJetIdx2 => SubJet\n",
      "  warnings.warn(\n"
     ]
    }
   ],
   "source": [
    "#writing h5\n",
    "file_path = 'https://xrootd-local.unl.edu:1094//store/user/AGC/nanoAOD/TT_TuneCUETP8M1_13TeV-powheg-pythia8/cmsopendata2015_ttbar_19980_PU25nsData2015v1_76X_mcRun2_asymptotic_v12_ext3-v1_00000_0000.root'\n",
    "tree_name = 'Events'\n",
    "# events = NanoEventsFactory.from_root({file_path: tree_name}, schemaclass=NanoAODSchema).events()\n",
    "events = NanoEventsFactory.from_root(file_path, treepath=tree_name, schemaclass=NanoAODSchema).events()"
   ]
  },
  {
   "cell_type": "code",
   "execution_count": 47,
   "metadata": {},
   "outputs": [],
   "source": [
    "Jet = events.Jet\n",
    "Electron = events.Electron\n",
    "Muon = events.Muon"
   ]
  },
  {
   "cell_type": "code",
   "execution_count": 48,
   "metadata": {},
   "outputs": [
    {
     "data": {
      "text/plain": [
       "<Array [11, 9, 6, 7, 6, ... 8, 9, 9, 11, 11] type='1334428 * int64'>"
      ]
     },
     "execution_count": 48,
     "metadata": {},
     "output_type": "execute_result"
    }
   ],
   "source": [
    "(ak.num(Jet, axis=1)) # maximm number of jet is 24 and minimum is 1"
   ]
  },
  {
   "cell_type": "markdown",
   "metadata": {},
   "source": [
    "### Attention"
   ]
  },
  {
   "cell_type": "markdown",
   "metadata": {},
   "source": [
    "### Loss"
   ]
  },
  {
   "cell_type": "markdown",
   "metadata": {},
   "source": [
    "### Training"
   ]
  },
  {
   "cell_type": "markdown",
   "metadata": {},
   "source": []
  },
  {
   "cell_type": "markdown",
   "metadata": {},
   "source": [
    "### Testing"
   ]
  },
  {
   "cell_type": "markdown",
   "metadata": {},
   "source": []
  }
 ],
 "metadata": {
  "kernelspec": {
   "display_name": "Python 3",
   "language": "python",
   "name": "python3"
  },
  "language_info": {
   "codemirror_mode": {
    "name": "ipython",
    "version": 3
   },
   "file_extension": ".py",
   "mimetype": "text/x-python",
   "name": "python",
   "nbconvert_exporter": "python",
   "pygments_lexer": "ipython3",
   "version": "3.10.13"
  }
 },
 "nbformat": 4,
 "nbformat_minor": 2
}
