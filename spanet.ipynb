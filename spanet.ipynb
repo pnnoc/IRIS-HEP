{
 "cells": [
  {
   "cell_type": "code",
   "execution_count": null,
   "metadata": {},
   "outputs": [],
   "source": []
  },
  {
   "cell_type": "markdown",
   "metadata": {},
   "source": [
    "Attention: dealing with jets symmetries (quark)\n",
    "\n",
    "Special Loss function: dealing with particle symmetries (top and anti-top)\n",
    "\n",
    "Tensor Attention: endoding the symmetries"
   ]
  },
  {
   "cell_type": "markdown",
   "metadata": {},
   "source": [
    "Input: unordered jets\n",
    "Outpu: one head per particle"
   ]
  },
  {
   "cell_type": "code",
   "execution_count": 2,
   "metadata": {},
   "outputs": [],
   "source": [
    "import h5py\n",
    "from coffea.nanoevents import NanoEventsFactory, NanoAODSchema\n",
    "import awkward as ak\n",
    "import numpy as np"
   ]
  },
  {
   "cell_type": "markdown",
   "metadata": {},
   "source": [
    "### Data Construction"
   ]
  },
  {
   "cell_type": "markdown",
   "metadata": {},
   "source": []
  },
  {
   "cell_type": "code",
   "execution_count": 3,
   "metadata": {},
   "outputs": [
    {
     "name": "stdout",
     "output_type": "stream",
     "text": [
      "<KeysViewHDF5 ['INPUTS', 'TARGETS']>\n"
     ]
    },
    {
     "data": {
      "text/plain": [
       "<KeysViewHDF5 ['MASK', 'btag', 'eta', 'mass', 'phi', 'pt']>"
      ]
     },
     "execution_count": 3,
     "metadata": {},
     "output_type": "execute_result"
    }
   ],
   "source": [
    "#testing reading h5 file\n",
    "filename = '/Users/con_np/Desktop/IRIS-HEP/SPANet/data/full_hadronic_ttbar/example.h5'\n",
    "# with h5py.File(filename, 'r') as f:\n",
    "#     print('Key:', f.keys())\n",
    "\n",
    "f = h5py.File(filename, 'r')\n",
    "print(f.keys())\n",
    "f['INPUTS'].keys(), f['TARGETS'].keys()\n",
    "f['INPUTS']['Source'].keys() # <KeysViewHDF5 ['MASK', 'btag', 'eta', 'mass', 'phi', 'pt']>"
   ]
  },
  {
   "cell_type": "code",
   "execution_count": 4,
   "metadata": {},
   "outputs": [
    {
     "data": {
      "text/plain": [
       "['MASK', 'btag', 'eta', 'mass', 'phi', 'pt']"
      ]
     },
     "execution_count": 4,
     "metadata": {},
     "output_type": "execute_result"
    }
   ],
   "source": [
    "list(f['INPUTS']['Source'].keys())\n",
    "# f['INPUTS']['Source']['pt'].shape"
   ]
  },
  {
   "cell_type": "code",
   "execution_count": 75,
   "metadata": {},
   "outputs": [
    {
     "data": {
      "text/plain": [
       "(array([ True,  True,  True,  True,  True,  True,  True,  True, False,\n",
       "        False]),\n",
       " array([1., 0., 0., 0., 1., 1., 0., 0., 0., 0.], dtype=float32))"
      ]
     },
     "execution_count": 75,
     "metadata": {},
     "output_type": "execute_result"
    }
   ],
   "source": [
    "f['INPUTS']['Source']['MASK'][2], f['INPUTS']['Source']['btag'][2]"
   ]
  },
  {
   "cell_type": "code",
   "execution_count": 39,
   "metadata": {},
   "outputs": [
    {
     "name": "stdout",
     "output_type": "stream",
     "text": [
      "[2, 0, 1, 3, 4, 5, 6, -1]\n"
     ]
    }
   ],
   "source": [
    "un = []\n",
    "for label in f['TARGETS']['t1']['b'][:]:\n",
    "    if label not in un:\n",
    "        un.append(label)\n",
    "\n",
    "print(un)\n",
    "# what does each label represent"
   ]
  },
  {
   "cell_type": "code",
   "execution_count": 59,
   "metadata": {},
   "outputs": [
    {
     "name": "stdout",
     "output_type": "stream",
     "text": [
      "t1 (b,q1,q2): 0 -1 1\n",
      "t2 (b,q1,q2): 4 6 3\n"
     ]
    }
   ],
   "source": [
    "event = 2\n",
    "print('t1 (b,q1,q2):', f['TARGETS']['t1']['b'][event], f['TARGETS']['t1']['q1'][event], f['TARGETS']['t1']['q2'][event]) \n",
    "print('t2 (b,q1,q2):', f['TARGETS']['t2']['b'][event], f['TARGETS']['t2']['q1'][event], f['TARGETS']['t2']['q2'][event]) "
   ]
  },
  {
   "cell_type": "code",
   "execution_count": 46,
   "metadata": {},
   "outputs": [
    {
     "name": "stderr",
     "output_type": "stream",
     "text": [
      "/Users/con_np/micromamba/envs/r3k_bdttools/lib/python3.10/site-packages/coffea/nanoevents/schemas/nanoaod.py:201: RuntimeWarning: Missing cross-reference index for FatJet_subJetIdx1 => SubJet\n",
      "  warnings.warn(\n",
      "/Users/con_np/micromamba/envs/r3k_bdttools/lib/python3.10/site-packages/coffea/nanoevents/schemas/nanoaod.py:201: RuntimeWarning: Missing cross-reference index for FatJet_subJetIdx2 => SubJet\n",
      "  warnings.warn(\n"
     ]
    }
   ],
   "source": [
    "#writing h5\n",
    "file_path = 'https://xrootd-local.unl.edu:1094//store/user/AGC/nanoAOD/TT_TuneCUETP8M1_13TeV-powheg-pythia8/cmsopendata2015_ttbar_19980_PU25nsData2015v1_76X_mcRun2_asymptotic_v12_ext3-v1_00000_0000.root'\n",
    "tree_name = 'Events'\n",
    "# events = NanoEventsFactory.from_root({file_path: tree_name}, schemaclass=NanoAODSchema).events()\n",
    "events = NanoEventsFactory.from_root(file_path, treepath=tree_name, schemaclass=NanoAODSchema).events()"
   ]
  },
  {
   "cell_type": "code",
   "execution_count": 61,
   "metadata": {},
   "outputs": [],
   "source": [
    "#code from jetassignment_training\n",
    "# events filtering\n",
    "selected_electrons = events.Electron[(events.Electron.pt > 30) & (np.abs(events.Electron.eta)<2.1) & \n",
    "                                        (events.Electron.cutBased==4) & (events.Electron.sip3d < 4)]\n",
    "selected_muons = events.Muon[(events.Muon.pt > 30) & (np.abs(events.Muon.eta)<2.1) & (events.Muon.tightId) & \n",
    "                                (events.Muon.sip3d < 4) & (events.Muon.pfRelIso04_all < 0.15)]\n",
    "jet_filter = (events.Jet.pt > 30) & (np.abs(events.Jet.eta) < 2.4) & (events.Jet.isTightLeptonVeto)\n",
    "selected_jets = events.Jet[jet_filter]\n",
    "selected_genpart = events.GenPart\n",
    "even = (events.event%2==0)\n",
    "    \n",
    "# single lepton requirement\n",
    "event_filters = ((ak.count(selected_electrons.pt, axis=1) + ak.count(selected_muons.pt, axis=1)) == 1)\n",
    "# require at least 4 jets\n",
    "event_filters = event_filters & (ak.count(selected_jets.pt, axis=1) >= 4)\n",
    "# require at least one jet above B_TAG_THRESHOLD\n",
    "B_TAG_THRESHOLD = 0.5\n",
    "event_filters = event_filters & (ak.sum(selected_jets.btagCSVV2 >= B_TAG_THRESHOLD, axis=1) >= 1)\n",
    "    \n",
    "# apply event filters\n",
    "selected_electrons = selected_electrons[event_filters]\n",
    "selected_muons = selected_muons[event_filters]\n",
    "selected_jets = selected_jets[event_filters]\n",
    "selected_genpart = selected_genpart[event_filters]\n",
    "even = even[event_filters]\n",
    "    \n",
    "### only consider 4j2b (signal) region\n",
    "region_filter = ak.sum(selected_jets.btagCSVV2 > B_TAG_THRESHOLD, axis=1) >= 2 # at least two b-tagged jets\n",
    "selected_jets_region = selected_jets[region_filter][:,:10] # only keep top 10 jets\n",
    "selected_electrons_region = selected_electrons[region_filter]\n",
    "selected_muons_region = selected_muons[region_filter]\n",
    "selected_genpart_region = selected_genpart[region_filter]\n",
    "even = even[region_filter]"
   ]
  },
  {
   "cell_type": "code",
   "execution_count": 197,
   "metadata": {},
   "outputs": [],
   "source": [
    "def pad_array(array, max_jets=10, pad_value=0):\n",
    "    padded_array = ak.pad_none(array, max_jets, axis=1)\n",
    "    padded_array_filled = ak.fill_none(padded_array, pad_value, axis=1)\n",
    "    return padded_array_filled"
   ]
  },
  {
   "cell_type": "code",
   "execution_count": 198,
   "metadata": {},
   "outputs": [],
   "source": [
    "#creating padded features for each event\n",
    "Jets_pt_padded = pad_array(selected_jets_region.pt)\n",
    "Jets_mass_padded = pad_array(selected_jets_region.mass)\n",
    "Jets_eta_padded = pad_array(selected_jets_region.eta)\n",
    "Jets_phi_padded = pad_array(selected_jets_region.phi)\n",
    "Jets_btag_padded = pad_array(selected_jets_region.btagCSVV2)\n",
    "Jets_qgl_padded = pad_array(selected_jets_region.qgl)\n",
    "\n",
    "#lepton features (only electrons left)\n",
    "lep_pt_padded = pad_array(selected_electrons_region.pt)\n",
    "lep_mass_padded = pad_array(selected_electrons_region.mass)\n",
    "lep_eta_padded = pad_array(selected_electrons_region.eta)\n",
    "lep_phi_padded = pad_array(selected_electrons_region.phi)"
   ]
  },
  {
   "cell_type": "code",
   "execution_count": 199,
   "metadata": {},
   "outputs": [],
   "source": [
    "#creating MASK for each event\n",
    "pad_check = ak.pad_none(selected_jets_region.pt, 10, axis=1)\n",
    "Jets_mask_padded = np.invert(ak.is_none(pad_check, axis=1))\n"
   ]
  },
  {
   "cell_type": "code",
   "execution_count": 200,
   "metadata": {},
   "outputs": [],
   "source": [
    "#preparing sequential data for h5 file\n",
    "jet_data = {\n",
    "    'mask': Jets_mask_padded,\n",
    "    'mass': Jets_mass_padded,\n",
    "    'pt': Jets_pt_padded,\n",
    "    'eta': Jets_eta_padded,\n",
    "    'phi': Jets_phi_padded,\n",
    "    'btag': Jets_btag_padded,\n",
    "    'qgl': Jets_qgl_padded,\n",
    "}\n",
    "\n",
    "lep_data = {\n",
    "    'mass':lep_mass_padded,\n",
    "    'pt':lep_pt_padded,\n",
    "    'eta':lep_eta_padded,\n",
    "    'phi':lep_phi_padded\n",
    "}"
   ]
  },
  {
   "cell_type": "code",
   "execution_count": null,
   "metadata": {},
   "outputs": [],
   "source": [
    "# t1 = {'b': ,'q1': ,'q2':}\n",
    "# t2 = {'b': ,'mu': ,'nu':}"
   ]
  },
  {
   "cell_type": "code",
   "execution_count": 201,
   "metadata": {},
   "outputs": [],
   "source": [
    "#creating h5 file\n",
    "with h5py.File('test.h5', 'w') as h5file:\n",
    "    #INPUTS\n",
    "    input_group = h5file.create_group('INPUTS')\n",
    "    seq_subgroup = input_group.create_group('SEQUENTIAL')\n",
    "    global_subgroup = input_group.create_group('GLOBAL')\n",
    "\n",
    "    jet_2subgroup = seq_subgroup.create_group('Jet')\n",
    "    lept_2subgroup = seq_subgroup.create_group('Lepton')\n",
    "\n",
    "    for key, value in jet_data.items():\n",
    "        jet_2subgroup.create_dataset(key, data=ak.to_numpy(value))\n",
    "\n",
    "    for key, value in lep_data.items():\n",
    "        lept_2subgroup.create_dataset(key, data=ak.to_numpy(value))\n",
    "\n",
    "    #EVENT\n",
    "    event_group = h5file.create_group('EVENT')\n",
    "    t1_subgroup = event_group.create_group('t1')\n",
    "    t2_subgroup = event_group.create_group('t2')\n",
    "\n",
    "    #PERMUTATION\n",
    "    perm_group = h5file.create_group('PERMUTATION')\n",
    "\n",
    "    #REGRESSION\n",
    "    regression_group = h5file.create_group('REGRESSION')\n",
    "\n",
    "    #CLASSIFICATION\n",
    "    classification_group = h5file.create_group('CLASSIFICATION')"
   ]
  },
  {
   "cell_type": "code",
   "execution_count": null,
   "metadata": {},
   "outputs": [],
   "source": []
  },
  {
   "cell_type": "markdown",
   "metadata": {},
   "source": []
  },
  {
   "cell_type": "markdown",
   "metadata": {},
   "source": [
    "### Attention"
   ]
  },
  {
   "cell_type": "markdown",
   "metadata": {},
   "source": [
    "### Loss"
   ]
  },
  {
   "cell_type": "markdown",
   "metadata": {},
   "source": [
    "### Training"
   ]
  },
  {
   "cell_type": "markdown",
   "metadata": {},
   "source": []
  },
  {
   "cell_type": "markdown",
   "metadata": {},
   "source": []
  },
  {
   "cell_type": "markdown",
   "metadata": {},
   "source": [
    "### Testing"
   ]
  },
  {
   "cell_type": "markdown",
   "metadata": {},
   "source": []
  }
 ],
 "metadata": {
  "kernelspec": {
   "display_name": "Python 3",
   "language": "python",
   "name": "python3"
  },
  "language_info": {
   "codemirror_mode": {
    "name": "ipython",
    "version": 3
   },
   "file_extension": ".py",
   "mimetype": "text/x-python",
   "name": "python",
   "nbconvert_exporter": "python",
   "pygments_lexer": "ipython3",
   "version": "3.10.13"
  }
 },
 "nbformat": 4,
 "nbformat_minor": 2
}
