{
 "cells": [
  {
   "cell_type": "code",
   "execution_count": 1,
   "id": "a767e38f",
   "metadata": {},
   "outputs": [],
   "source": [
    "%load_ext rich\n",
    "\n",
    "# Basic Imports\n",
    "import torch\n",
    "import pytorch_lightning as pl\n",
    "import numpy as np\n",
    "from matplotlib import pyplot as plt\n",
    "from pytorch_lightning.callbacks import ModelCheckpoint\n",
    "\n",
    "import vector\n",
    "import tree\n",
    "from rich import progress"
   ]
  },
  {
   "cell_type": "code",
   "execution_count": 2,
   "id": "777c4e54",
   "metadata": {},
   "outputs": [],
   "source": [
    "from spanet import Options ,JetReconstructionModel\n",
    "# from helper import *"
   ]
  },
  {
   "cell_type": "code",
   "execution_count": 33,
   "id": "478a0655",
   "metadata": {},
   "outputs": [],
   "source": [
    "from helper import *"
   ]
  },
  {
   "cell_type": "code",
   "execution_count": 3,
   "id": "a4cdf529",
   "metadata": {},
   "outputs": [],
   "source": [
    "USE_GPU = True"
   ]
  },
  {
   "cell_type": "markdown",
   "id": "5bbdfa1c",
   "metadata": {},
   "source": [
    "## Load Option"
   ]
  },
  {
   "cell_type": "code",
   "execution_count": 4,
   "id": "97fe60d2",
   "metadata": {},
   "outputs": [
    {
     "data": {
      "text/html": [
       "<pre style=\"white-space:pre;overflow-x:auto;line-height:normal;font-family:Menlo,'DejaVu Sans Mono',consolas,'Courier New',monospace\"><span style=\"font-style: italic\">                                Configuration                                 </span>\n",
       "┏━━━━━━━━━━━━━━━━━━━━━━━━━━━━━━━━━━━━┳━━━━━━━━━━━━━━━━━━━━━━━━━━━━━━━━━━━━━━━┓\n",
       "┃<span style=\"color: #800080; text-decoration-color: #800080; font-weight: bold\"> Parameter                          </span>┃<span style=\"color: #800080; text-decoration-color: #800080; font-weight: bold\"> Value                                 </span>┃\n",
       "┡━━━━━━━━━━━━━━━━━━━━━━━━━━━━━━━━━━━━╇━━━━━━━━━━━━━━━━━━━━━━━━━━━━━━━━━━━━━━━┩\n",
       "│ assignment_loss_scale              │ 1.0                                   │\n",
       "│ balance_classifications            │ 0                                     │\n",
       "│ balance_jets                       │ 0                                     │\n",
       "│ balance_losses                     │ 1                                     │\n",
       "│ balance_particles                  │ 0                                     │\n",
       "│<span style=\"color: #800000; text-decoration-color: #800000\"> batch_size                         </span>│<span style=\"color: #800000; text-decoration-color: #800000\"> 512                                   </span>│\n",
       "│ classification_loss_scale          │ 0.0                                   │\n",
       "│ combinatorial_scale                │ 0.0                                   │\n",
       "│ combine_pair_loss                  │ min                                   │\n",
       "│ dataset_limit                      │ 1.0                                   │\n",
       "│ dataset_randomization              │ 0                                     │\n",
       "│<span style=\"color: #800000; text-decoration-color: #800000\"> detection_loss_scale               </span>│<span style=\"color: #800000; text-decoration-color: #800000\"> 1.0                                   </span>│\n",
       "│<span style=\"color: #800000; text-decoration-color: #800000\"> dropout                            </span>│<span style=\"color: #800000; text-decoration-color: #800000\"> 0.2                                   </span>│\n",
       "│<span style=\"color: #800000; text-decoration-color: #800000\"> epochs                             </span>│<span style=\"color: #800000; text-decoration-color: #800000\"> 500                                   </span>│\n",
       "│<span style=\"color: #800000; text-decoration-color: #800000\"> event_info_file                    </span>│<span style=\"color: #800000; text-decoration-color: #800000\"> semi_leptonic_ttbar.yaml              </span>│\n",
       "│<span style=\"color: #800000; text-decoration-color: #800000\"> focal_gamma                        </span>│<span style=\"color: #800000; text-decoration-color: #800000\"> 1.0                                   </span>│\n",
       "│ gradient_clip                      │ 0.0                                   │\n",
       "│ hidden_dim                         │ 128                                   │\n",
       "│ initial_embedding_dim              │ 16                                    │\n",
       "│ initial_embedding_skip_connections │ 1                                     │\n",
       "│ kl_loss_scale                      │ 0.0                                   │\n",
       "│<span style=\"color: #800000; text-decoration-color: #800000\"> l2_penalty                         </span>│<span style=\"color: #800000; text-decoration-color: #800000\"> 0.0002                                </span>│\n",
       "│<span style=\"color: #800000; text-decoration-color: #800000\"> learning_rate                      </span>│<span style=\"color: #800000; text-decoration-color: #800000\"> 0.0015                                </span>│\n",
       "│<span style=\"color: #800000; text-decoration-color: #800000\"> learning_rate_cycles               </span>│<span style=\"color: #800000; text-decoration-color: #800000\"> 1                                     </span>│\n",
       "│ learning_rate_warmup_epochs        │ 1.0                                   │\n",
       "│ limit_to_num_jets                  │ 0                                     │\n",
       "│<span style=\"color: #800000; text-decoration-color: #800000\"> linear_activation                  </span>│<span style=\"color: #800000; text-decoration-color: #800000\"> gelu                                  </span>│\n",
       "│ linear_block_type                  │ GRU                                   │\n",
       "│ linear_prelu_activation            │ 1                                     │\n",
       "│ mask_sequence_vectors              │ 1                                     │\n",
       "│ masking                            │ Filling                               │\n",
       "│ normalization                      │ LayerNorm                             │\n",
       "│ normalize_features                 │ 1                                     │\n",
       "│ num_attention_heads                │ 4                                     │\n",
       "│<span style=\"color: #800000; text-decoration-color: #800000\"> num_branch_embedding_layers        </span>│<span style=\"color: #800000; text-decoration-color: #800000\"> 3                                     </span>│\n",
       "│<span style=\"color: #800000; text-decoration-color: #800000\"> num_branch_encoder_layers          </span>│<span style=\"color: #800000; text-decoration-color: #800000\"> 3                                     </span>│\n",
       "│<span style=\"color: #800000; text-decoration-color: #800000\"> num_classification_layers          </span>│<span style=\"color: #800000; text-decoration-color: #800000\"> 3                                     </span>│\n",
       "│<span style=\"color: #800000; text-decoration-color: #800000\"> num_dataloader_workers             </span>│<span style=\"color: #800000; text-decoration-color: #800000\"> 16                                    </span>│\n",
       "│<span style=\"color: #800000; text-decoration-color: #800000\"> num_detector_layers                </span>│<span style=\"color: #800000; text-decoration-color: #800000\"> 2                                     </span>│\n",
       "│ num_embedding_layers               │ 10                                    │\n",
       "│<span style=\"color: #800000; text-decoration-color: #800000\"> num_encoder_layers                 </span>│<span style=\"color: #800000; text-decoration-color: #800000\"> 8                                     </span>│\n",
       "│<span style=\"color: #800000; text-decoration-color: #800000\"> num_gpu                            </span>│<span style=\"color: #800000; text-decoration-color: #800000\"> 4                                     </span>│\n",
       "│ num_jet_embedding_layers           │ 0                                     │\n",
       "│<span style=\"color: #800000; text-decoration-color: #800000\"> num_jet_encoder_layers             </span>│<span style=\"color: #800000; text-decoration-color: #800000\"> 2                                     </span>│\n",
       "│<span style=\"color: #800000; text-decoration-color: #800000\"> num_regression_layers              </span>│<span style=\"color: #800000; text-decoration-color: #800000\"> 4                                     </span>│\n",
       "│ optimizer                          │ AdamW                                 │\n",
       "│<span style=\"color: #800000; text-decoration-color: #800000\"> partial_events                     </span>│<span style=\"color: #800000; text-decoration-color: #800000\"> 1                                     </span>│\n",
       "│ position_embedding_dim             │ 32                                    │\n",
       "│<span style=\"color: #800000; text-decoration-color: #800000\"> regression_loss_scale              </span>│<span style=\"color: #800000; text-decoration-color: #800000\"> 1.0                                   </span>│\n",
       "│ skip_connections                   │ 1                                     │\n",
       "│ split_symmetric_attention          │ 1                                     │\n",
       "│<span style=\"color: #800000; text-decoration-color: #800000\"> testing_file                       </span>│<span style=\"color: #800000; text-decoration-color: #800000\"> events_h5_files/testing_SPANet_02.h5  </span>│\n",
       "│ train_validation_split             │ 0.95                                  │\n",
       "│<span style=\"color: #800000; text-decoration-color: #800000\"> training_file                      </span>│<span style=\"color: #800000; text-decoration-color: #800000\"> events_h5_files/training_SPANet_08.h5 </span>│\n",
       "│ transformer_activation             │ gelu                                  │\n",
       "│ transformer_dim                    │ 128                                   │\n",
       "│ transformer_dim_scale              │ 2.0                                   │\n",
       "│ transformer_type                   │ Gated                                 │\n",
       "│ trial_output_dir                   │ ./test_output                         │\n",
       "│ trial_time                         │                                       │\n",
       "│ usable_gpus                        │                                       │\n",
       "│ validation_file                    │                                       │\n",
       "│<span style=\"color: #800000; text-decoration-color: #800000\"> verbose_output                     </span>│<span style=\"color: #800000; text-decoration-color: #800000\"> 0                                     </span>│\n",
       "└────────────────────────────────────┴───────────────────────────────────────┘\n",
       "</pre>\n"
      ],
      "text/plain": [
       "\u001b[3m                                Configuration                                 \u001b[0m\n",
       "┏━━━━━━━━━━━━━━━━━━━━━━━━━━━━━━━━━━━━┳━━━━━━━━━━━━━━━━━━━━━━━━━━━━━━━━━━━━━━━┓\n",
       "┃\u001b[1;35m \u001b[0m\u001b[1;35mParameter                         \u001b[0m\u001b[1;35m \u001b[0m┃\u001b[1;35m \u001b[0m\u001b[1;35mValue                                \u001b[0m\u001b[1;35m \u001b[0m┃\n",
       "┡━━━━━━━━━━━━━━━━━━━━━━━━━━━━━━━━━━━━╇━━━━━━━━━━━━━━━━━━━━━━━━━━━━━━━━━━━━━━━┩\n",
       "│ assignment_loss_scale              │ 1.0                                   │\n",
       "│ balance_classifications            │ 0                                     │\n",
       "│ balance_jets                       │ 0                                     │\n",
       "│ balance_losses                     │ 1                                     │\n",
       "│ balance_particles                  │ 0                                     │\n",
       "│\u001b[31m \u001b[0m\u001b[31mbatch_size                        \u001b[0m\u001b[31m \u001b[0m│\u001b[31m \u001b[0m\u001b[31m512                                  \u001b[0m\u001b[31m \u001b[0m│\n",
       "│ classification_loss_scale          │ 0.0                                   │\n",
       "│ combinatorial_scale                │ 0.0                                   │\n",
       "│ combine_pair_loss                  │ min                                   │\n",
       "│ dataset_limit                      │ 1.0                                   │\n",
       "│ dataset_randomization              │ 0                                     │\n",
       "│\u001b[31m \u001b[0m\u001b[31mdetection_loss_scale              \u001b[0m\u001b[31m \u001b[0m│\u001b[31m \u001b[0m\u001b[31m1.0                                  \u001b[0m\u001b[31m \u001b[0m│\n",
       "│\u001b[31m \u001b[0m\u001b[31mdropout                           \u001b[0m\u001b[31m \u001b[0m│\u001b[31m \u001b[0m\u001b[31m0.2                                  \u001b[0m\u001b[31m \u001b[0m│\n",
       "│\u001b[31m \u001b[0m\u001b[31mepochs                            \u001b[0m\u001b[31m \u001b[0m│\u001b[31m \u001b[0m\u001b[31m500                                  \u001b[0m\u001b[31m \u001b[0m│\n",
       "│\u001b[31m \u001b[0m\u001b[31mevent_info_file                   \u001b[0m\u001b[31m \u001b[0m│\u001b[31m \u001b[0m\u001b[31msemi_leptonic_ttbar.yaml             \u001b[0m\u001b[31m \u001b[0m│\n",
       "│\u001b[31m \u001b[0m\u001b[31mfocal_gamma                       \u001b[0m\u001b[31m \u001b[0m│\u001b[31m \u001b[0m\u001b[31m1.0                                  \u001b[0m\u001b[31m \u001b[0m│\n",
       "│ gradient_clip                      │ 0.0                                   │\n",
       "│ hidden_dim                         │ 128                                   │\n",
       "│ initial_embedding_dim              │ 16                                    │\n",
       "│ initial_embedding_skip_connections │ 1                                     │\n",
       "│ kl_loss_scale                      │ 0.0                                   │\n",
       "│\u001b[31m \u001b[0m\u001b[31ml2_penalty                        \u001b[0m\u001b[31m \u001b[0m│\u001b[31m \u001b[0m\u001b[31m0.0002                               \u001b[0m\u001b[31m \u001b[0m│\n",
       "│\u001b[31m \u001b[0m\u001b[31mlearning_rate                     \u001b[0m\u001b[31m \u001b[0m│\u001b[31m \u001b[0m\u001b[31m0.0015                               \u001b[0m\u001b[31m \u001b[0m│\n",
       "│\u001b[31m \u001b[0m\u001b[31mlearning_rate_cycles              \u001b[0m\u001b[31m \u001b[0m│\u001b[31m \u001b[0m\u001b[31m1                                    \u001b[0m\u001b[31m \u001b[0m│\n",
       "│ learning_rate_warmup_epochs        │ 1.0                                   │\n",
       "│ limit_to_num_jets                  │ 0                                     │\n",
       "│\u001b[31m \u001b[0m\u001b[31mlinear_activation                 \u001b[0m\u001b[31m \u001b[0m│\u001b[31m \u001b[0m\u001b[31mgelu                                 \u001b[0m\u001b[31m \u001b[0m│\n",
       "│ linear_block_type                  │ GRU                                   │\n",
       "│ linear_prelu_activation            │ 1                                     │\n",
       "│ mask_sequence_vectors              │ 1                                     │\n",
       "│ masking                            │ Filling                               │\n",
       "│ normalization                      │ LayerNorm                             │\n",
       "│ normalize_features                 │ 1                                     │\n",
       "│ num_attention_heads                │ 4                                     │\n",
       "│\u001b[31m \u001b[0m\u001b[31mnum_branch_embedding_layers       \u001b[0m\u001b[31m \u001b[0m│\u001b[31m \u001b[0m\u001b[31m3                                    \u001b[0m\u001b[31m \u001b[0m│\n",
       "│\u001b[31m \u001b[0m\u001b[31mnum_branch_encoder_layers         \u001b[0m\u001b[31m \u001b[0m│\u001b[31m \u001b[0m\u001b[31m3                                    \u001b[0m\u001b[31m \u001b[0m│\n",
       "│\u001b[31m \u001b[0m\u001b[31mnum_classification_layers         \u001b[0m\u001b[31m \u001b[0m│\u001b[31m \u001b[0m\u001b[31m3                                    \u001b[0m\u001b[31m \u001b[0m│\n",
       "│\u001b[31m \u001b[0m\u001b[31mnum_dataloader_workers            \u001b[0m\u001b[31m \u001b[0m│\u001b[31m \u001b[0m\u001b[31m16                                   \u001b[0m\u001b[31m \u001b[0m│\n",
       "│\u001b[31m \u001b[0m\u001b[31mnum_detector_layers               \u001b[0m\u001b[31m \u001b[0m│\u001b[31m \u001b[0m\u001b[31m2                                    \u001b[0m\u001b[31m \u001b[0m│\n",
       "│ num_embedding_layers               │ 10                                    │\n",
       "│\u001b[31m \u001b[0m\u001b[31mnum_encoder_layers                \u001b[0m\u001b[31m \u001b[0m│\u001b[31m \u001b[0m\u001b[31m8                                    \u001b[0m\u001b[31m \u001b[0m│\n",
       "│\u001b[31m \u001b[0m\u001b[31mnum_gpu                           \u001b[0m\u001b[31m \u001b[0m│\u001b[31m \u001b[0m\u001b[31m4                                    \u001b[0m\u001b[31m \u001b[0m│\n",
       "│ num_jet_embedding_layers           │ 0                                     │\n",
       "│\u001b[31m \u001b[0m\u001b[31mnum_jet_encoder_layers            \u001b[0m\u001b[31m \u001b[0m│\u001b[31m \u001b[0m\u001b[31m2                                    \u001b[0m\u001b[31m \u001b[0m│\n",
       "│\u001b[31m \u001b[0m\u001b[31mnum_regression_layers             \u001b[0m\u001b[31m \u001b[0m│\u001b[31m \u001b[0m\u001b[31m4                                    \u001b[0m\u001b[31m \u001b[0m│\n",
       "│ optimizer                          │ AdamW                                 │\n",
       "│\u001b[31m \u001b[0m\u001b[31mpartial_events                    \u001b[0m\u001b[31m \u001b[0m│\u001b[31m \u001b[0m\u001b[31m1                                    \u001b[0m\u001b[31m \u001b[0m│\n",
       "│ position_embedding_dim             │ 32                                    │\n",
       "│\u001b[31m \u001b[0m\u001b[31mregression_loss_scale             \u001b[0m\u001b[31m \u001b[0m│\u001b[31m \u001b[0m\u001b[31m1.0                                  \u001b[0m\u001b[31m \u001b[0m│\n",
       "│ skip_connections                   │ 1                                     │\n",
       "│ split_symmetric_attention          │ 1                                     │\n",
       "│\u001b[31m \u001b[0m\u001b[31mtesting_file                      \u001b[0m\u001b[31m \u001b[0m│\u001b[31m \u001b[0m\u001b[31mevents_h5_files/testing_SPANet_02.h5 \u001b[0m\u001b[31m \u001b[0m│\n",
       "│ train_validation_split             │ 0.95                                  │\n",
       "│\u001b[31m \u001b[0m\u001b[31mtraining_file                     \u001b[0m\u001b[31m \u001b[0m│\u001b[31m \u001b[0m\u001b[31mevents_h5_files/training_SPANet_08.h5\u001b[0m\u001b[31m \u001b[0m│\n",
       "│ transformer_activation             │ gelu                                  │\n",
       "│ transformer_dim                    │ 128                                   │\n",
       "│ transformer_dim_scale              │ 2.0                                   │\n",
       "│ transformer_type                   │ Gated                                 │\n",
       "│ trial_output_dir                   │ ./test_output                         │\n",
       "│ trial_time                         │                                       │\n",
       "│ usable_gpus                        │                                       │\n",
       "│ validation_file                    │                                       │\n",
       "│\u001b[31m \u001b[0m\u001b[31mverbose_output                    \u001b[0m\u001b[31m \u001b[0m│\u001b[31m \u001b[0m\u001b[31m0                                    \u001b[0m\u001b[31m \u001b[0m│\n",
       "└────────────────────────────────────┴───────────────────────────────────────┘\n"
      ]
     },
     "metadata": {},
     "output_type": "display_data"
    }
   ],
   "source": [
    "options = Options.load(\"options_SPANet_modified_08_02.json\")\n",
    "options.display()"
   ]
  },
  {
   "cell_type": "code",
   "execution_count": 5,
   "id": "60c198fb",
   "metadata": {},
   "outputs": [
    {
     "data": {
      "text/html": [
       "<pre style=\"white-space:pre;overflow-x:auto;line-height:normal;font-family:Menlo,'DejaVu Sans Mono',consolas,'Courier New',monospace\"><span style=\"font-style: italic\">                                     Configuration                                     </span>\n",
       "┏━━━━━━━━━━━━━━━━━━━━━━━━━━━━━━━━━━━━┳━━━━━━━━━━━━━━━━━━━━━━━━━━━━━━━━━━━━━━━━━━━━━━━━┓\n",
       "┃<span style=\"color: #800080; text-decoration-color: #800080; font-weight: bold\"> Parameter                          </span>┃<span style=\"color: #800080; text-decoration-color: #800080; font-weight: bold\"> Value                                          </span>┃\n",
       "┡━━━━━━━━━━━━━━━━━━━━━━━━━━━━━━━━━━━━╇━━━━━━━━━━━━━━━━━━━━━━━━━━━━━━━━━━━━━━━━━━━━━━━━┩\n",
       "│ assignment_loss_scale              │ 1.0                                            │\n",
       "│ balance_classifications            │ 0                                              │\n",
       "│ balance_jets                       │ 0                                              │\n",
       "│ balance_losses                     │ 1                                              │\n",
       "│ balance_particles                  │ 0                                              │\n",
       "│<span style=\"color: #800000; text-decoration-color: #800000\"> batch_size                         </span>│<span style=\"color: #800000; text-decoration-color: #800000\"> 512                                            </span>│\n",
       "│ classification_loss_scale          │ 0.0                                            │\n",
       "│ combinatorial_scale                │ 0.0                                            │\n",
       "│ combine_pair_loss                  │ min                                            │\n",
       "│ dataset_limit                      │ 1.0                                            │\n",
       "│ dataset_randomization              │ 0                                              │\n",
       "│<span style=\"color: #800000; text-decoration-color: #800000\"> detection_loss_scale               </span>│<span style=\"color: #800000; text-decoration-color: #800000\"> 1.0                                            </span>│\n",
       "│<span style=\"color: #800000; text-decoration-color: #800000\"> dropout                            </span>│<span style=\"color: #800000; text-decoration-color: #800000\"> 0.2                                            </span>│\n",
       "│<span style=\"color: #800000; text-decoration-color: #800000\"> epochs                             </span>│<span style=\"color: #800000; text-decoration-color: #800000\"> 500                                            </span>│\n",
       "│<span style=\"color: #800000; text-decoration-color: #800000\"> event_info_file                    </span>│<span style=\"color: #800000; text-decoration-color: #800000\"> semi_leptonic_ttbar.yaml                       </span>│\n",
       "│<span style=\"color: #800000; text-decoration-color: #800000\"> focal_gamma                        </span>│<span style=\"color: #800000; text-decoration-color: #800000\"> 1.0                                            </span>│\n",
       "│ gradient_clip                      │ 0.0                                            │\n",
       "│ hidden_dim                         │ 128                                            │\n",
       "│ initial_embedding_dim              │ 16                                             │\n",
       "│ initial_embedding_skip_connections │ 1                                              │\n",
       "│ kl_loss_scale                      │ 0.0                                            │\n",
       "│<span style=\"color: #800000; text-decoration-color: #800000\"> l2_penalty                         </span>│<span style=\"color: #800000; text-decoration-color: #800000\"> 0.0002                                         </span>│\n",
       "│<span style=\"color: #800000; text-decoration-color: #800000\"> learning_rate                      </span>│<span style=\"color: #800000; text-decoration-color: #800000\"> 0.0015                                         </span>│\n",
       "│<span style=\"color: #800000; text-decoration-color: #800000\"> learning_rate_cycles               </span>│<span style=\"color: #800000; text-decoration-color: #800000\"> 1                                              </span>│\n",
       "│ learning_rate_warmup_epochs        │ 1.0                                            │\n",
       "│ limit_to_num_jets                  │ 0                                              │\n",
       "│<span style=\"color: #800000; text-decoration-color: #800000\"> linear_activation                  </span>│<span style=\"color: #800000; text-decoration-color: #800000\"> gelu                                           </span>│\n",
       "│ linear_block_type                  │ GRU                                            │\n",
       "│ linear_prelu_activation            │ 1                                              │\n",
       "│ mask_sequence_vectors              │ 1                                              │\n",
       "│ masking                            │ Filling                                        │\n",
       "│ normalization                      │ LayerNorm                                      │\n",
       "│ normalize_features                 │ 1                                              │\n",
       "│ num_attention_heads                │ 4                                              │\n",
       "│<span style=\"color: #800000; text-decoration-color: #800000\"> num_branch_embedding_layers        </span>│<span style=\"color: #800000; text-decoration-color: #800000\"> 3                                              </span>│\n",
       "│<span style=\"color: #800000; text-decoration-color: #800000\"> num_branch_encoder_layers          </span>│<span style=\"color: #800000; text-decoration-color: #800000\"> 3                                              </span>│\n",
       "│<span style=\"color: #800000; text-decoration-color: #800000\"> num_classification_layers          </span>│<span style=\"color: #800000; text-decoration-color: #800000\"> 3                                              </span>│\n",
       "│<span style=\"color: #800000; text-decoration-color: #800000\"> num_dataloader_workers             </span>│<span style=\"color: #800000; text-decoration-color: #800000\"> 16                                             </span>│\n",
       "│<span style=\"color: #800000; text-decoration-color: #800000\"> num_detector_layers                </span>│<span style=\"color: #800000; text-decoration-color: #800000\"> 2                                              </span>│\n",
       "│ num_embedding_layers               │ 10                                             │\n",
       "│<span style=\"color: #800000; text-decoration-color: #800000\"> num_encoder_layers                 </span>│<span style=\"color: #800000; text-decoration-color: #800000\"> 8                                              </span>│\n",
       "│<span style=\"color: #800000; text-decoration-color: #800000\"> num_gpu                            </span>│<span style=\"color: #800000; text-decoration-color: #800000\"> 4                                              </span>│\n",
       "│ num_jet_embedding_layers           │ 0                                              │\n",
       "│<span style=\"color: #800000; text-decoration-color: #800000\"> num_jet_encoder_layers             </span>│<span style=\"color: #800000; text-decoration-color: #800000\"> 2                                              </span>│\n",
       "│<span style=\"color: #800000; text-decoration-color: #800000\"> num_regression_layers              </span>│<span style=\"color: #800000; text-decoration-color: #800000\"> 4                                              </span>│\n",
       "│ optimizer                          │ AdamW                                          │\n",
       "│<span style=\"color: #800000; text-decoration-color: #800000\"> partial_events                     </span>│<span style=\"color: #800000; text-decoration-color: #800000\"> 1                                              </span>│\n",
       "│ position_embedding_dim             │ 32                                             │\n",
       "│<span style=\"color: #800000; text-decoration-color: #800000\"> regression_loss_scale              </span>│<span style=\"color: #800000; text-decoration-color: #800000\"> 1.0                                            </span>│\n",
       "│ skip_connections                   │ 1                                              │\n",
       "│ split_symmetric_attention          │ 1                                              │\n",
       "│<span style=\"color: #800000; text-decoration-color: #800000\"> testing_file                       </span>│<span style=\"color: #800000; text-decoration-color: #800000\"> events_h5_files/testing_SPANet_modified_03.h5  </span>│\n",
       "│ train_validation_split             │ 0.95                                           │\n",
       "│<span style=\"color: #800000; text-decoration-color: #800000\"> training_file                      </span>│<span style=\"color: #800000; text-decoration-color: #800000\"> events_h5_files/training_SPANet_modified_07.h5 </span>│\n",
       "│ transformer_activation             │ gelu                                           │\n",
       "│ transformer_dim                    │ 128                                            │\n",
       "│ transformer_dim_scale              │ 2.0                                            │\n",
       "│ transformer_type                   │ Gated                                          │\n",
       "│ trial_output_dir                   │ ./test_output                                  │\n",
       "│ trial_time                         │                                                │\n",
       "│ usable_gpus                        │                                                │\n",
       "│ validation_file                    │                                                │\n",
       "│<span style=\"color: #800000; text-decoration-color: #800000\"> verbose_output                     </span>│<span style=\"color: #800000; text-decoration-color: #800000\"> 0                                              </span>│\n",
       "└────────────────────────────────────┴────────────────────────────────────────────────┘\n",
       "</pre>\n"
      ],
      "text/plain": [
       "\u001b[3m                                     Configuration                                     \u001b[0m\n",
       "┏━━━━━━━━━━━━━━━━━━━━━━━━━━━━━━━━━━━━┳━━━━━━━━━━━━━━━━━━━━━━━━━━━━━━━━━━━━━━━━━━━━━━━━┓\n",
       "┃\u001b[1;35m \u001b[0m\u001b[1;35mParameter                         \u001b[0m\u001b[1;35m \u001b[0m┃\u001b[1;35m \u001b[0m\u001b[1;35mValue                                         \u001b[0m\u001b[1;35m \u001b[0m┃\n",
       "┡━━━━━━━━━━━━━━━━━━━━━━━━━━━━━━━━━━━━╇━━━━━━━━━━━━━━━━━━━━━━━━━━━━━━━━━━━━━━━━━━━━━━━━┩\n",
       "│ assignment_loss_scale              │ 1.0                                            │\n",
       "│ balance_classifications            │ 0                                              │\n",
       "│ balance_jets                       │ 0                                              │\n",
       "│ balance_losses                     │ 1                                              │\n",
       "│ balance_particles                  │ 0                                              │\n",
       "│\u001b[31m \u001b[0m\u001b[31mbatch_size                        \u001b[0m\u001b[31m \u001b[0m│\u001b[31m \u001b[0m\u001b[31m512                                           \u001b[0m\u001b[31m \u001b[0m│\n",
       "│ classification_loss_scale          │ 0.0                                            │\n",
       "│ combinatorial_scale                │ 0.0                                            │\n",
       "│ combine_pair_loss                  │ min                                            │\n",
       "│ dataset_limit                      │ 1.0                                            │\n",
       "│ dataset_randomization              │ 0                                              │\n",
       "│\u001b[31m \u001b[0m\u001b[31mdetection_loss_scale              \u001b[0m\u001b[31m \u001b[0m│\u001b[31m \u001b[0m\u001b[31m1.0                                           \u001b[0m\u001b[31m \u001b[0m│\n",
       "│\u001b[31m \u001b[0m\u001b[31mdropout                           \u001b[0m\u001b[31m \u001b[0m│\u001b[31m \u001b[0m\u001b[31m0.2                                           \u001b[0m\u001b[31m \u001b[0m│\n",
       "│\u001b[31m \u001b[0m\u001b[31mepochs                            \u001b[0m\u001b[31m \u001b[0m│\u001b[31m \u001b[0m\u001b[31m500                                           \u001b[0m\u001b[31m \u001b[0m│\n",
       "│\u001b[31m \u001b[0m\u001b[31mevent_info_file                   \u001b[0m\u001b[31m \u001b[0m│\u001b[31m \u001b[0m\u001b[31msemi_leptonic_ttbar.yaml                      \u001b[0m\u001b[31m \u001b[0m│\n",
       "│\u001b[31m \u001b[0m\u001b[31mfocal_gamma                       \u001b[0m\u001b[31m \u001b[0m│\u001b[31m \u001b[0m\u001b[31m1.0                                           \u001b[0m\u001b[31m \u001b[0m│\n",
       "│ gradient_clip                      │ 0.0                                            │\n",
       "│ hidden_dim                         │ 128                                            │\n",
       "│ initial_embedding_dim              │ 16                                             │\n",
       "│ initial_embedding_skip_connections │ 1                                              │\n",
       "│ kl_loss_scale                      │ 0.0                                            │\n",
       "│\u001b[31m \u001b[0m\u001b[31ml2_penalty                        \u001b[0m\u001b[31m \u001b[0m│\u001b[31m \u001b[0m\u001b[31m0.0002                                        \u001b[0m\u001b[31m \u001b[0m│\n",
       "│\u001b[31m \u001b[0m\u001b[31mlearning_rate                     \u001b[0m\u001b[31m \u001b[0m│\u001b[31m \u001b[0m\u001b[31m0.0015                                        \u001b[0m\u001b[31m \u001b[0m│\n",
       "│\u001b[31m \u001b[0m\u001b[31mlearning_rate_cycles              \u001b[0m\u001b[31m \u001b[0m│\u001b[31m \u001b[0m\u001b[31m1                                             \u001b[0m\u001b[31m \u001b[0m│\n",
       "│ learning_rate_warmup_epochs        │ 1.0                                            │\n",
       "│ limit_to_num_jets                  │ 0                                              │\n",
       "│\u001b[31m \u001b[0m\u001b[31mlinear_activation                 \u001b[0m\u001b[31m \u001b[0m│\u001b[31m \u001b[0m\u001b[31mgelu                                          \u001b[0m\u001b[31m \u001b[0m│\n",
       "│ linear_block_type                  │ GRU                                            │\n",
       "│ linear_prelu_activation            │ 1                                              │\n",
       "│ mask_sequence_vectors              │ 1                                              │\n",
       "│ masking                            │ Filling                                        │\n",
       "│ normalization                      │ LayerNorm                                      │\n",
       "│ normalize_features                 │ 1                                              │\n",
       "│ num_attention_heads                │ 4                                              │\n",
       "│\u001b[31m \u001b[0m\u001b[31mnum_branch_embedding_layers       \u001b[0m\u001b[31m \u001b[0m│\u001b[31m \u001b[0m\u001b[31m3                                             \u001b[0m\u001b[31m \u001b[0m│\n",
       "│\u001b[31m \u001b[0m\u001b[31mnum_branch_encoder_layers         \u001b[0m\u001b[31m \u001b[0m│\u001b[31m \u001b[0m\u001b[31m3                                             \u001b[0m\u001b[31m \u001b[0m│\n",
       "│\u001b[31m \u001b[0m\u001b[31mnum_classification_layers         \u001b[0m\u001b[31m \u001b[0m│\u001b[31m \u001b[0m\u001b[31m3                                             \u001b[0m\u001b[31m \u001b[0m│\n",
       "│\u001b[31m \u001b[0m\u001b[31mnum_dataloader_workers            \u001b[0m\u001b[31m \u001b[0m│\u001b[31m \u001b[0m\u001b[31m16                                            \u001b[0m\u001b[31m \u001b[0m│\n",
       "│\u001b[31m \u001b[0m\u001b[31mnum_detector_layers               \u001b[0m\u001b[31m \u001b[0m│\u001b[31m \u001b[0m\u001b[31m2                                             \u001b[0m\u001b[31m \u001b[0m│\n",
       "│ num_embedding_layers               │ 10                                             │\n",
       "│\u001b[31m \u001b[0m\u001b[31mnum_encoder_layers                \u001b[0m\u001b[31m \u001b[0m│\u001b[31m \u001b[0m\u001b[31m8                                             \u001b[0m\u001b[31m \u001b[0m│\n",
       "│\u001b[31m \u001b[0m\u001b[31mnum_gpu                           \u001b[0m\u001b[31m \u001b[0m│\u001b[31m \u001b[0m\u001b[31m4                                             \u001b[0m\u001b[31m \u001b[0m│\n",
       "│ num_jet_embedding_layers           │ 0                                              │\n",
       "│\u001b[31m \u001b[0m\u001b[31mnum_jet_encoder_layers            \u001b[0m\u001b[31m \u001b[0m│\u001b[31m \u001b[0m\u001b[31m2                                             \u001b[0m\u001b[31m \u001b[0m│\n",
       "│\u001b[31m \u001b[0m\u001b[31mnum_regression_layers             \u001b[0m\u001b[31m \u001b[0m│\u001b[31m \u001b[0m\u001b[31m4                                             \u001b[0m\u001b[31m \u001b[0m│\n",
       "│ optimizer                          │ AdamW                                          │\n",
       "│\u001b[31m \u001b[0m\u001b[31mpartial_events                    \u001b[0m\u001b[31m \u001b[0m│\u001b[31m \u001b[0m\u001b[31m1                                             \u001b[0m\u001b[31m \u001b[0m│\n",
       "│ position_embedding_dim             │ 32                                             │\n",
       "│\u001b[31m \u001b[0m\u001b[31mregression_loss_scale             \u001b[0m\u001b[31m \u001b[0m│\u001b[31m \u001b[0m\u001b[31m1.0                                           \u001b[0m\u001b[31m \u001b[0m│\n",
       "│ skip_connections                   │ 1                                              │\n",
       "│ split_symmetric_attention          │ 1                                              │\n",
       "│\u001b[31m \u001b[0m\u001b[31mtesting_file                      \u001b[0m\u001b[31m \u001b[0m│\u001b[31m \u001b[0m\u001b[31mevents_h5_files/testing_SPANet_modified_03.h5 \u001b[0m\u001b[31m \u001b[0m│\n",
       "│ train_validation_split             │ 0.95                                           │\n",
       "│\u001b[31m \u001b[0m\u001b[31mtraining_file                     \u001b[0m\u001b[31m \u001b[0m│\u001b[31m \u001b[0m\u001b[31mevents_h5_files/training_SPANet_modified_07.h5\u001b[0m\u001b[31m \u001b[0m│\n",
       "│ transformer_activation             │ gelu                                           │\n",
       "│ transformer_dim                    │ 128                                            │\n",
       "│ transformer_dim_scale              │ 2.0                                            │\n",
       "│ transformer_type                   │ Gated                                          │\n",
       "│ trial_output_dir                   │ ./test_output                                  │\n",
       "│ trial_time                         │                                                │\n",
       "│ usable_gpus                        │                                                │\n",
       "│ validation_file                    │                                                │\n",
       "│\u001b[31m \u001b[0m\u001b[31mverbose_output                    \u001b[0m\u001b[31m \u001b[0m│\u001b[31m \u001b[0m\u001b[31m0                                             \u001b[0m\u001b[31m \u001b[0m│\n",
       "└────────────────────────────────────┴────────────────────────────────────────────────┘\n"
      ]
     },
     "metadata": {},
     "output_type": "display_data"
    }
   ],
   "source": [
    "options_2 = Options.load(\"options_SPANet_modified_07_03.json\")\n",
    "options_2.display()"
   ]
  },
  {
   "cell_type": "markdown",
   "id": "90a195b7",
   "metadata": {},
   "source": [
    "## Model Construction & Preload Trained Model"
   ]
  },
  {
   "cell_type": "code",
   "execution_count": 6,
   "id": "6e29bad4",
   "metadata": {},
   "outputs": [
    {
     "name": "stdout",
     "output_type": "stream",
     "text": [
      "Index Range: 0...1653124\n",
      "Index Range: 1653125...1740131\n",
      "Index Range: 0...440690\n"
     ]
    }
   ],
   "source": [
    "model = JetReconstructionModel.load_from_checkpoint(\n",
    "    \"lightning_logs/SPANet_modified_08_02/checkpoints/best-checkpoint.ckpt\",\n",
    "    map_location=\"cpu\", \n",
    "    options=options\n",
    ")\n",
    "\n",
    "if USE_GPU:\n",
    "    model = model.cuda()\n",
    "    \n",
    "model = model.eval()\n",
    "for parameter in model.parameters():\n",
    "    parameter.requires_grad_(False) #what if require_grad is false\n"
   ]
  },
  {
   "cell_type": "code",
   "execution_count": 7,
   "id": "23c43218",
   "metadata": {},
   "outputs": [
    {
     "name": "stdout",
     "output_type": "stream",
     "text": [
      "Number of testing events: 440691\n",
      "Number of training events: 1653125\n"
     ]
    }
   ],
   "source": [
    "print('Number of testing events:', model.testing_dataset.num_events)\n",
    "print('Number of training events:', model.training_dataset.num_events) #both from truncated num_events file"
   ]
  },
  {
   "cell_type": "code",
   "execution_count": null,
   "id": "680e0110",
   "metadata": {},
   "outputs": [],
   "source": []
  },
  {
   "cell_type": "code",
   "execution_count": 8,
   "id": "a2b79a19",
   "metadata": {},
   "outputs": [
    {
     "name": "stdout",
     "output_type": "stream",
     "text": [
      "Index Range: 0...1281579\n",
      "Index Range: 1281580...1349031\n",
      "Index Range: 0...829976\n"
     ]
    }
   ],
   "source": [
    "model_2 = JetReconstructionModel.load_from_checkpoint(\n",
    "    \"lightning_logs/SPANet_modified_07_03/checkpoints/best-checkpoint.ckpt\",\n",
    "    map_location=\"cpu\", \n",
    "    options=options_2\n",
    ")\n",
    "\n",
    "if USE_GPU:\n",
    "    model_2 = model_2.cuda()\n",
    "    \n",
    "model_2 = model_2.eval()\n",
    "for parameter in model_2.parameters():\n",
    "    parameter.requires_grad_(False) #what if require_grad is false\n"
   ]
  },
  {
   "cell_type": "code",
   "execution_count": 9,
   "id": "174c178c",
   "metadata": {},
   "outputs": [
    {
     "name": "stdout",
     "output_type": "stream",
     "text": [
      "Number of testing events: 829977\n",
      "Number of training events: 1281580\n"
     ]
    }
   ],
   "source": [
    "print('Number of testing events:', model_2.testing_dataset.num_events)\n",
    "print('Number of training events:', model_2.training_dataset.num_events) #both from truncated num_events file"
   ]
  },
  {
   "cell_type": "markdown",
   "id": "2b1cbea0",
   "metadata": {},
   "source": [
    "## Model Evalutaion"
   ]
  },
  {
   "cell_type": "code",
   "execution_count": 10,
   "id": "1e8ae994",
   "metadata": {},
   "outputs": [
    {
     "data": {
      "application/vnd.jupyter.widget-view+json": {
       "model_id": "d9887147bb8d4da99bb9ec83e337c6a2",
       "version_major": 2,
       "version_minor": 0
      },
      "text/plain": [
       "Output()"
      ]
     },
     "metadata": {},
     "output_type": "display_data"
    },
    {
     "data": {
      "text/html": [
       "<pre style=\"white-space:pre;overflow-x:auto;line-height:normal;font-family:Menlo,'DejaVu Sans Mono',consolas,'Courier New',monospace\"></pre>\n"
      ],
      "text/plain": []
     },
     "metadata": {},
     "output_type": "display_data"
    },
    {
     "data": {
      "text/html": [
       "<pre style=\"white-space:pre;overflow-x:auto;line-height:normal;font-family:Menlo,'DejaVu Sans Mono',consolas,'Courier New',monospace\">\n",
       "</pre>\n"
      ],
      "text/plain": [
       "\n"
      ]
     },
     "metadata": {},
     "output_type": "display_data"
    },
    {
     "data": {
      "image/png": "[encoded data removed]"
     },
     "metadata": {
      "needs_background": "light"
     },
     "output_type": "display_data"
    }
   ],
   "source": [
    "from spanet.evaluation import evaluate_on_test_dataset\n",
    "\n",
    "evaluation = evaluate_on_test_dataset(model)\n",
    "display_results_table(model, evaluation)"
   ]
  },
  {
   "cell_type": "code",
   "execution_count": 11,
   "id": "1e5b6891",
   "metadata": {},
   "outputs": [
    {
     "data": {
      "application/vnd.jupyter.widget-view+json": {
       "model_id": "d576d9c715e54e79b8d3ab8027739dbd",
       "version_major": 2,
       "version_minor": 0
      },
      "text/plain": [
       "Output()"
      ]
     },
     "metadata": {},
     "output_type": "display_data"
    },
    {
     "data": {
      "text/html": [
       "<pre style=\"white-space:pre;overflow-x:auto;line-height:normal;font-family:Menlo,'DejaVu Sans Mono',consolas,'Courier New',monospace\"></pre>\n"
      ],
      "text/plain": []
     },
     "metadata": {},
     "output_type": "display_data"
    },
    {
     "data": {
      "text/html": [
       "<pre style=\"white-space:pre;overflow-x:auto;line-height:normal;font-family:Menlo,'DejaVu Sans Mono',consolas,'Courier New',monospace\">\n",
       "</pre>\n"
      ],
      "text/plain": [
       "\n"
      ]
     },
     "metadata": {},
     "output_type": "display_data"
    },
    {
     "data": {
      "image/png": "[encoded data removed]"
     },
     "metadata": {
      "needs_background": "light"
     },
     "output_type": "display_data"
    }
   ],
   "source": [
    "evaluation_2 = evaluate_on_test_dataset(model_2)\n",
    "display_results_table(model_2, evaluation_2)"
   ]
  },
  {
   "cell_type": "markdown",
   "id": "aca2c8ab",
   "metadata": {},
   "source": [
    "## Top Quarks Mass Estimatation"
   ]
  },
  {
   "cell_type": "code",
   "execution_count": 12,
   "id": "2dae64ae",
   "metadata": {},
   "outputs": [],
   "source": [
    "momenta = model.testing_dataset.sources[\"Momenta\"].source_data\n",
    "momenta_mask = model.testing_dataset.sources['Momenta'][:].mask #jet_level_mask for each event\n",
    "lt_truth, lt_mask = model.testing_dataset.assignments[\"lt\"]\n",
    "ht_truth, ht_mask = model.testing_dataset.assignments[\"ht\"]"
   ]
  },
  {
   "cell_type": "code",
   "execution_count": 13,
   "id": "49e2afb3",
   "metadata": {},
   "outputs": [],
   "source": [
    "# momenta[0]"
   ]
  },
  {
   "cell_type": "code",
   "execution_count": 14,
   "id": "8b2bf5d3",
   "metadata": {},
   "outputs": [],
   "source": [
    "# ht_truth, ht_mask"
   ]
  },
  {
   "cell_type": "code",
   "execution_count": 15,
   "id": "7d978af5",
   "metadata": {},
   "outputs": [],
   "source": [
    "# lt_truth, lt_mask"
   ]
  },
  {
   "cell_type": "code",
   "execution_count": 16,
   "id": "77056f39",
   "metadata": {},
   "outputs": [],
   "source": [
    "# momenta_mask"
   ]
  },
  {
   "cell_type": "code",
   "execution_count": 17,
   "id": "04c657f7",
   "metadata": {},
   "outputs": [],
   "source": [
    "momenta_2 = model_2.testing_dataset.sources[\"Momenta\"].source_data\n",
    "momenta_mask_2 = model_2.testing_dataset.sources['Momenta'][:].mask #jet_level_mask for each event\n",
    "lt_truth_2, lt_mask_2 = model_2.testing_dataset.assignments[\"lt\"]\n",
    "ht_truth_2, ht_mask_2 = model_2.testing_dataset.assignments[\"ht\"]"
   ]
  },
  {
   "cell_type": "code",
   "execution_count": 18,
   "id": "c51ac154",
   "metadata": {},
   "outputs": [],
   "source": [
    "def random_assignment(jet_level_mask):\n",
    "    \"\"\"\n",
    "    Generates random unique indices for 'lt' and 'ht' for each event, excluding index 0 (lepton).\n",
    "    \n",
    "    Parameters:\n",
    "    mask (np.array): Boolean tensor of shape [N, 17] indicating real jets (True) and fake jets (False).\n",
    "\n",
    "    Returns:\n",
    "    dict: A dictionary with keys 'lt' and 'ht' containing the randomly generated indices.\n",
    "    \"\"\"\n",
    "    num_events = jet_level_mask.shape[0]\n",
    "    assignments = {'lt':[], 'ht':[]}\n",
    "    for i in range(num_events):\n",
    "        real_jet_indices = np.where(jet_level_mask[i])[0] #getting real jets indices [0, 1, 2, 3, 4,...]\n",
    "        real_jet_indices = real_jet_indices[real_jet_indices != 0] #exclude 0 index out of random indices because lepton indices is always one. We want leptonic/hadronic top quarks\n",
    "\n",
    "        chosen_indices = np.random.choice(real_jet_indices, size=4, replace=False) #technically rearrange, assign random indices\n",
    "        lt_index = chosen_indices[0]\n",
    "        ht_indices = chosen_indices[1:]\n",
    "\n",
    "        assignments['lt'].append([lt_index])\n",
    "        assignments['ht'].append(ht_indices)\n",
    "\n",
    "    # Convert lists to numpy arrays\n",
    "    assignments['lt'] = np.array(assignments['lt'])\n",
    "    assignments['ht'] = np.array(assignments['ht'])\n",
    "    \n",
    "    return assignments"
   ]
  },
  {
   "cell_type": "code",
   "execution_count": 19,
   "id": "9790aa39",
   "metadata": {},
   "outputs": [],
   "source": [
    "random_evaluation = random_assignment(momenta_mask)"
   ]
  },
  {
   "cell_type": "code",
   "execution_count": 20,
   "id": "ed9feed4",
   "metadata": {},
   "outputs": [],
   "source": [
    "random_evaluation_2 = random_assignment(momenta_mask_2)"
   ]
  },
  {
   "cell_type": "code",
   "execution_count": 21,
   "id": "00ea6daf",
   "metadata": {},
   "outputs": [],
   "source": [
    "# momenta[0][0]"
   ]
  },
  {
   "cell_type": "code",
   "execution_count": null,
   "id": "6d9a936f",
   "metadata": {},
   "outputs": [],
   "source": []
  },
  {
   "cell_type": "code",
   "execution_count": 22,
   "id": "01c065e9",
   "metadata": {},
   "outputs": [],
   "source": [
    "lt_momenta_true = assignment_index(momenta, lt_truth, lt_mask) #extract information of leptonic top jet information\n",
    "lt_momenta_pred = assignment_index(momenta, evaluation.assignments[\"lt\"], lt_mask)\n",
    "lt_momenta_rand = assignment_index(momenta, random_evaluation['lt'], lt_mask)\n",
    "# lt_momenta_unmatched = assignment_index(momenta, evaluation.assignments[\"lt\"], ~lt_mask)\n",
    "\n",
    "ht_momenta_true = assignment_index(momenta, ht_truth, ht_mask)\n",
    "ht_momenta_pred = assignment_index(momenta, evaluation.assignments[\"ht\"], ht_mask)\n",
    "ht_momenta_rand = assignment_index(momenta, random_evaluation['ht'], ht_mask)\n",
    "# ht_momenta_unmatched = assignment_index(momenta, evaluation.assignments[\"ht\"], ~ht_mask)"
   ]
  },
  {
   "cell_type": "code",
   "execution_count": 23,
   "id": "b37e2344",
   "metadata": {},
   "outputs": [],
   "source": [
    "lt_momenta_true_2 = assignment_index(momenta_2, lt_truth_2, lt_mask_2) #extract information of leptonic top jet information\n",
    "lt_momenta_pred_2 = assignment_index(momenta_2, evaluation_2.assignments[\"lt\"], lt_mask_2)\n",
    "lt_momenta_rand_2 = assignment_index(momenta_2, random_evaluation_2['lt'], lt_mask_2)\n",
    "# # # lt_momenta_unmatched = assignment_index(momenta, evaluation.assignments[\"lt\"], ~lt_mask)\n",
    "\n",
    "ht_momenta_true_2 = assignment_index(momenta_2, ht_truth_2, ht_mask_2)\n",
    "ht_momenta_pred_2 = assignment_index(momenta_2, evaluation_2.assignments[\"ht\"], ht_mask_2)\n",
    "ht_momenta_rand_2 = assignment_index(momenta_2, random_evaluation_2['ht'], ht_mask_2)\n",
    "# # # ht_momenta_unmatched = assignment_index(momenta, evaluation.assignments[\"ht\"], ~ht_mask)"
   ]
  },
  {
   "cell_type": "code",
   "execution_count": 34,
   "id": "994b795c",
   "metadata": {},
   "outputs": [
    {
     "data": {
      "image/png": "[encoded data removed]"
     },
     "metadata": {
      "needs_background": "light"
     },
     "output_type": "display_data"
    }
   ],
   "source": [
    "plot_distribution(invariant_mass(ht_momenta_true), line=2, label=\"Truth\", range=(100, 400))\n",
    "plot_distribution(invariant_mass(ht_momenta_pred), line=2, label=\"Matched Predicted\", range=(100, 400))\n",
    "plot_distribution(invariant_mass(ht_momenta_rand), line=2, label=\"Random\", range=(100, 400))\n",
    "# plot_distribution(invariant_mass(ht_momenta_unmatched), line=2, label=\"Umatched Predicted\", range=(100, 400))\n",
    "\n",
    "# plot_distribution(invariant_mass(ht_momenta_true_2), line=2, label=\"Truth_2\", range=(100, 400))\n",
    "plot_distribution(invariant_mass(ht_momenta_pred_2), line=2, label=\"Matched Predicted_2\", range=(100, 400))\n",
    "# plot_distribution(invariant_mass(ht_momenta_rand_2), line=2, label=\"Random_2\", range=(100, 400))\n",
    "\n",
    "plt.xlabel(\"Hadronic $t$ Invariant Mass (GeV)\")\n",
    "plt.ylabel(\"Density\")\n",
    "plt.legend()\n",
    "plt.tight_layout();"
   ]
  },
  {
   "cell_type": "code",
   "execution_count": 41,
   "id": "23afeb3b",
   "metadata": {},
   "outputs": [
    {
     "data": {
      "image/png": "[encoded data removed]"
     },
     "metadata": {
      "needs_background": "light"
     },
     "output_type": "display_data"
    }
   ],
   "source": [
    "plt.figure(figsize=(10, 6))\n",
    "\n",
    "plot_distribution(invariant_mass(ht_momenta_true), line=2, label=\"Truth\", range=(100, 400))\n",
    "plot_distribution(invariant_mass(ht_momenta_pred), line=2, label=\"Matched Predicted\", range=(100, 400))\n",
    "plot_distribution(invariant_mass(ht_momenta_rand), line=2, label=\"Random\", range=(100, 400))\n",
    "# plot_distribution(invariant_mass(ht_momenta_unmatched), line=2, label=\"Umatched Predicted\", range=(100, 400))\n",
    "\n",
    "# plot_distribution(invariant_mass(ht_momenta_true_2), line=2, label=\"Truth_2\", range=(100, 400))\n",
    "plot_distribution(invariant_mass(ht_momenta_pred_2), line=2, label=\"Matched Predicted_2\", range=(100, 400))\n",
    "# plot_distribution(invariant_mass(ht_momenta_rand_2), line=2, label=\"Random_2\", range=(100, 400))\n",
    "\n",
    "plt.xlabel(\"Hadronic $t$ Invariant Mass (GeV)\")\n",
    "plt.ylabel(\"Density\")\n",
    "plt.legend()\n",
    "plt.tight_layout()\n",
    "plt.show()"
   ]
  },
  {
   "cell_type": "code",
   "execution_count": 37,
   "id": "447b28f1",
   "metadata": {},
   "outputs": [
    {
     "data": {
      "image/png": "[encoded data removed]"
     },
     "metadata": {
      "needs_background": "light"
     },
     "output_type": "display_data"
    }
   ],
   "source": [
    "plt.figure(figsize=(10, 6))\n",
    "\n",
    "plot_distribution(invariant_mass(lt_momenta_true), line=2, label=\"Truth\", range=(0, 50))\n",
    "plot_distribution(invariant_mass(lt_momenta_pred), line=2, label=\"Matched Predicted\", range=(0, 50))\n",
    "plot_distribution(invariant_mass(lt_momenta_rand), line=2, label=\"Rand\", range=(0, 50))\n",
    "# plot_distribution(invariant_mass(lt_momenta_unmatched), line=2, label=\"Umatched Predicted\", range=(0, 50))\n",
    "\n",
    "plot_distribution(invariant_mass(lt_momenta_pred_2), line=2, label=\"Matched Predicted_2\", range=(0, 50))\n",
    "\n",
    "plt.xlabel(\"Leptonic $b$ Invariant Mass (GeV)\")\n",
    "plt.ylabel(\"Density\")\n",
    "plt.legend()\n",
    "plt.tight_layout()\n",
    "plt.show()"
   ]
  },
  {
   "cell_type": "code",
   "execution_count": null,
   "id": "7a01adad",
   "metadata": {},
   "outputs": [],
   "source": []
  },
  {
   "cell_type": "code",
   "execution_count": null,
   "id": "80de302e",
   "metadata": {},
   "outputs": [],
   "source": [
    "### creating ht_momenta_ak.com ### []\n",
    "### creating lt_momenta_ak.com ###"
   ]
  },
  {
   "cell_type": "code",
   "execution_count": null,
   "id": "d873e713",
   "metadata": {},
   "outputs": [],
   "source": [
    "### have to convert h5 to constructe fou-momentum\n",
    "### use four momentum to fo ak.combination to find the highest pt\n",
    "### extract indices of the trijet\n",
    "### use indices back to assignment_indices\n",
    "### use assignment_indices for invariant_mass"
   ]
  }
 ],
 "metadata": {
  "@webio": {
   "lastCommId": null,
   "lastKernelId": null
  },
  "kernelspec": {
   "display_name": "Python 3",
   "language": "python",
   "name": "python3"
  },
  "language_info": {
   "codemirror_mode": {
    "name": "ipython",
    "version": 3
   },
   "file_extension": ".py",
   "mimetype": "text/x-python",
   "name": "python",
   "nbconvert_exporter": "python",
   "pygments_lexer": "ipython3",
   "version": "3.9.12"
  }
 },
 "nbformat": 4,
 "nbformat_minor": 5
}
