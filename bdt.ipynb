{
 "cells": [
  {
   "cell_type": "code",
   "execution_count": null,
   "metadata": {},
   "outputs": [],
   "source": [
    "import uproot as ur\n",
    "import awkward as ak\n",
    "from servicex import ServiceXDataset\n",
    "from func_adl_servicex import ServiceXSourceUpROOT\n",
    "\n",
    "## Plotting.\n",
    "import matplotlib.pyplot as plt\n",
    "\n",
    "# Hists\n",
    "import hist\n",
    "from hist import Hist\n",
    "\n",
    "# NanoEvents\n",
    "from coffea.nanoevents import NanoEventsFactory, BaseSchema\n",
    "# Processors\n",
    "import coffea.processor as processor\n",
    "\n",
    "import xgboost\n",
    "# ..."
   ]
  }
 ],
 "metadata": {
  "kernelspec": {
   "display_name": "Python 3",
   "language": "python",
   "name": "python3"
  },
  "language_info": {
   "name": "python",
   "version": "3.10.13"
  }
 },
 "nbformat": 4,
 "nbformat_minor": 2
}
