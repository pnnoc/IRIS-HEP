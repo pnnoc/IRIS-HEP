{
 "cells": [
  {
   "cell_type": "code",
   "execution_count": 1,
   "id": "0a828b54-e7d8-4d1c-9239-7e7beae7ffa3",
   "metadata": {
    "tags": []
   },
   "outputs": [],
   "source": [
    "%load_ext rich\n",
    "\n",
    "# Basic Imports\n",
    "import torch\n",
    "import pytorch_lightning as pl\n",
    "import numpy as np\n",
    "from matplotlib import pyplot as plt\n",
    "from pytorch_lightning.callbacks import ModelCheckpoint\n",
    "\n",
    "import vector\n",
    "import tree\n",
    "from rich import progress"
   ]
  },
  {
   "cell_type": "code",
   "execution_count": 2,
   "id": "2b26cb7a",
   "metadata": {},
   "outputs": [],
   "source": [
    "from spanet import Options ,JetReconstructionModel\n",
    "from helper import *"
   ]
  },
  {
   "cell_type": "code",
   "execution_count": 3,
   "id": "1e55e100-8218-45c1-af03-1e374cdfc5c5",
   "metadata": {
    "tags": []
   },
   "outputs": [],
   "source": [
    "USE_GPU = True"
   ]
  },
  {
   "cell_type": "markdown",
   "id": "1af85252-0b10-4381-b9db-fe534c1372b1",
   "metadata": {},
   "source": [
    "# Load Options\n",
    "Deep Learning typically has many hyper-parameters that define the structure of the neural network or the training dynamics. Here we load a set of parameters for our network. These values were determined through a tuning procedure we do not cover here. Most libraries define a good set of starting parameters, which typically only need a few changes for specific problems. We highlight a couple of important hyper-parameters.\n",
    "\n",
    "- **Hidden Dimensionality** The size of the internal representation of events stored in the neural network.\n",
    "- **Layer Count** The number of various hidden layers in the network. Used to balance the power of the network with over-fitting potential.\n",
    "- **Learning Rate** The coefficient controlling the size of gradient updates during training."
   ]
  },
  {
   "cell_type": "code",
   "execution_count": 4,
   "id": "a6d4fb1d-3674-4ecb-b752-2caa8d996697",
   "metadata": {
    "tags": []
   },
   "outputs": [
    {
     "data": {
      "text/html": [
       "<pre style=\"white-space:pre;overflow-x:auto;line-height:normal;font-family:Menlo,'DejaVu Sans Mono',consolas,'Courier New',monospace\"><span style=\"font-style: italic\">                              Configuration                               </span>\n",
       "┏━━━━━━━━━━━━━━━━━━━━━━━━━━━━━━━━━━━━┳━━━━━━━━━━━━━━━━━━━━━━━━━━━━━━━━━━━┓\n",
       "┃<span style=\"color: #800080; text-decoration-color: #800080; font-weight: bold\"> Parameter                          </span>┃<span style=\"color: #800080; text-decoration-color: #800080; font-weight: bold\"> Value                             </span>┃\n",
       "┡━━━━━━━━━━━━━━━━━━━━━━━━━━━━━━━━━━━━╇━━━━━━━━━━━━━━━━━━━━━━━━━━━━━━━━━━━┩\n",
       "│ assignment_loss_scale              │ 1.0                               │\n",
       "│ balance_classifications            │ 0                                 │\n",
       "│ balance_jets                       │ 0                                 │\n",
       "│ balance_losses                     │ 1                                 │\n",
       "│ balance_particles                  │ 0                                 │\n",
       "│<span style=\"color: #800000; text-decoration-color: #800000\"> batch_size                         </span>│<span style=\"color: #800000; text-decoration-color: #800000\"> 512                               </span>│\n",
       "│ classification_loss_scale          │ 0.0                               │\n",
       "│ combinatorial_scale                │ 0.0                               │\n",
       "│ combine_pair_loss                  │ min                               │\n",
       "│ dataset_limit                      │ 1.0                               │\n",
       "│ dataset_randomization              │ 0                                 │\n",
       "│<span style=\"color: #800000; text-decoration-color: #800000\"> detection_loss_scale               </span>│<span style=\"color: #800000; text-decoration-color: #800000\"> 1.0                               </span>│\n",
       "│<span style=\"color: #800000; text-decoration-color: #800000\"> dropout                            </span>│<span style=\"color: #800000; text-decoration-color: #800000\"> 0.2                               </span>│\n",
       "│<span style=\"color: #800000; text-decoration-color: #800000\"> epochs                             </span>│<span style=\"color: #800000; text-decoration-color: #800000\"> 500                               </span>│\n",
       "│<span style=\"color: #800000; text-decoration-color: #800000\"> event_info_file                    </span>│<span style=\"color: #800000; text-decoration-color: #800000\"> semi_leptonic_ttbar.yaml          </span>│\n",
       "│<span style=\"color: #800000; text-decoration-color: #800000\"> focal_gamma                        </span>│<span style=\"color: #800000; text-decoration-color: #800000\"> 1.0                               </span>│\n",
       "│ gradient_clip                      │ 0.0                               │\n",
       "│ hidden_dim                         │ 128                               │\n",
       "│ initial_embedding_dim              │ 16                                │\n",
       "│ initial_embedding_skip_connections │ 1                                 │\n",
       "│ kl_loss_scale                      │ 0.0                               │\n",
       "│<span style=\"color: #800000; text-decoration-color: #800000\"> l2_penalty                         </span>│<span style=\"color: #800000; text-decoration-color: #800000\"> 0.0002                            </span>│\n",
       "│<span style=\"color: #800000; text-decoration-color: #800000\"> learning_rate                      </span>│<span style=\"color: #800000; text-decoration-color: #800000\"> 0.0015                            </span>│\n",
       "│<span style=\"color: #800000; text-decoration-color: #800000\"> learning_rate_cycles               </span>│<span style=\"color: #800000; text-decoration-color: #800000\"> 1                                 </span>│\n",
       "│ learning_rate_warmup_epochs        │ 1.0                               │\n",
       "│ limit_to_num_jets                  │ 0                                 │\n",
       "│<span style=\"color: #800000; text-decoration-color: #800000\"> linear_activation                  </span>│<span style=\"color: #800000; text-decoration-color: #800000\"> gelu                              </span>│\n",
       "│ linear_block_type                  │ GRU                               │\n",
       "│ linear_prelu_activation            │ 1                                 │\n",
       "│ mask_sequence_vectors              │ 1                                 │\n",
       "│ masking                            │ Filling                           │\n",
       "│ normalization                      │ LayerNorm                         │\n",
       "│ normalize_features                 │ 1                                 │\n",
       "│ num_attention_heads                │ 4                                 │\n",
       "│<span style=\"color: #800000; text-decoration-color: #800000\"> num_branch_embedding_layers        </span>│<span style=\"color: #800000; text-decoration-color: #800000\"> 3                                 </span>│\n",
       "│<span style=\"color: #800000; text-decoration-color: #800000\"> num_branch_encoder_layers          </span>│<span style=\"color: #800000; text-decoration-color: #800000\"> 3                                 </span>│\n",
       "│<span style=\"color: #800000; text-decoration-color: #800000\"> num_classification_layers          </span>│<span style=\"color: #800000; text-decoration-color: #800000\"> 3                                 </span>│\n",
       "│<span style=\"color: #800000; text-decoration-color: #800000\"> num_dataloader_workers             </span>│<span style=\"color: #800000; text-decoration-color: #800000\"> 16                                </span>│\n",
       "│<span style=\"color: #800000; text-decoration-color: #800000\"> num_detector_layers                </span>│<span style=\"color: #800000; text-decoration-color: #800000\"> 2                                 </span>│\n",
       "│ num_embedding_layers               │ 10                                │\n",
       "│<span style=\"color: #800000; text-decoration-color: #800000\"> num_encoder_layers                 </span>│<span style=\"color: #800000; text-decoration-color: #800000\"> 8                                 </span>│\n",
       "│<span style=\"color: #800000; text-decoration-color: #800000\"> num_gpu                            </span>│<span style=\"color: #800000; text-decoration-color: #800000\"> 4                                 </span>│\n",
       "│ num_jet_embedding_layers           │ 0                                 │\n",
       "│<span style=\"color: #800000; text-decoration-color: #800000\"> num_jet_encoder_layers             </span>│<span style=\"color: #800000; text-decoration-color: #800000\"> 2                                 </span>│\n",
       "│<span style=\"color: #800000; text-decoration-color: #800000\"> num_regression_layers              </span>│<span style=\"color: #800000; text-decoration-color: #800000\"> 4                                 </span>│\n",
       "│ optimizer                          │ AdamW                             │\n",
       "│<span style=\"color: #800000; text-decoration-color: #800000\"> partial_events                     </span>│<span style=\"color: #800000; text-decoration-color: #800000\"> 1                                 </span>│\n",
       "│ position_embedding_dim             │ 32                                │\n",
       "│<span style=\"color: #800000; text-decoration-color: #800000\"> regression_loss_scale              </span>│<span style=\"color: #800000; text-decoration-color: #800000\"> 1.0                               </span>│\n",
       "│ skip_connections                   │ 1                                 │\n",
       "│ split_symmetric_attention          │ 1                                 │\n",
       "│<span style=\"color: #800000; text-decoration-color: #800000\"> testing_file                       </span>│<span style=\"color: #800000; text-decoration-color: #800000\"> testing_mass_variation_subset.h5  </span>│\n",
       "│ train_validation_split             │ 0.95                              │\n",
       "│<span style=\"color: #800000; text-decoration-color: #800000\"> training_file                      </span>│<span style=\"color: #800000; text-decoration-color: #800000\"> training_mass_variation_subset.h5 </span>│\n",
       "│ transformer_activation             │ gelu                              │\n",
       "│ transformer_dim                    │ 128                               │\n",
       "│ transformer_dim_scale              │ 2.0                               │\n",
       "│ transformer_type                   │ Gated                             │\n",
       "│ trial_output_dir                   │ ./test_output                     │\n",
       "│ trial_time                         │                                   │\n",
       "│ usable_gpus                        │                                   │\n",
       "│ validation_file                    │                                   │\n",
       "│<span style=\"color: #800000; text-decoration-color: #800000\"> verbose_output                     </span>│<span style=\"color: #800000; text-decoration-color: #800000\"> 0                                 </span>│\n",
       "└────────────────────────────────────┴───────────────────────────────────┘\n",
       "</pre>\n"
      ],
      "text/plain": [
       "\u001b[3m                              Configuration                               \u001b[0m\n",
       "┏━━━━━━━━━━━━━━━━━━━━━━━━━━━━━━━━━━━━┳━━━━━━━━━━━━━━━━━━━━━━━━━━━━━━━━━━━┓\n",
       "┃\u001b[1;35m \u001b[0m\u001b[1;35mParameter                         \u001b[0m\u001b[1;35m \u001b[0m┃\u001b[1;35m \u001b[0m\u001b[1;35mValue                            \u001b[0m\u001b[1;35m \u001b[0m┃\n",
       "┡━━━━━━━━━━━━━━━━━━━━━━━━━━━━━━━━━━━━╇━━━━━━━━━━━━━━━━━━━━━━━━━━━━━━━━━━━┩\n",
       "│ assignment_loss_scale              │ 1.0                               │\n",
       "│ balance_classifications            │ 0                                 │\n",
       "│ balance_jets                       │ 0                                 │\n",
       "│ balance_losses                     │ 1                                 │\n",
       "│ balance_particles                  │ 0                                 │\n",
       "│\u001b[31m \u001b[0m\u001b[31mbatch_size                        \u001b[0m\u001b[31m \u001b[0m│\u001b[31m \u001b[0m\u001b[31m512                              \u001b[0m\u001b[31m \u001b[0m│\n",
       "│ classification_loss_scale          │ 0.0                               │\n",
       "│ combinatorial_scale                │ 0.0                               │\n",
       "│ combine_pair_loss                  │ min                               │\n",
       "│ dataset_limit                      │ 1.0                               │\n",
       "│ dataset_randomization              │ 0                                 │\n",
       "│\u001b[31m \u001b[0m\u001b[31mdetection_loss_scale              \u001b[0m\u001b[31m \u001b[0m│\u001b[31m \u001b[0m\u001b[31m1.0                              \u001b[0m\u001b[31m \u001b[0m│\n",
       "│\u001b[31m \u001b[0m\u001b[31mdropout                           \u001b[0m\u001b[31m \u001b[0m│\u001b[31m \u001b[0m\u001b[31m0.2                              \u001b[0m\u001b[31m \u001b[0m│\n",
       "│\u001b[31m \u001b[0m\u001b[31mepochs                            \u001b[0m\u001b[31m \u001b[0m│\u001b[31m \u001b[0m\u001b[31m500                              \u001b[0m\u001b[31m \u001b[0m│\n",
       "│\u001b[31m \u001b[0m\u001b[31mevent_info_file                   \u001b[0m\u001b[31m \u001b[0m│\u001b[31m \u001b[0m\u001b[31msemi_leptonic_ttbar.yaml         \u001b[0m\u001b[31m \u001b[0m│\n",
       "│\u001b[31m \u001b[0m\u001b[31mfocal_gamma                       \u001b[0m\u001b[31m \u001b[0m│\u001b[31m \u001b[0m\u001b[31m1.0                              \u001b[0m\u001b[31m \u001b[0m│\n",
       "│ gradient_clip                      │ 0.0                               │\n",
       "│ hidden_dim                         │ 128                               │\n",
       "│ initial_embedding_dim              │ 16                                │\n",
       "│ initial_embedding_skip_connections │ 1                                 │\n",
       "│ kl_loss_scale                      │ 0.0                               │\n",
       "│\u001b[31m \u001b[0m\u001b[31ml2_penalty                        \u001b[0m\u001b[31m \u001b[0m│\u001b[31m \u001b[0m\u001b[31m0.0002                           \u001b[0m\u001b[31m \u001b[0m│\n",
       "│\u001b[31m \u001b[0m\u001b[31mlearning_rate                     \u001b[0m\u001b[31m \u001b[0m│\u001b[31m \u001b[0m\u001b[31m0.0015                           \u001b[0m\u001b[31m \u001b[0m│\n",
       "│\u001b[31m \u001b[0m\u001b[31mlearning_rate_cycles              \u001b[0m\u001b[31m \u001b[0m│\u001b[31m \u001b[0m\u001b[31m1                                \u001b[0m\u001b[31m \u001b[0m│\n",
       "│ learning_rate_warmup_epochs        │ 1.0                               │\n",
       "│ limit_to_num_jets                  │ 0                                 │\n",
       "│\u001b[31m \u001b[0m\u001b[31mlinear_activation                 \u001b[0m\u001b[31m \u001b[0m│\u001b[31m \u001b[0m\u001b[31mgelu                             \u001b[0m\u001b[31m \u001b[0m│\n",
       "│ linear_block_type                  │ GRU                               │\n",
       "│ linear_prelu_activation            │ 1                                 │\n",
       "│ mask_sequence_vectors              │ 1                                 │\n",
       "│ masking                            │ Filling                           │\n",
       "│ normalization                      │ LayerNorm                         │\n",
       "│ normalize_features                 │ 1                                 │\n",
       "│ num_attention_heads                │ 4                                 │\n",
       "│\u001b[31m \u001b[0m\u001b[31mnum_branch_embedding_layers       \u001b[0m\u001b[31m \u001b[0m│\u001b[31m \u001b[0m\u001b[31m3                                \u001b[0m\u001b[31m \u001b[0m│\n",
       "│\u001b[31m \u001b[0m\u001b[31mnum_branch_encoder_layers         \u001b[0m\u001b[31m \u001b[0m│\u001b[31m \u001b[0m\u001b[31m3                                \u001b[0m\u001b[31m \u001b[0m│\n",
       "│\u001b[31m \u001b[0m\u001b[31mnum_classification_layers         \u001b[0m\u001b[31m \u001b[0m│\u001b[31m \u001b[0m\u001b[31m3                                \u001b[0m\u001b[31m \u001b[0m│\n",
       "│\u001b[31m \u001b[0m\u001b[31mnum_dataloader_workers            \u001b[0m\u001b[31m \u001b[0m│\u001b[31m \u001b[0m\u001b[31m16                               \u001b[0m\u001b[31m \u001b[0m│\n",
       "│\u001b[31m \u001b[0m\u001b[31mnum_detector_layers               \u001b[0m\u001b[31m \u001b[0m│\u001b[31m \u001b[0m\u001b[31m2                                \u001b[0m\u001b[31m \u001b[0m│\n",
       "│ num_embedding_layers               │ 10                                │\n",
       "│\u001b[31m \u001b[0m\u001b[31mnum_encoder_layers                \u001b[0m\u001b[31m \u001b[0m│\u001b[31m \u001b[0m\u001b[31m8                                \u001b[0m\u001b[31m \u001b[0m│\n",
       "│\u001b[31m \u001b[0m\u001b[31mnum_gpu                           \u001b[0m\u001b[31m \u001b[0m│\u001b[31m \u001b[0m\u001b[31m4                                \u001b[0m\u001b[31m \u001b[0m│\n",
       "│ num_jet_embedding_layers           │ 0                                 │\n",
       "│\u001b[31m \u001b[0m\u001b[31mnum_jet_encoder_layers            \u001b[0m\u001b[31m \u001b[0m│\u001b[31m \u001b[0m\u001b[31m2                                \u001b[0m\u001b[31m \u001b[0m│\n",
       "│\u001b[31m \u001b[0m\u001b[31mnum_regression_layers             \u001b[0m\u001b[31m \u001b[0m│\u001b[31m \u001b[0m\u001b[31m4                                \u001b[0m\u001b[31m \u001b[0m│\n",
       "│ optimizer                          │ AdamW                             │\n",
       "│\u001b[31m \u001b[0m\u001b[31mpartial_events                    \u001b[0m\u001b[31m \u001b[0m│\u001b[31m \u001b[0m\u001b[31m1                                \u001b[0m\u001b[31m \u001b[0m│\n",
       "│ position_embedding_dim             │ 32                                │\n",
       "│\u001b[31m \u001b[0m\u001b[31mregression_loss_scale             \u001b[0m\u001b[31m \u001b[0m│\u001b[31m \u001b[0m\u001b[31m1.0                              \u001b[0m\u001b[31m \u001b[0m│\n",
       "│ skip_connections                   │ 1                                 │\n",
       "│ split_symmetric_attention          │ 1                                 │\n",
       "│\u001b[31m \u001b[0m\u001b[31mtesting_file                      \u001b[0m\u001b[31m \u001b[0m│\u001b[31m \u001b[0m\u001b[31mtesting_mass_variation_subset.h5 \u001b[0m\u001b[31m \u001b[0m│\n",
       "│ train_validation_split             │ 0.95                              │\n",
       "│\u001b[31m \u001b[0m\u001b[31mtraining_file                     \u001b[0m\u001b[31m \u001b[0m│\u001b[31m \u001b[0m\u001b[31mtraining_mass_variation_subset.h5\u001b[0m\u001b[31m \u001b[0m│\n",
       "│ transformer_activation             │ gelu                              │\n",
       "│ transformer_dim                    │ 128                               │\n",
       "│ transformer_dim_scale              │ 2.0                               │\n",
       "│ transformer_type                   │ Gated                             │\n",
       "│ trial_output_dir                   │ ./test_output                     │\n",
       "│ trial_time                         │                                   │\n",
       "│ usable_gpus                        │                                   │\n",
       "│ validation_file                    │                                   │\n",
       "│\u001b[31m \u001b[0m\u001b[31mverbose_output                    \u001b[0m\u001b[31m \u001b[0m│\u001b[31m \u001b[0m\u001b[31m0                                \u001b[0m\u001b[31m \u001b[0m│\n",
       "└────────────────────────────────────┴───────────────────────────────────┘\n"
      ]
     },
     "metadata": {},
     "output_type": "display_data"
    }
   ],
   "source": [
    "options = Options.load(\"options-Copy1.json\")\n",
    "options.display()"
   ]
  },
  {
   "cell_type": "markdown",
   "id": "37763aed-92a2-4505-bed6-81faede00f45",
   "metadata": {},
   "source": [
    "# Create Network and Load Data\n",
    "\n",
    "We begin by loading the data and constructing the neural network. We use a SPANet code for this, but in general, machine learning involves.\n",
    "\n",
    "1. Loading the training and testing data and performing and pre-processing.\n",
    "2. Loading the mathematical definition of the network.\n",
    "3. Constructing the initial set of learnable parameters which will define the neural network's outputs."
   ]
  },
  {
   "cell_type": "code",
   "execution_count": 5,
   "id": "eb62f5ff-9e49-4d5e-b1e3-2cd4546111b1",
   "metadata": {
    "tags": []
   },
   "outputs": [
    {
     "name": "stdout",
     "output_type": "stream",
     "text": [
      "Index Range: 0...2951564\n",
      "Index Range: 2951565...3106910\n",
      "Index Range: 0...466458\n"
     ]
    }
   ],
   "source": [
    "model = JetReconstructionModel(options)\n",
    "\n",
    "if USE_GPU:\n",
    "    model = model.cuda()\n",
    "    \n",
    "# Build an optimizer which will keep track of the gradient descent procedure.\n",
    "(optimizer, ), _ = model.configure_optimizers()"
   ]
  },
  {
   "cell_type": "markdown",
   "id": "c79985cd-93fd-4c63-9269-5c44e1665b96",
   "metadata": {},
   "source": [
    "## Data"
   ]
  },
  {
   "cell_type": "markdown",
   "id": "e6857bf7-24ba-45df-a4cd-bd9d99385614",
   "metadata": {},
   "source": [
    "### Problem\n",
    "\n",
    "We will focus on jet-parton assignment in the semi-letponic ttbar channel.\n",
    "\n",
    "<img src=\"figures/feynman_diagram.png\" width=\"500\">"
   ]
  },
  {
   "cell_type": "markdown",
   "id": "72d67c1b-a577-4593-b524-740f0355105f",
   "metadata": {},
   "source": [
    "### Inputs"
   ]
  },
  {
   "cell_type": "markdown",
   "id": "358c97db-b40c-42d8-a0fa-ba1e1be1d12b",
   "metadata": {},
   "source": [
    "In supervised deep learning, we have a set of inputs (which we call sources) and output targets.\n",
    "\n",
    "One of the advantages of deep learning models is the ability to handle multiple types of inputs. Here we have two types of inputs:\n",
    "- **Momenta** A *variable length* collection 4-momentum vectors for our jets and leptons in each event.\n",
    "- **MET** The missing energy attributed to the neutrino."
   ]
  },
  {
   "cell_type": "code",
   "execution_count": 6,
   "id": "f77ca4a2-686b-4faa-8041-857b07af36bd",
   "metadata": {
    "tags": []
   },
   "outputs": [
    {
     "data": {
      "text/html": [
       "<pre style=\"white-space:pre;overflow-x:auto;line-height:normal;font-family:Menlo,'DejaVu Sans Mono',consolas,'Courier New',monospace\"><span style=\"color: #800080; text-decoration-color: #800080; font-weight: bold\">OrderedDict</span><span style=\"font-weight: bold\">([(</span><span style=\"color: #008000; text-decoration-color: #008000\">'Momenta'</span>, <span style=\"font-weight: bold\">&lt;</span><span style=\"color: #ff00ff; text-decoration-color: #ff00ff; font-weight: bold\">spanet.dataset.inputs.SequentialInput.SequentialInput</span><span style=\"color: #000000; text-decoration-color: #000000\"> object at </span><span style=\"color: #008080; text-decoration-color: #008080; font-weight: bold\">0x7f5173938a60</span><span style=\"font-weight: bold\">&gt;)</span>, <span style=\"font-weight: bold\">(</span><span style=\"color: #008000; text-decoration-color: #008000\">'Met'</span>, <span style=\"font-weight: bold\">&lt;</span><span style=\"color: #ff00ff; text-decoration-color: #ff00ff; font-weight: bold\">spanet.dataset.inputs.GlobalInput.GlobalInput</span><span style=\"color: #000000; text-decoration-color: #000000\"> object at </span><span style=\"color: #008080; text-decoration-color: #008080; font-weight: bold\">0x7f51739389d0</span><span style=\"font-weight: bold\">&gt;)])</span>\n",
       "</pre>\n"
      ],
      "text/plain": [
       "\u001b[1;35mOrderedDict\u001b[0m\u001b[1m(\u001b[0m\u001b[1m[\u001b[0m\u001b[1m(\u001b[0m\u001b[32m'Momenta'\u001b[0m, \u001b[1m<\u001b[0m\u001b[1;95mspanet.dataset.inputs.SequentialInput.SequentialInput\u001b[0m\u001b[39m object at \u001b[0m\u001b[1;36m0x7f5173938a60\u001b[0m\u001b[1m>\u001b[0m\u001b[1m)\u001b[0m, \u001b[1m(\u001b[0m\u001b[32m'Met'\u001b[0m, \u001b[1m<\u001b[0m\u001b[1;95mspanet.dataset.inputs.GlobalInput.GlobalInput\u001b[0m\u001b[39m object at \u001b[0m\u001b[1;36m0x7f51739389d0\u001b[0m\u001b[1m>\u001b[0m\u001b[1m)\u001b[0m\u001b[1m]\u001b[0m\u001b[1m)\u001b[0m\n"
      ]
     },
     "metadata": {},
     "output_type": "display_data"
    }
   ],
   "source": [
    "momenta = model.training_dataset.sources[\"Momenta\"]\n",
    "met = model.training_dataset.sources[\"Met\"]\n",
    "\n",
    "# Jets = model.training_dataset.sources['Jets']\n",
    "# Lepton = model.training_dataset.sources['Lepton']\n",
    "\n",
    "model.training_dataset.sources"
   ]
  },
  {
   "cell_type": "markdown",
   "id": "323552d9-37e2-4923-a47d-e3a81448c8b8",
   "metadata": {},
   "source": [
    "Each input has a set of *features* which are measurements we observe from the data. The momentum vectors contain the kinematics and some particle id tags."
   ]
  },
  {
   "cell_type": "code",
   "execution_count": 7,
   "id": "19895118-9649-45a9-a9b6-e6a5d01aeac1",
   "metadata": {},
   "outputs": [
    {
     "data": {
      "text/html": [
       "<pre style=\"white-space:pre;overflow-x:auto;line-height:normal;font-family:Menlo,'DejaVu Sans Mono',consolas,'Courier New',monospace\">\n",
       "<span style=\"font-weight: bold\">(</span>\n",
       "    <span style=\"font-weight: bold\">(</span>\n",
       "        <span style=\"color: #800080; text-decoration-color: #800080; font-weight: bold\">FeatureInfo</span><span style=\"font-weight: bold\">(</span><span style=\"color: #808000; text-decoration-color: #808000\">name</span>=<span style=\"color: #008000; text-decoration-color: #008000\">'mass'</span>, <span style=\"color: #808000; text-decoration-color: #808000\">normalize</span>=<span style=\"color: #00ff00; text-decoration-color: #00ff00; font-style: italic\">True</span>, <span style=\"color: #808000; text-decoration-color: #808000\">log_scale</span>=<span style=\"color: #00ff00; text-decoration-color: #00ff00; font-style: italic\">True</span><span style=\"font-weight: bold\">)</span>,\n",
       "        <span style=\"color: #800080; text-decoration-color: #800080; font-weight: bold\">FeatureInfo</span><span style=\"font-weight: bold\">(</span><span style=\"color: #808000; text-decoration-color: #808000\">name</span>=<span style=\"color: #008000; text-decoration-color: #008000\">'pt'</span>, <span style=\"color: #808000; text-decoration-color: #808000\">normalize</span>=<span style=\"color: #00ff00; text-decoration-color: #00ff00; font-style: italic\">True</span>, <span style=\"color: #808000; text-decoration-color: #808000\">log_scale</span>=<span style=\"color: #00ff00; text-decoration-color: #00ff00; font-style: italic\">True</span><span style=\"font-weight: bold\">)</span>,\n",
       "        <span style=\"color: #800080; text-decoration-color: #800080; font-weight: bold\">FeatureInfo</span><span style=\"font-weight: bold\">(</span><span style=\"color: #808000; text-decoration-color: #808000\">name</span>=<span style=\"color: #008000; text-decoration-color: #008000\">'eta'</span>, <span style=\"color: #808000; text-decoration-color: #808000\">normalize</span>=<span style=\"color: #00ff00; text-decoration-color: #00ff00; font-style: italic\">True</span>, <span style=\"color: #808000; text-decoration-color: #808000\">log_scale</span>=<span style=\"color: #ff0000; text-decoration-color: #ff0000; font-style: italic\">False</span><span style=\"font-weight: bold\">)</span>,\n",
       "        <span style=\"color: #800080; text-decoration-color: #800080; font-weight: bold\">FeatureInfo</span><span style=\"font-weight: bold\">(</span><span style=\"color: #808000; text-decoration-color: #808000\">name</span>=<span style=\"color: #008000; text-decoration-color: #008000\">'sin_phi'</span>, <span style=\"color: #808000; text-decoration-color: #808000\">normalize</span>=<span style=\"color: #00ff00; text-decoration-color: #00ff00; font-style: italic\">True</span>, <span style=\"color: #808000; text-decoration-color: #808000\">log_scale</span>=<span style=\"color: #ff0000; text-decoration-color: #ff0000; font-style: italic\">False</span><span style=\"font-weight: bold\">)</span>,\n",
       "        <span style=\"color: #800080; text-decoration-color: #800080; font-weight: bold\">FeatureInfo</span><span style=\"font-weight: bold\">(</span><span style=\"color: #808000; text-decoration-color: #808000\">name</span>=<span style=\"color: #008000; text-decoration-color: #008000\">'cos_phi'</span>, <span style=\"color: #808000; text-decoration-color: #808000\">normalize</span>=<span style=\"color: #00ff00; text-decoration-color: #00ff00; font-style: italic\">True</span>, <span style=\"color: #808000; text-decoration-color: #808000\">log_scale</span>=<span style=\"color: #ff0000; text-decoration-color: #ff0000; font-style: italic\">False</span><span style=\"font-weight: bold\">)</span>,\n",
       "        <span style=\"color: #800080; text-decoration-color: #800080; font-weight: bold\">FeatureInfo</span><span style=\"font-weight: bold\">(</span><span style=\"color: #808000; text-decoration-color: #808000\">name</span>=<span style=\"color: #008000; text-decoration-color: #008000\">'btag'</span>, <span style=\"color: #808000; text-decoration-color: #808000\">normalize</span>=<span style=\"color: #ff0000; text-decoration-color: #ff0000; font-style: italic\">False</span>, <span style=\"color: #808000; text-decoration-color: #808000\">log_scale</span>=<span style=\"color: #ff0000; text-decoration-color: #ff0000; font-style: italic\">False</span><span style=\"font-weight: bold\">)</span>\n",
       "    <span style=\"font-weight: bold\">)</span>,\n",
       "    <span style=\"font-weight: bold\">(</span>\n",
       "        <span style=\"color: #800080; text-decoration-color: #800080; font-weight: bold\">FeatureInfo</span><span style=\"font-weight: bold\">(</span><span style=\"color: #808000; text-decoration-color: #808000\">name</span>=<span style=\"color: #008000; text-decoration-color: #008000\">'sumet'</span>, <span style=\"color: #808000; text-decoration-color: #808000\">normalize</span>=<span style=\"color: #00ff00; text-decoration-color: #00ff00; font-style: italic\">True</span>, <span style=\"color: #808000; text-decoration-color: #808000\">log_scale</span>=<span style=\"color: #00ff00; text-decoration-color: #00ff00; font-style: italic\">True</span><span style=\"font-weight: bold\">)</span>,\n",
       "        <span style=\"color: #800080; text-decoration-color: #800080; font-weight: bold\">FeatureInfo</span><span style=\"font-weight: bold\">(</span><span style=\"color: #808000; text-decoration-color: #808000\">name</span>=<span style=\"color: #008000; text-decoration-color: #008000\">'sin_phi'</span>, <span style=\"color: #808000; text-decoration-color: #808000\">normalize</span>=<span style=\"color: #00ff00; text-decoration-color: #00ff00; font-style: italic\">True</span>, <span style=\"color: #808000; text-decoration-color: #808000\">log_scale</span>=<span style=\"color: #ff0000; text-decoration-color: #ff0000; font-style: italic\">False</span><span style=\"font-weight: bold\">)</span>,\n",
       "        <span style=\"color: #800080; text-decoration-color: #800080; font-weight: bold\">FeatureInfo</span><span style=\"font-weight: bold\">(</span><span style=\"color: #808000; text-decoration-color: #808000\">name</span>=<span style=\"color: #008000; text-decoration-color: #008000\">'cos_phi'</span>, <span style=\"color: #808000; text-decoration-color: #808000\">normalize</span>=<span style=\"color: #00ff00; text-decoration-color: #00ff00; font-style: italic\">True</span>, <span style=\"color: #808000; text-decoration-color: #808000\">log_scale</span>=<span style=\"color: #ff0000; text-decoration-color: #ff0000; font-style: italic\">False</span><span style=\"font-weight: bold\">)</span>\n",
       "    <span style=\"font-weight: bold\">)</span>\n",
       "<span style=\"font-weight: bold\">)</span>\n",
       "</pre>\n"
      ],
      "text/plain": [
       "\n",
       "\u001b[1m(\u001b[0m\n",
       "    \u001b[1m(\u001b[0m\n",
       "        \u001b[1;35mFeatureInfo\u001b[0m\u001b[1m(\u001b[0m\u001b[33mname\u001b[0m=\u001b[32m'mass'\u001b[0m, \u001b[33mnormalize\u001b[0m=\u001b[3;92mTrue\u001b[0m, \u001b[33mlog_scale\u001b[0m=\u001b[3;92mTrue\u001b[0m\u001b[1m)\u001b[0m,\n",
       "        \u001b[1;35mFeatureInfo\u001b[0m\u001b[1m(\u001b[0m\u001b[33mname\u001b[0m=\u001b[32m'pt'\u001b[0m, \u001b[33mnormalize\u001b[0m=\u001b[3;92mTrue\u001b[0m, \u001b[33mlog_scale\u001b[0m=\u001b[3;92mTrue\u001b[0m\u001b[1m)\u001b[0m,\n",
       "        \u001b[1;35mFeatureInfo\u001b[0m\u001b[1m(\u001b[0m\u001b[33mname\u001b[0m=\u001b[32m'eta'\u001b[0m, \u001b[33mnormalize\u001b[0m=\u001b[3;92mTrue\u001b[0m, \u001b[33mlog_scale\u001b[0m=\u001b[3;91mFalse\u001b[0m\u001b[1m)\u001b[0m,\n",
       "        \u001b[1;35mFeatureInfo\u001b[0m\u001b[1m(\u001b[0m\u001b[33mname\u001b[0m=\u001b[32m'sin_phi'\u001b[0m, \u001b[33mnormalize\u001b[0m=\u001b[3;92mTrue\u001b[0m, \u001b[33mlog_scale\u001b[0m=\u001b[3;91mFalse\u001b[0m\u001b[1m)\u001b[0m,\n",
       "        \u001b[1;35mFeatureInfo\u001b[0m\u001b[1m(\u001b[0m\u001b[33mname\u001b[0m=\u001b[32m'cos_phi'\u001b[0m, \u001b[33mnormalize\u001b[0m=\u001b[3;92mTrue\u001b[0m, \u001b[33mlog_scale\u001b[0m=\u001b[3;91mFalse\u001b[0m\u001b[1m)\u001b[0m,\n",
       "        \u001b[1;35mFeatureInfo\u001b[0m\u001b[1m(\u001b[0m\u001b[33mname\u001b[0m=\u001b[32m'btag'\u001b[0m, \u001b[33mnormalize\u001b[0m=\u001b[3;91mFalse\u001b[0m, \u001b[33mlog_scale\u001b[0m=\u001b[3;91mFalse\u001b[0m\u001b[1m)\u001b[0m\n",
       "    \u001b[1m)\u001b[0m,\n",
       "    \u001b[1m(\u001b[0m\n",
       "        \u001b[1;35mFeatureInfo\u001b[0m\u001b[1m(\u001b[0m\u001b[33mname\u001b[0m=\u001b[32m'sumet'\u001b[0m, \u001b[33mnormalize\u001b[0m=\u001b[3;92mTrue\u001b[0m, \u001b[33mlog_scale\u001b[0m=\u001b[3;92mTrue\u001b[0m\u001b[1m)\u001b[0m,\n",
       "        \u001b[1;35mFeatureInfo\u001b[0m\u001b[1m(\u001b[0m\u001b[33mname\u001b[0m=\u001b[32m'sin_phi'\u001b[0m, \u001b[33mnormalize\u001b[0m=\u001b[3;92mTrue\u001b[0m, \u001b[33mlog_scale\u001b[0m=\u001b[3;91mFalse\u001b[0m\u001b[1m)\u001b[0m,\n",
       "        \u001b[1;35mFeatureInfo\u001b[0m\u001b[1m(\u001b[0m\u001b[33mname\u001b[0m=\u001b[32m'cos_phi'\u001b[0m, \u001b[33mnormalize\u001b[0m=\u001b[3;92mTrue\u001b[0m, \u001b[33mlog_scale\u001b[0m=\u001b[3;91mFalse\u001b[0m\u001b[1m)\u001b[0m\n",
       "    \u001b[1m)\u001b[0m\n",
       "\u001b[1m)\u001b[0m\n"
      ]
     },
     "metadata": {},
     "output_type": "display_data"
    }
   ],
   "source": [
    "momenta.input_features, met.input_features\n",
    "# Jets.input_features, Lepton.input_features"
   ]
  },
  {
   "cell_type": "code",
   "execution_count": 8,
   "id": "ef9c5928-d0a9-41d3-9841-b288dbd0a3eb",
   "metadata": {},
   "outputs": [
    {
     "data": {
      "text/html": [
       "<pre style=\"white-space:pre;overflow-x:auto;line-height:normal;font-family:Menlo,'DejaVu Sans Mono',consolas,'Courier New',monospace\"><span style=\"font-weight: bold\">(</span><span style=\"color: #800080; text-decoration-color: #800080; font-style: italic\">None</span>, <span style=\"color: #800080; text-decoration-color: #800080; font-style: italic\">None</span><span style=\"font-weight: bold\">)</span>\n",
       "</pre>\n"
      ],
      "text/plain": [
       "\u001b[1m(\u001b[0m\u001b[3;35mNone\u001b[0m, \u001b[3;35mNone\u001b[0m\u001b[1m)\u001b[0m\n"
      ]
     },
     "metadata": {},
     "output_type": "display_data"
    },
    {
     "data": {
      "image/png": "[encoded data removed]"
     },
     "metadata": {
      "needs_background": "light"
     },
     "output_type": "display_data"
    },
    {
     "data": {
      "image/png": "[encoded data removed]"
     },
     "metadata": {
      "needs_background": "light"
     },
     "output_type": "display_data"
    }
   ],
   "source": [
    "plot_input(momenta), plot_input(met)"
   ]
  },
  {
   "cell_type": "markdown",
   "id": "94d675a7-2b45-469c-a373-b2a7a358df39",
   "metadata": {},
   "source": [
    "Each event contains *up to* 16 momentum vectors, each with the 9 features defined above.  Typically, variable length inputs in machine learning are stored in **padded** form, where we take the longest collection and set all inputs to be the same, longest length. We add padding vectors to the inputs which are shorter and mark these additional vectors as padding with a masking array."
   ]
  },
  {
   "cell_type": "code",
   "execution_count": 9,
   "id": "e0f083f1-7d83-4b1e-a697-891b34926e85",
   "metadata": {
    "tags": []
   },
   "outputs": [
    {
     "data": {
      "text/html": [
       "<pre style=\"white-space:pre;overflow-x:auto;line-height:normal;font-family:Menlo,'DejaVu Sans Mono',consolas,'Courier New',monospace\"><span style=\"color: #800080; text-decoration-color: #800080; font-weight: bold\">torch.Size</span><span style=\"font-weight: bold\">([</span><span style=\"color: #008080; text-decoration-color: #008080; font-weight: bold\">16</span>, <span style=\"color: #008080; text-decoration-color: #008080; font-weight: bold\">6</span><span style=\"font-weight: bold\">])</span>\n",
       "</pre>\n"
      ],
      "text/plain": [
       "\u001b[1;35mtorch.Size\u001b[0m\u001b[1m(\u001b[0m\u001b[1m[\u001b[0m\u001b[1;36m16\u001b[0m, \u001b[1;36m6\u001b[0m\u001b[1m]\u001b[0m\u001b[1m)\u001b[0m\n"
      ]
     },
     "metadata": {},
     "output_type": "display_data"
    }
   ],
   "source": [
    "momenta[0].data.shape #momenta[idx], event_idx\n",
    "# Jets[0].data.shape"
   ]
  },
  {
   "cell_type": "code",
   "execution_count": 10,
   "id": "394ffd58-b67b-47c2-8261-27c5b9a3b3d7",
   "metadata": {
    "tags": []
   },
   "outputs": [
    {
     "data": {
      "text/html": [
       "<pre style=\"white-space:pre;overflow-x:auto;line-height:normal;font-family:Menlo,'DejaVu Sans Mono',consolas,'Courier New',monospace\">\n",
       "<span style=\"color: #800080; text-decoration-color: #800080; font-weight: bold\">tensor</span><span style=\"font-weight: bold\">([</span> <span style=\"color: #00ff00; text-decoration-color: #00ff00; font-style: italic\">True</span>,  <span style=\"color: #00ff00; text-decoration-color: #00ff00; font-style: italic\">True</span>,  <span style=\"color: #00ff00; text-decoration-color: #00ff00; font-style: italic\">True</span>,  <span style=\"color: #00ff00; text-decoration-color: #00ff00; font-style: italic\">True</span>,  <span style=\"color: #00ff00; text-decoration-color: #00ff00; font-style: italic\">True</span>, <span style=\"color: #ff0000; text-decoration-color: #ff0000; font-style: italic\">False</span>, <span style=\"color: #ff0000; text-decoration-color: #ff0000; font-style: italic\">False</span>, <span style=\"color: #ff0000; text-decoration-color: #ff0000; font-style: italic\">False</span>, <span style=\"color: #ff0000; text-decoration-color: #ff0000; font-style: italic\">False</span>, <span style=\"color: #ff0000; text-decoration-color: #ff0000; font-style: italic\">False</span>,\n",
       "        <span style=\"color: #ff0000; text-decoration-color: #ff0000; font-style: italic\">False</span>, <span style=\"color: #ff0000; text-decoration-color: #ff0000; font-style: italic\">False</span>, <span style=\"color: #ff0000; text-decoration-color: #ff0000; font-style: italic\">False</span>, <span style=\"color: #ff0000; text-decoration-color: #ff0000; font-style: italic\">False</span>, <span style=\"color: #ff0000; text-decoration-color: #ff0000; font-style: italic\">False</span>, <span style=\"color: #ff0000; text-decoration-color: #ff0000; font-style: italic\">False</span><span style=\"font-weight: bold\">])</span>\n",
       "</pre>\n"
      ],
      "text/plain": [
       "\n",
       "\u001b[1;35mtensor\u001b[0m\u001b[1m(\u001b[0m\u001b[1m[\u001b[0m \u001b[3;92mTrue\u001b[0m,  \u001b[3;92mTrue\u001b[0m,  \u001b[3;92mTrue\u001b[0m,  \u001b[3;92mTrue\u001b[0m,  \u001b[3;92mTrue\u001b[0m, \u001b[3;91mFalse\u001b[0m, \u001b[3;91mFalse\u001b[0m, \u001b[3;91mFalse\u001b[0m, \u001b[3;91mFalse\u001b[0m, \u001b[3;91mFalse\u001b[0m,\n",
       "        \u001b[3;91mFalse\u001b[0m, \u001b[3;91mFalse\u001b[0m, \u001b[3;91mFalse\u001b[0m, \u001b[3;91mFalse\u001b[0m, \u001b[3;91mFalse\u001b[0m, \u001b[3;91mFalse\u001b[0m\u001b[1m]\u001b[0m\u001b[1m)\u001b[0m\n"
      ]
     },
     "metadata": {},
     "output_type": "display_data"
    }
   ],
   "source": [
    "momenta[0].mask\n",
    "# Jets[0].mask"
   ]
  },
  {
   "cell_type": "markdown",
   "id": "1954c383-29fa-4955-a065-1f3d9f95d2f0",
   "metadata": {},
   "source": [
    "We can see that most events have between 5 and 7 detector momentum vectors, but we may have up to 16! One of these is guaranteed to be a lepton, and the rest are typically hadronic jets. We include a cut on the simulated data to ensure we only look at events with at least 5 momentum."
   ]
  },
  {
   "cell_type": "code",
   "execution_count": 11,
   "id": "06f12bda",
   "metadata": {},
   "outputs": [
    {
     "data": {
      "text/html": [
       "<pre style=\"white-space:pre;overflow-x:auto;line-height:normal;font-family:Menlo,'DejaVu Sans Mono',consolas,'Courier New',monospace\"><span style=\"color: #800080; text-decoration-color: #800080; font-weight: bold\">array</span><span style=\"font-weight: bold\">([</span><span style=\"color: #008080; text-decoration-color: #008080; font-weight: bold\">5</span>, <span style=\"color: #008080; text-decoration-color: #008080; font-weight: bold\">6</span>, <span style=\"color: #008080; text-decoration-color: #008080; font-weight: bold\">5</span>, <span style=\"color: #808000; text-decoration-color: #808000\">...</span>, <span style=\"color: #008080; text-decoration-color: #008080; font-weight: bold\">5</span>, <span style=\"color: #008080; text-decoration-color: #008080; font-weight: bold\">5</span>, <span style=\"color: #008080; text-decoration-color: #008080; font-weight: bold\">6</span><span style=\"font-weight: bold\">])</span>\n",
       "</pre>\n"
      ],
      "text/plain": [
       "\u001b[1;35marray\u001b[0m\u001b[1m(\u001b[0m\u001b[1m[\u001b[0m\u001b[1;36m5\u001b[0m, \u001b[1;36m6\u001b[0m, \u001b[1;36m5\u001b[0m, \u001b[33m...\u001b[0m, \u001b[1;36m5\u001b[0m, \u001b[1;36m5\u001b[0m, \u001b[1;36m6\u001b[0m\u001b[1m]\u001b[0m\u001b[1m)\u001b[0m\n"
      ]
     },
     "metadata": {},
     "output_type": "display_data"
    }
   ],
   "source": [
    "# Jets.num_vectors().numpy()\n",
    "momenta.num_vectors().numpy()"
   ]
  },
  {
   "cell_type": "code",
   "execution_count": 12,
   "id": "afc7fe12-1ce7-4ffc-8f4d-bcda0d2ab011",
   "metadata": {},
   "outputs": [
    {
     "data": {
      "image/png": "[encoded data removed]"
     },
     "metadata": {
      "needs_background": "light"
     },
     "output_type": "display_data"
    }
   ],
   "source": [
    "num_vectors = momenta.num_vectors().numpy() #convert tensor array into numpy array, represent the number of jet(vector) in each event\n",
    "# num_vectors = Jets.num_vectors().numpy() #convert tensor array into numpy array, represent the number of jet(vector) in each event\n",
    "bin_y = np.bincount(num_vectors) #counting the number of event that has jets ranging from 0-16\n",
    "bin_x = np.arange(bin_y.shape[0]) # .shape[0] gives 17 (bins including 0), then creating  array range from 0-16\n",
    "\n",
    "plt.bar(bin_x, bin_y)\n",
    "plt.xticks(bin_x)\n",
    "plt.xlabel(\"Num Momenta Vectors\")\n",
    "plt.ylabel(\"Count\")\n",
    "plt.tight_layout()"
   ]
  },
  {
   "cell_type": "markdown",
   "id": "ebf10680-55a5-4943-9caf-8cb70ea672a5",
   "metadata": {},
   "source": [
    "Deep learning relies on a large number of examples to statistically extract information about the problem."
   ]
  },
  {
   "cell_type": "code",
   "execution_count": 12,
   "id": "dd9db371",
   "metadata": {},
   "outputs": [
    {
     "name": "stdout",
     "output_type": "stream",
     "text": [
      "Number of testing events: 466459\n",
      "Number of training events: 2951565\n"
     ]
    }
   ],
   "source": [
    "print('Number of testing events:', model.testing_dataset.num_events)\n",
    "print('Number of training events:', model.training_dataset.num_events) #both from truncated num_events file"
   ]
  },
  {
   "cell_type": "code",
   "execution_count": 14,
   "id": "bcd9fcb0-7e36-4f43-9c6d-46c3aebb5608",
   "metadata": {},
   "outputs": [],
   "source": [
    "#print(\"Number of training events:\", model.training_dataset.num_events)"
   ]
  },
  {
   "cell_type": "markdown",
   "id": "df0dfafd-2c58-46c3-ab89-192e12ae9e92",
   "metadata": {},
   "source": [
    "### Targets"
   ]
  },
  {
   "cell_type": "markdown",
   "id": "3e9c5513-4077-479c-8052-f3ee9c6abb8b",
   "metadata": {},
   "source": [
    "The targets are collections of indices which correspond to originating partons for the jets / leptons. As this data is simulated, we can determine these truth labels from the simulation logs. Note that some decay products are lost at the detector and, as such, some of the events contain missing partons. We indicate these missing partons with a mask. Our event has two groups of assignment partons:\n",
    "\n",
    "- **leptonic top (lt)** contains a single b quark jet. We do not assign the lepton as this event only contains a single lepton.\n",
    "- **hadronic top (ht)** contains the b quark jet and two light quark jets."
   ]
  },
  {
   "cell_type": "code",
   "execution_count": 14,
   "id": "68eaf682-5a94-4897-8b24-d0981dffb062",
   "metadata": {
    "tags": []
   },
   "outputs": [],
   "source": [
    "lt_indices, lt_mask = model.training_dataset.assignments[\"lt\"]\n",
    "ht_indices, ht_mask = model.training_dataset.assignments[\"ht\"]"
   ]
  },
  {
   "cell_type": "code",
   "execution_count": 15,
   "id": "882e7ab8",
   "metadata": {},
   "outputs": [
    {
     "data": {
      "text/html": [
       "<pre style=\"white-space:pre;overflow-x:auto;line-height:normal;font-family:Menlo,'DejaVu Sans Mono',consolas,'Courier New',monospace\">\n",
       "<span style=\"font-weight: bold\">(</span>\n",
       "    <span style=\"color: #800080; text-decoration-color: #800080; font-weight: bold\">tensor</span><span style=\"font-weight: bold\">([[</span> <span style=\"color: #008080; text-decoration-color: #008080; font-weight: bold\">3</span>,  <span style=\"color: #008080; text-decoration-color: #008080; font-weight: bold\">1</span>, <span style=\"color: #008080; text-decoration-color: #008080; font-weight: bold\">-1</span><span style=\"font-weight: bold\">]</span>,\n",
       "        <span style=\"font-weight: bold\">[</span> <span style=\"color: #008080; text-decoration-color: #008080; font-weight: bold\">1</span>,  <span style=\"color: #008080; text-decoration-color: #008080; font-weight: bold\">2</span>, <span style=\"color: #008080; text-decoration-color: #008080; font-weight: bold\">-1</span><span style=\"font-weight: bold\">]</span>,\n",
       "        <span style=\"font-weight: bold\">[</span><span style=\"color: #008080; text-decoration-color: #008080; font-weight: bold\">-1</span>,  <span style=\"color: #008080; text-decoration-color: #008080; font-weight: bold\">4</span>, <span style=\"color: #008080; text-decoration-color: #008080; font-weight: bold\">-1</span><span style=\"font-weight: bold\">]</span>,\n",
       "        <span style=\"color: #808000; text-decoration-color: #808000\">...</span>,\n",
       "        <span style=\"font-weight: bold\">[</span> <span style=\"color: #008080; text-decoration-color: #008080; font-weight: bold\">1</span>,  <span style=\"color: #008080; text-decoration-color: #008080; font-weight: bold\">3</span>,  <span style=\"color: #008080; text-decoration-color: #008080; font-weight: bold\">4</span><span style=\"font-weight: bold\">]</span>,\n",
       "        <span style=\"font-weight: bold\">[</span> <span style=\"color: #008080; text-decoration-color: #008080; font-weight: bold\">1</span>,  <span style=\"color: #008080; text-decoration-color: #008080; font-weight: bold\">3</span>, <span style=\"color: #008080; text-decoration-color: #008080; font-weight: bold\">-1</span><span style=\"font-weight: bold\">]</span>,\n",
       "        <span style=\"font-weight: bold\">[</span> <span style=\"color: #008080; text-decoration-color: #008080; font-weight: bold\">4</span>,  <span style=\"color: #008080; text-decoration-color: #008080; font-weight: bold\">3</span>,  <span style=\"color: #008080; text-decoration-color: #008080; font-weight: bold\">5</span><span style=\"font-weight: bold\">]])</span>,\n",
       "    <span style=\"color: #800080; text-decoration-color: #800080; font-weight: bold\">tensor</span><span style=\"font-weight: bold\">([[</span><span style=\"color: #008080; text-decoration-color: #008080; font-weight: bold\">2</span><span style=\"font-weight: bold\">]</span>,\n",
       "        <span style=\"font-weight: bold\">[</span><span style=\"color: #008080; text-decoration-color: #008080; font-weight: bold\">4</span><span style=\"font-weight: bold\">]</span>,\n",
       "        <span style=\"font-weight: bold\">[</span><span style=\"color: #008080; text-decoration-color: #008080; font-weight: bold\">3</span><span style=\"font-weight: bold\">]</span>,\n",
       "        <span style=\"color: #808000; text-decoration-color: #808000\">...</span>,\n",
       "        <span style=\"font-weight: bold\">[</span><span style=\"color: #008080; text-decoration-color: #008080; font-weight: bold\">2</span><span style=\"font-weight: bold\">]</span>,\n",
       "        <span style=\"font-weight: bold\">[</span><span style=\"color: #008080; text-decoration-color: #008080; font-weight: bold\">2</span><span style=\"font-weight: bold\">]</span>,\n",
       "        <span style=\"font-weight: bold\">[</span><span style=\"color: #008080; text-decoration-color: #008080; font-weight: bold\">2</span><span style=\"font-weight: bold\">]])</span>\n",
       "<span style=\"font-weight: bold\">)</span>\n",
       "</pre>\n"
      ],
      "text/plain": [
       "\n",
       "\u001b[1m(\u001b[0m\n",
       "    \u001b[1;35mtensor\u001b[0m\u001b[1m(\u001b[0m\u001b[1m[\u001b[0m\u001b[1m[\u001b[0m \u001b[1;36m3\u001b[0m,  \u001b[1;36m1\u001b[0m, \u001b[1;36m-1\u001b[0m\u001b[1m]\u001b[0m,\n",
       "        \u001b[1m[\u001b[0m \u001b[1;36m1\u001b[0m,  \u001b[1;36m2\u001b[0m, \u001b[1;36m-1\u001b[0m\u001b[1m]\u001b[0m,\n",
       "        \u001b[1m[\u001b[0m\u001b[1;36m-1\u001b[0m,  \u001b[1;36m4\u001b[0m, \u001b[1;36m-1\u001b[0m\u001b[1m]\u001b[0m,\n",
       "        \u001b[33m...\u001b[0m,\n",
       "        \u001b[1m[\u001b[0m \u001b[1;36m1\u001b[0m,  \u001b[1;36m3\u001b[0m,  \u001b[1;36m4\u001b[0m\u001b[1m]\u001b[0m,\n",
       "        \u001b[1m[\u001b[0m \u001b[1;36m1\u001b[0m,  \u001b[1;36m3\u001b[0m, \u001b[1;36m-1\u001b[0m\u001b[1m]\u001b[0m,\n",
       "        \u001b[1m[\u001b[0m \u001b[1;36m4\u001b[0m,  \u001b[1;36m3\u001b[0m,  \u001b[1;36m5\u001b[0m\u001b[1m]\u001b[0m\u001b[1m]\u001b[0m\u001b[1m)\u001b[0m,\n",
       "    \u001b[1;35mtensor\u001b[0m\u001b[1m(\u001b[0m\u001b[1m[\u001b[0m\u001b[1m[\u001b[0m\u001b[1;36m2\u001b[0m\u001b[1m]\u001b[0m,\n",
       "        \u001b[1m[\u001b[0m\u001b[1;36m4\u001b[0m\u001b[1m]\u001b[0m,\n",
       "        \u001b[1m[\u001b[0m\u001b[1;36m3\u001b[0m\u001b[1m]\u001b[0m,\n",
       "        \u001b[33m...\u001b[0m,\n",
       "        \u001b[1m[\u001b[0m\u001b[1;36m2\u001b[0m\u001b[1m]\u001b[0m,\n",
       "        \u001b[1m[\u001b[0m\u001b[1;36m2\u001b[0m\u001b[1m]\u001b[0m,\n",
       "        \u001b[1m[\u001b[0m\u001b[1;36m2\u001b[0m\u001b[1m]\u001b[0m\u001b[1m]\u001b[0m\u001b[1m)\u001b[0m\n",
       "\u001b[1m)\u001b[0m\n"
      ]
     },
     "metadata": {},
     "output_type": "display_data"
    }
   ],
   "source": [
    "ht_indices, lt_indices"
   ]
  },
  {
   "cell_type": "code",
   "execution_count": 16,
   "id": "3a5681e4",
   "metadata": {},
   "outputs": [
    {
     "data": {
      "text/html": [
       "<pre style=\"white-space:pre;overflow-x:auto;line-height:normal;font-family:Menlo,'DejaVu Sans Mono',consolas,'Courier New',monospace\">\n",
       "<span style=\"font-weight: bold\">(</span>\n",
       "    <span style=\"color: #800080; text-decoration-color: #800080; font-weight: bold\">tensor</span><span style=\"font-weight: bold\">([</span><span style=\"color: #ff0000; text-decoration-color: #ff0000; font-style: italic\">False</span>, <span style=\"color: #ff0000; text-decoration-color: #ff0000; font-style: italic\">False</span>, <span style=\"color: #ff0000; text-decoration-color: #ff0000; font-style: italic\">False</span>,  <span style=\"color: #808000; text-decoration-color: #808000\">...</span>,  <span style=\"color: #00ff00; text-decoration-color: #00ff00; font-style: italic\">True</span>, <span style=\"color: #ff0000; text-decoration-color: #ff0000; font-style: italic\">False</span>,  <span style=\"color: #00ff00; text-decoration-color: #00ff00; font-style: italic\">True</span><span style=\"font-weight: bold\">])</span>,\n",
       "    <span style=\"color: #800080; text-decoration-color: #800080; font-weight: bold\">tensor</span><span style=\"font-weight: bold\">([</span><span style=\"color: #00ff00; text-decoration-color: #00ff00; font-style: italic\">True</span>, <span style=\"color: #00ff00; text-decoration-color: #00ff00; font-style: italic\">True</span>, <span style=\"color: #00ff00; text-decoration-color: #00ff00; font-style: italic\">True</span>,  <span style=\"color: #808000; text-decoration-color: #808000\">...</span>, <span style=\"color: #00ff00; text-decoration-color: #00ff00; font-style: italic\">True</span>, <span style=\"color: #00ff00; text-decoration-color: #00ff00; font-style: italic\">True</span>, <span style=\"color: #00ff00; text-decoration-color: #00ff00; font-style: italic\">True</span><span style=\"font-weight: bold\">])</span>\n",
       "<span style=\"font-weight: bold\">)</span>\n",
       "</pre>\n"
      ],
      "text/plain": [
       "\n",
       "\u001b[1m(\u001b[0m\n",
       "    \u001b[1;35mtensor\u001b[0m\u001b[1m(\u001b[0m\u001b[1m[\u001b[0m\u001b[3;91mFalse\u001b[0m, \u001b[3;91mFalse\u001b[0m, \u001b[3;91mFalse\u001b[0m,  \u001b[33m...\u001b[0m,  \u001b[3;92mTrue\u001b[0m, \u001b[3;91mFalse\u001b[0m,  \u001b[3;92mTrue\u001b[0m\u001b[1m]\u001b[0m\u001b[1m)\u001b[0m,\n",
       "    \u001b[1;35mtensor\u001b[0m\u001b[1m(\u001b[0m\u001b[1m[\u001b[0m\u001b[3;92mTrue\u001b[0m, \u001b[3;92mTrue\u001b[0m, \u001b[3;92mTrue\u001b[0m,  \u001b[33m...\u001b[0m, \u001b[3;92mTrue\u001b[0m, \u001b[3;92mTrue\u001b[0m, \u001b[3;92mTrue\u001b[0m\u001b[1m]\u001b[0m\u001b[1m)\u001b[0m\n",
       "\u001b[1m)\u001b[0m\n"
      ]
     },
     "metadata": {},
     "output_type": "display_data"
    }
   ],
   "source": [
    "ht_mask, lt_mask"
   ]
  },
  {
   "cell_type": "markdown",
   "id": "278f693b-7504-4be3-8164-ad36bfe7e231",
   "metadata": {},
   "source": [
    "Lets gather all of the true assignments for our dataset. We use a helper function to index the dataset and return (valid) collections of jets for each resonance particle."
   ]
  },
  {
   "cell_type": "code",
   "execution_count": 17,
   "id": "9cf72be6-4cd5-4dd8-8ff7-2489e3b2c008",
   "metadata": {
    "tags": []
   },
   "outputs": [],
   "source": [
    "lt_momenta = assignment_index(momenta.source_data, lt_indices, lt_mask)\n",
    "ht_momenta = assignment_index(momenta.source_data, ht_indices, ht_mask)\n",
    "# lt_Jets = assignment_index(Jets.source_data, lt_indices, lt_mask)\n",
    "# ht_Jets = assignment_index(Jets.source_data, ht_indices, ht_mask)"
   ]
  },
  {
   "cell_type": "code",
   "execution_count": 18,
   "id": "d2e52d3f-853b-4370-a1cf-659cd09f9c0f",
   "metadata": {
    "tags": []
   },
   "outputs": [
    {
     "data": {
      "image/png": "[encoded data removed]"
     },
     "metadata": {
      "needs_background": "light"
     },
     "output_type": "display_data"
    }
   ],
   "source": [
    "plot_distribution(invariant_mass(ht_momenta))\n",
    "plt.xlabel(\"Hadronic $t$ Invariant Mass (GeV)\")\n",
    "plt.ylabel(\"Count\")\n",
    "plt.tight_layout();"
   ]
  },
  {
   "cell_type": "markdown",
   "id": "5285781f-d5a7-4502-9b06-c196198e9648",
   "metadata": {},
   "source": [
    "## Network\n",
    "\n",
    "The SPANet architecture is specialized to produce joint distributions over the input momentum vectors indicating the likelihood that a given assignment is correct. We have many additional outputs available, but we will focus on the assignment and detection probability outputs in this demo. \n",
    "\n",
    "The foundational unit of this architecture is the **transformer** - a special type of layer which finds the pairwise similarity between elements in a set and extract information from these similarities and differences. Our architecture follows the structure of the Feynman diagram above. \n",
    "\n",
    "The architecture is the primary location we can encode our knowledge of the underlying physics within the neural network. We choose this transformer architecture because it is invariant to the order of the inputs, and it allows us to produce symmetric output distributions. \n",
    "\n",
    "The architecture defines a functional approximation of our desired target. This approximation is parameterized by a set of learnable **parameters**, like coefficients in a Taylor expansion. These are the parts of the model which we update during training. During initialization, we set these parameters to random values.\n",
    "\n",
    "<img src=\"figures/network_diagram.png\" width=\"500\">"
   ]
  },
  {
   "cell_type": "code",
   "execution_count": 19,
   "id": "116c9014-32bc-4369-9f23-a755b371d7b4",
   "metadata": {
    "tags": []
   },
   "outputs": [],
   "source": [
    "# Take the first event as an example to evaluate the network.\n",
    "example_event = model.training_dataset[:1]\n",
    "\n",
    "if USE_GPU:\n",
    "    example_event = batch_to_gpu(example_event)\n",
    "    \n",
    "# Calculate the number of true (non-padding) momentum vectors in this event.\n",
    "num_vectors = example_event.sources[0].mask.sum().item() # .item() to convert tensor to int"
   ]
  },
  {
   "cell_type": "code",
   "execution_count": 20,
   "id": "79285f85",
   "metadata": {},
   "outputs": [],
   "source": [
    "# Run the event through the SPANet to extract the predictions.\n",
    "model.eval()\n",
    "predictions = model(example_event.sources)"
   ]
  },
  {
   "cell_type": "code",
   "execution_count": 21,
   "id": "20204120",
   "metadata": {},
   "outputs": [
    {
     "data": {
      "text/html": [
       "<pre style=\"white-space:pre;overflow-x:auto;line-height:normal;font-family:Menlo,'DejaVu Sans Mono',consolas,'Courier New',monospace\">\n",
       "<span style=\"font-weight: bold\">[</span>\n",
       "    <span style=\"color: #800080; text-decoration-color: #800080; font-weight: bold\">tensor</span><span style=\"font-weight: bold\">([[</span><span style=\"color: #008080; text-decoration-color: #008080; font-weight: bold\">-1.6081</span>, <span style=\"color: #008080; text-decoration-color: #008080; font-weight: bold\">-1.6092</span>, <span style=\"color: #008080; text-decoration-color: #008080; font-weight: bold\">-1.6110</span>, <span style=\"color: #008080; text-decoration-color: #008080; font-weight: bold\">-1.6104</span>, <span style=\"color: #008080; text-decoration-color: #008080; font-weight: bold\">-1.6086</span>,    -inf,    -inf,    -inf,\n",
       "            -inf,    -inf,    -inf,    -inf,    -inf,    -inf,    -inf,    -inf<span style=\"font-weight: bold\">]]</span>,\n",
       "       <span style=\"color: #808000; text-decoration-color: #808000\">device</span>=<span style=\"color: #008000; text-decoration-color: #008000\">'cuda:0'</span>, <span style=\"color: #808000; text-decoration-color: #808000\">grad_fn</span>=<span style=\"font-weight: bold\">&lt;</span><span style=\"color: #ff00ff; text-decoration-color: #ff00ff; font-weight: bold\">ViewBackward0</span><span style=\"font-weight: bold\">&gt;)</span>,\n",
       "    <span style=\"color: #800080; text-decoration-color: #800080; font-weight: bold\">tensor</span><span style=\"font-weight: bold\">([[[[</span>   -inf,    -inf,    -inf,  <span style=\"color: #808000; text-decoration-color: #808000\">...</span>,    -inf,    -inf,    -inf<span style=\"font-weight: bold\">]</span>,\n",
       "          <span style=\"font-weight: bold\">[</span>   -inf,    -inf, <span style=\"color: #008080; text-decoration-color: #008080; font-weight: bold\">-4.0943</span>,  <span style=\"color: #808000; text-decoration-color: #808000\">...</span>,    -inf,    -inf,    -inf<span style=\"font-weight: bold\">]</span>,\n",
       "          <span style=\"font-weight: bold\">[</span>   -inf, <span style=\"color: #008080; text-decoration-color: #008080; font-weight: bold\">-4.0943</span>,    -inf,  <span style=\"color: #808000; text-decoration-color: #808000\">...</span>,    -inf,    -inf,    -inf<span style=\"font-weight: bold\">]</span>,\n",
       "          <span style=\"color: #808000; text-decoration-color: #808000\">...</span>,\n",
       "          <span style=\"font-weight: bold\">[</span>   -inf,    -inf,    -inf,  <span style=\"color: #808000; text-decoration-color: #808000\">...</span>,    -inf,    -inf,    -inf<span style=\"font-weight: bold\">]</span>,\n",
       "          <span style=\"font-weight: bold\">[</span>   -inf,    -inf,    -inf,  <span style=\"color: #808000; text-decoration-color: #808000\">...</span>,    -inf,    -inf,    -inf<span style=\"font-weight: bold\">]</span>,\n",
       "          <span style=\"font-weight: bold\">[</span>   -inf,    -inf,    -inf,  <span style=\"color: #808000; text-decoration-color: #808000\">...</span>,    -inf,    -inf,    -inf<span style=\"font-weight: bold\">]]</span>,\n",
       "\n",
       "         <span style=\"font-weight: bold\">[[</span>   -inf,    -inf, <span style=\"color: #008080; text-decoration-color: #008080; font-weight: bold\">-4.0943</span>,  <span style=\"color: #808000; text-decoration-color: #808000\">...</span>,    -inf,    -inf,    -inf<span style=\"font-weight: bold\">]</span>,\n",
       "          <span style=\"font-weight: bold\">[</span>   -inf,    -inf,    -inf,  <span style=\"color: #808000; text-decoration-color: #808000\">...</span>,    -inf,    -inf,    -inf<span style=\"font-weight: bold\">]</span>,\n",
       "          <span style=\"font-weight: bold\">[</span><span style=\"color: #008080; text-decoration-color: #008080; font-weight: bold\">-4.0943</span>,    -inf,    -inf,  <span style=\"color: #808000; text-decoration-color: #808000\">...</span>,    -inf,    -inf,    -inf<span style=\"font-weight: bold\">]</span>,\n",
       "          <span style=\"color: #808000; text-decoration-color: #808000\">...</span>,\n",
       "          <span style=\"font-weight: bold\">[</span>   -inf,    -inf,    -inf,  <span style=\"color: #808000; text-decoration-color: #808000\">...</span>,    -inf,    -inf,    -inf<span style=\"font-weight: bold\">]</span>,\n",
       "          <span style=\"font-weight: bold\">[</span>   -inf,    -inf,    -inf,  <span style=\"color: #808000; text-decoration-color: #808000\">...</span>,    -inf,    -inf,    -inf<span style=\"font-weight: bold\">]</span>,\n",
       "          <span style=\"font-weight: bold\">[</span>   -inf,    -inf,    -inf,  <span style=\"color: #808000; text-decoration-color: #808000\">...</span>,    -inf,    -inf,    -inf<span style=\"font-weight: bold\">]]</span>,\n",
       "\n",
       "         <span style=\"font-weight: bold\">[[</span>   -inf, <span style=\"color: #008080; text-decoration-color: #008080; font-weight: bold\">-4.0943</span>,    -inf,  <span style=\"color: #808000; text-decoration-color: #808000\">...</span>,    -inf,    -inf,    -inf<span style=\"font-weight: bold\">]</span>,\n",
       "          <span style=\"font-weight: bold\">[</span><span style=\"color: #008080; text-decoration-color: #008080; font-weight: bold\">-4.0943</span>,    -inf,    -inf,  <span style=\"color: #808000; text-decoration-color: #808000\">...</span>,    -inf,    -inf,    -inf<span style=\"font-weight: bold\">]</span>,\n",
       "          <span style=\"font-weight: bold\">[</span>   -inf,    -inf,    -inf,  <span style=\"color: #808000; text-decoration-color: #808000\">...</span>,    -inf,    -inf,    -inf<span style=\"font-weight: bold\">]</span>,\n",
       "          <span style=\"color: #808000; text-decoration-color: #808000\">...</span>,\n",
       "          <span style=\"font-weight: bold\">[</span>   -inf,    -inf,    -inf,  <span style=\"color: #808000; text-decoration-color: #808000\">...</span>,    -inf,    -inf,    -inf<span style=\"font-weight: bold\">]</span>,\n",
       "          <span style=\"font-weight: bold\">[</span>   -inf,    -inf,    -inf,  <span style=\"color: #808000; text-decoration-color: #808000\">...</span>,    -inf,    -inf,    -inf<span style=\"font-weight: bold\">]</span>,\n",
       "          <span style=\"font-weight: bold\">[</span>   -inf,    -inf,    -inf,  <span style=\"color: #808000; text-decoration-color: #808000\">...</span>,    -inf,    -inf,    -inf<span style=\"font-weight: bold\">]]</span>,\n",
       "\n",
       "         <span style=\"color: #808000; text-decoration-color: #808000\">...</span>,\n",
       "\n",
       "         <span style=\"font-weight: bold\">[[</span>   -inf,    -inf,    -inf,  <span style=\"color: #808000; text-decoration-color: #808000\">...</span>,    -inf,    -inf,    -inf<span style=\"font-weight: bold\">]</span>,\n",
       "          <span style=\"font-weight: bold\">[</span>   -inf,    -inf,    -inf,  <span style=\"color: #808000; text-decoration-color: #808000\">...</span>,    -inf,    -inf,    -inf<span style=\"font-weight: bold\">]</span>,\n",
       "          <span style=\"font-weight: bold\">[</span>   -inf,    -inf,    -inf,  <span style=\"color: #808000; text-decoration-color: #808000\">...</span>,    -inf,    -inf,    -inf<span style=\"font-weight: bold\">]</span>,\n",
       "          <span style=\"color: #808000; text-decoration-color: #808000\">...</span>,\n",
       "          <span style=\"font-weight: bold\">[</span>   -inf,    -inf,    -inf,  <span style=\"color: #808000; text-decoration-color: #808000\">...</span>,    -inf,    -inf,    -inf<span style=\"font-weight: bold\">]</span>,\n",
       "          <span style=\"font-weight: bold\">[</span>   -inf,    -inf,    -inf,  <span style=\"color: #808000; text-decoration-color: #808000\">...</span>,    -inf,    -inf,    -inf<span style=\"font-weight: bold\">]</span>,\n",
       "          <span style=\"font-weight: bold\">[</span>   -inf,    -inf,    -inf,  <span style=\"color: #808000; text-decoration-color: #808000\">...</span>,    -inf,    -inf,    -inf<span style=\"font-weight: bold\">]]</span>,\n",
       "\n",
       "         <span style=\"font-weight: bold\">[[</span>   -inf,    -inf,    -inf,  <span style=\"color: #808000; text-decoration-color: #808000\">...</span>,    -inf,    -inf,    -inf<span style=\"font-weight: bold\">]</span>,\n",
       "          <span style=\"font-weight: bold\">[</span>   -inf,    -inf,    -inf,  <span style=\"color: #808000; text-decoration-color: #808000\">...</span>,    -inf,    -inf,    -inf<span style=\"font-weight: bold\">]</span>,\n",
       "          <span style=\"font-weight: bold\">[</span>   -inf,    -inf,    -inf,  <span style=\"color: #808000; text-decoration-color: #808000\">...</span>,    -inf,    -inf,    -inf<span style=\"font-weight: bold\">]</span>,\n",
       "          <span style=\"color: #808000; text-decoration-color: #808000\">...</span>,\n",
       "          <span style=\"font-weight: bold\">[</span>   -inf,    -inf,    -inf,  <span style=\"color: #808000; text-decoration-color: #808000\">...</span>,    -inf,    -inf,    -inf<span style=\"font-weight: bold\">]</span>,\n",
       "          <span style=\"font-weight: bold\">[</span>   -inf,    -inf,    -inf,  <span style=\"color: #808000; text-decoration-color: #808000\">...</span>,    -inf,    -inf,    -inf<span style=\"font-weight: bold\">]</span>,\n",
       "          <span style=\"font-weight: bold\">[</span>   -inf,    -inf,    -inf,  <span style=\"color: #808000; text-decoration-color: #808000\">...</span>,    -inf,    -inf,    -inf<span style=\"font-weight: bold\">]]</span>,\n",
       "\n",
       "         <span style=\"font-weight: bold\">[[</span>   -inf,    -inf,    -inf,  <span style=\"color: #808000; text-decoration-color: #808000\">...</span>,    -inf,    -inf,    -inf<span style=\"font-weight: bold\">]</span>,\n",
       "          <span style=\"font-weight: bold\">[</span>   -inf,    -inf,    -inf,  <span style=\"color: #808000; text-decoration-color: #808000\">...</span>,    -inf,    -inf,    -inf<span style=\"font-weight: bold\">]</span>,\n",
       "          <span style=\"font-weight: bold\">[</span>   -inf,    -inf,    -inf,  <span style=\"color: #808000; text-decoration-color: #808000\">...</span>,    -inf,    -inf,    -inf<span style=\"font-weight: bold\">]</span>,\n",
       "          <span style=\"color: #808000; text-decoration-color: #808000\">...</span>,\n",
       "          <span style=\"font-weight: bold\">[</span>   -inf,    -inf,    -inf,  <span style=\"color: #808000; text-decoration-color: #808000\">...</span>,    -inf,    -inf,    -inf<span style=\"font-weight: bold\">]</span>,\n",
       "          <span style=\"font-weight: bold\">[</span>   -inf,    -inf,    -inf,  <span style=\"color: #808000; text-decoration-color: #808000\">...</span>,    -inf,    -inf,    -inf<span style=\"font-weight: bold\">]</span>,\n",
       "          <span style=\"font-weight: bold\">[</span>   -inf,    -inf,    -inf,  <span style=\"color: #808000; text-decoration-color: #808000\">...</span>,    -inf,    -inf,    -inf<span style=\"font-weight: bold\">]]]]</span>,\n",
       "       <span style=\"color: #808000; text-decoration-color: #808000\">device</span>=<span style=\"color: #008000; text-decoration-color: #008000\">'cuda:0'</span>, <span style=\"color: #808000; text-decoration-color: #808000\">grad_fn</span>=<span style=\"font-weight: bold\">&lt;</span><span style=\"color: #ff00ff; text-decoration-color: #ff00ff; font-weight: bold\">ViewBackward0</span><span style=\"font-weight: bold\">&gt;)</span>\n",
       "<span style=\"font-weight: bold\">]</span>\n",
       "</pre>\n"
      ],
      "text/plain": [
       "\n",
       "\u001b[1m[\u001b[0m\n",
       "    \u001b[1;35mtensor\u001b[0m\u001b[1m(\u001b[0m\u001b[1m[\u001b[0m\u001b[1m[\u001b[0m\u001b[1;36m-1.6081\u001b[0m, \u001b[1;36m-1.6092\u001b[0m, \u001b[1;36m-1.6110\u001b[0m, \u001b[1;36m-1.6104\u001b[0m, \u001b[1;36m-1.6086\u001b[0m,    -inf,    -inf,    -inf,\n",
       "            -inf,    -inf,    -inf,    -inf,    -inf,    -inf,    -inf,    -inf\u001b[1m]\u001b[0m\u001b[1m]\u001b[0m,\n",
       "       \u001b[33mdevice\u001b[0m=\u001b[32m'cuda:0'\u001b[0m, \u001b[33mgrad_fn\u001b[0m=\u001b[1m<\u001b[0m\u001b[1;95mViewBackward0\u001b[0m\u001b[1m>\u001b[0m\u001b[1m)\u001b[0m,\n",
       "    \u001b[1;35mtensor\u001b[0m\u001b[1m(\u001b[0m\u001b[1m[\u001b[0m\u001b[1m[\u001b[0m\u001b[1m[\u001b[0m\u001b[1m[\u001b[0m   -inf,    -inf,    -inf,  \u001b[33m...\u001b[0m,    -inf,    -inf,    -inf\u001b[1m]\u001b[0m,\n",
       "          \u001b[1m[\u001b[0m   -inf,    -inf, \u001b[1;36m-4.0943\u001b[0m,  \u001b[33m...\u001b[0m,    -inf,    -inf,    -inf\u001b[1m]\u001b[0m,\n",
       "          \u001b[1m[\u001b[0m   -inf, \u001b[1;36m-4.0943\u001b[0m,    -inf,  \u001b[33m...\u001b[0m,    -inf,    -inf,    -inf\u001b[1m]\u001b[0m,\n",
       "          \u001b[33m...\u001b[0m,\n",
       "          \u001b[1m[\u001b[0m   -inf,    -inf,    -inf,  \u001b[33m...\u001b[0m,    -inf,    -inf,    -inf\u001b[1m]\u001b[0m,\n",
       "          \u001b[1m[\u001b[0m   -inf,    -inf,    -inf,  \u001b[33m...\u001b[0m,    -inf,    -inf,    -inf\u001b[1m]\u001b[0m,\n",
       "          \u001b[1m[\u001b[0m   -inf,    -inf,    -inf,  \u001b[33m...\u001b[0m,    -inf,    -inf,    -inf\u001b[1m]\u001b[0m\u001b[1m]\u001b[0m,\n",
       "\n",
       "         \u001b[1m[\u001b[0m\u001b[1m[\u001b[0m   -inf,    -inf, \u001b[1;36m-4.0943\u001b[0m,  \u001b[33m...\u001b[0m,    -inf,    -inf,    -inf\u001b[1m]\u001b[0m,\n",
       "          \u001b[1m[\u001b[0m   -inf,    -inf,    -inf,  \u001b[33m...\u001b[0m,    -inf,    -inf,    -inf\u001b[1m]\u001b[0m,\n",
       "          \u001b[1m[\u001b[0m\u001b[1;36m-4.0943\u001b[0m,    -inf,    -inf,  \u001b[33m...\u001b[0m,    -inf,    -inf,    -inf\u001b[1m]\u001b[0m,\n",
       "          \u001b[33m...\u001b[0m,\n",
       "          \u001b[1m[\u001b[0m   -inf,    -inf,    -inf,  \u001b[33m...\u001b[0m,    -inf,    -inf,    -inf\u001b[1m]\u001b[0m,\n",
       "          \u001b[1m[\u001b[0m   -inf,    -inf,    -inf,  \u001b[33m...\u001b[0m,    -inf,    -inf,    -inf\u001b[1m]\u001b[0m,\n",
       "          \u001b[1m[\u001b[0m   -inf,    -inf,    -inf,  \u001b[33m...\u001b[0m,    -inf,    -inf,    -inf\u001b[1m]\u001b[0m\u001b[1m]\u001b[0m,\n",
       "\n",
       "         \u001b[1m[\u001b[0m\u001b[1m[\u001b[0m   -inf, \u001b[1;36m-4.0943\u001b[0m,    -inf,  \u001b[33m...\u001b[0m,    -inf,    -inf,    -inf\u001b[1m]\u001b[0m,\n",
       "          \u001b[1m[\u001b[0m\u001b[1;36m-4.0943\u001b[0m,    -inf,    -inf,  \u001b[33m...\u001b[0m,    -inf,    -inf,    -inf\u001b[1m]\u001b[0m,\n",
       "          \u001b[1m[\u001b[0m   -inf,    -inf,    -inf,  \u001b[33m...\u001b[0m,    -inf,    -inf,    -inf\u001b[1m]\u001b[0m,\n",
       "          \u001b[33m...\u001b[0m,\n",
       "          \u001b[1m[\u001b[0m   -inf,    -inf,    -inf,  \u001b[33m...\u001b[0m,    -inf,    -inf,    -inf\u001b[1m]\u001b[0m,\n",
       "          \u001b[1m[\u001b[0m   -inf,    -inf,    -inf,  \u001b[33m...\u001b[0m,    -inf,    -inf,    -inf\u001b[1m]\u001b[0m,\n",
       "          \u001b[1m[\u001b[0m   -inf,    -inf,    -inf,  \u001b[33m...\u001b[0m,    -inf,    -inf,    -inf\u001b[1m]\u001b[0m\u001b[1m]\u001b[0m,\n",
       "\n",
       "         \u001b[33m...\u001b[0m,\n",
       "\n",
       "         \u001b[1m[\u001b[0m\u001b[1m[\u001b[0m   -inf,    -inf,    -inf,  \u001b[33m...\u001b[0m,    -inf,    -inf,    -inf\u001b[1m]\u001b[0m,\n",
       "          \u001b[1m[\u001b[0m   -inf,    -inf,    -inf,  \u001b[33m...\u001b[0m,    -inf,    -inf,    -inf\u001b[1m]\u001b[0m,\n",
       "          \u001b[1m[\u001b[0m   -inf,    -inf,    -inf,  \u001b[33m...\u001b[0m,    -inf,    -inf,    -inf\u001b[1m]\u001b[0m,\n",
       "          \u001b[33m...\u001b[0m,\n",
       "          \u001b[1m[\u001b[0m   -inf,    -inf,    -inf,  \u001b[33m...\u001b[0m,    -inf,    -inf,    -inf\u001b[1m]\u001b[0m,\n",
       "          \u001b[1m[\u001b[0m   -inf,    -inf,    -inf,  \u001b[33m...\u001b[0m,    -inf,    -inf,    -inf\u001b[1m]\u001b[0m,\n",
       "          \u001b[1m[\u001b[0m   -inf,    -inf,    -inf,  \u001b[33m...\u001b[0m,    -inf,    -inf,    -inf\u001b[1m]\u001b[0m\u001b[1m]\u001b[0m,\n",
       "\n",
       "         \u001b[1m[\u001b[0m\u001b[1m[\u001b[0m   -inf,    -inf,    -inf,  \u001b[33m...\u001b[0m,    -inf,    -inf,    -inf\u001b[1m]\u001b[0m,\n",
       "          \u001b[1m[\u001b[0m   -inf,    -inf,    -inf,  \u001b[33m...\u001b[0m,    -inf,    -inf,    -inf\u001b[1m]\u001b[0m,\n",
       "          \u001b[1m[\u001b[0m   -inf,    -inf,    -inf,  \u001b[33m...\u001b[0m,    -inf,    -inf,    -inf\u001b[1m]\u001b[0m,\n",
       "          \u001b[33m...\u001b[0m,\n",
       "          \u001b[1m[\u001b[0m   -inf,    -inf,    -inf,  \u001b[33m...\u001b[0m,    -inf,    -inf,    -inf\u001b[1m]\u001b[0m,\n",
       "          \u001b[1m[\u001b[0m   -inf,    -inf,    -inf,  \u001b[33m...\u001b[0m,    -inf,    -inf,    -inf\u001b[1m]\u001b[0m,\n",
       "          \u001b[1m[\u001b[0m   -inf,    -inf,    -inf,  \u001b[33m...\u001b[0m,    -inf,    -inf,    -inf\u001b[1m]\u001b[0m\u001b[1m]\u001b[0m,\n",
       "\n",
       "         \u001b[1m[\u001b[0m\u001b[1m[\u001b[0m   -inf,    -inf,    -inf,  \u001b[33m...\u001b[0m,    -inf,    -inf,    -inf\u001b[1m]\u001b[0m,\n",
       "          \u001b[1m[\u001b[0m   -inf,    -inf,    -inf,  \u001b[33m...\u001b[0m,    -inf,    -inf,    -inf\u001b[1m]\u001b[0m,\n",
       "          \u001b[1m[\u001b[0m   -inf,    -inf,    -inf,  \u001b[33m...\u001b[0m,    -inf,    -inf,    -inf\u001b[1m]\u001b[0m,\n",
       "          \u001b[33m...\u001b[0m,\n",
       "          \u001b[1m[\u001b[0m   -inf,    -inf,    -inf,  \u001b[33m...\u001b[0m,    -inf,    -inf,    -inf\u001b[1m]\u001b[0m,\n",
       "          \u001b[1m[\u001b[0m   -inf,    -inf,    -inf,  \u001b[33m...\u001b[0m,    -inf,    -inf,    -inf\u001b[1m]\u001b[0m,\n",
       "          \u001b[1m[\u001b[0m   -inf,    -inf,    -inf,  \u001b[33m...\u001b[0m,    -inf,    -inf,    -inf\u001b[1m]\u001b[0m\u001b[1m]\u001b[0m\u001b[1m]\u001b[0m\u001b[1m]\u001b[0m,\n",
       "       \u001b[33mdevice\u001b[0m=\u001b[32m'cuda:0'\u001b[0m, \u001b[33mgrad_fn\u001b[0m=\u001b[1m<\u001b[0m\u001b[1;95mViewBackward0\u001b[0m\u001b[1m>\u001b[0m\u001b[1m)\u001b[0m\n",
       "\u001b[1m]\u001b[0m\n"
      ]
     },
     "metadata": {},
     "output_type": "display_data"
    }
   ],
   "source": [
    "predictions.assignments"
   ]
  },
  {
   "cell_type": "markdown",
   "id": "96d1dd49-8a40-458c-9200-2433db2ecd71",
   "metadata": {},
   "source": [
    "### Assignment Outputs\n",
    "These produce the likelihood that a given collection of jets (and leptons) are assignment to a given resonance particle **given** that all of the resonance particle daughters can be found in the event (the particle is *reconstructable*). Decay products may often be lost due to gaps in the detector or multiple jets combining into one. This problem is especially channels with many final-state particles.\n",
    "\n",
    "$$ P_{assignment}(j_1, j_2, \\dots, j_{k_p} \\mid p \\text{ reconstructable}). $$"
   ]
  },
  {
   "cell_type": "code",
   "execution_count": 22,
   "id": "7a5f708b-634f-4acc-ab62-3484b7f28475",
   "metadata": {
    "tags": []
   },
   "outputs": [],
   "source": [
    "# Network produces log-probabilities for numerical stability.\n",
    "# \n",
    "# Extract the two 1d distributions for the b quarks \n",
    "# and the pairwise distribution for the pair of light quarks.\n",
    "# \n",
    "leptonic_b_assignment = torch.exp(predictions.assignments[0]) #torch.exp because predictions are log-probability\n",
    "hadronic_b_marginal_assignment = torch.exp(predictions.assignments[1]).sum((2, 3))\n",
    "hadronic_qq_marginal_assignment = torch.exp(predictions.assignments[1]).sum(1)"
   ]
  },
  {
   "cell_type": "code",
   "execution_count": 23,
   "id": "8b55caf8-8a76-4338-bcc9-98a91361d4de",
   "metadata": {
    "tags": []
   },
   "outputs": [
    {
     "data": {
      "image/png": "[encoded data removed]"
     },
     "metadata": {
      "needs_background": "light"
     },
     "output_type": "display_data"
    }
   ],
   "source": [
    "plot_1d_assignment_distribution(torch.exp(predictions.assignments[0]), num_vectors)\n",
    "plt.xticks(*make_labels(example_event))\n",
    "plt.ylim(0.0, 1.0)\n",
    "plt.xlabel(\"Input Objects\")\n",
    "plt.title(\"Leptonic $b$ Quark Assignment Disitribution\")\n",
    "plt.tight_layout();"
   ]
  },
  {
   "cell_type": "code",
   "execution_count": 24,
   "id": "1410e69b-86e0-4ee3-9937-f30c235b6064",
   "metadata": {
    "tags": []
   },
   "outputs": [
    {
     "data": {
      "image/png": "[encoded data removed]"
     },
     "metadata": {
      "needs_background": "light"
     },
     "output_type": "display_data"
    }
   ],
   "source": [
    "plot_1d_assignment_distribution(hadronic_b_marginal_assignment, num_vectors)\n",
    "plt.xticks(*make_labels(example_event))\n",
    "plt.ylim(0.0, 1.0)\n",
    "plt.xlabel(\"Input Objects\")\n",
    "plt.title(\"Hadronic $b$ Quark Assignment Disitribution\")\n",
    "plt.tight_layout();"
   ]
  },
  {
   "cell_type": "code",
   "execution_count": 25,
   "id": "618eb56a-3f3f-4d03-bf77-34664098f43d",
   "metadata": {
    "tags": []
   },
   "outputs": [
    {
     "data": {
      "image/png": "[encoded data removed]"
     },
     "metadata": {
      "needs_background": "light"
     },
     "output_type": "display_data"
    }
   ],
   "source": [
    "plot_2d_assignment_distribution(hadronic_qq_marginal_assignment, num_vectors)\n",
    "plt.xticks(*make_labels(example_event), minor=True)\n",
    "plt.yticks(*make_labels(example_event), minor=True)\n",
    "plt.title(\"Hadronic $qq$ Quark Assignment Disitribution\")\n",
    "plt.tight_layout();"
   ]
  },
  {
   "cell_type": "markdown",
   "id": "d01f32c4-69e8-46bf-b18e-8b7fbffc5741",
   "metadata": {},
   "source": [
    "## Detection Outputs\n",
    "\n",
    "To fully characterize the event, we also need to measure the probability that a given particle is even reconstructable in the event. This would be to determine the likelihood of the condition on the assignment distribution, and would give us a way to cut on events we don't think we can reconstruct.\n",
    "\n",
    "$$ P_{detection}(p \\text{ reconstructable}). $$"
   ]
  },
  {
   "cell_type": "code",
   "execution_count": 28,
   "id": "720e4e7f",
   "metadata": {},
   "outputs": [
    {
     "name": "stdout",
     "output_type": "stream",
     "text": [
      "tensor([0.0970], device='cuda:0', grad_fn=<SqueezeBackward1>) tensor(0.0970, device='cuda:0', grad_fn=<SelectBackward0>)\n",
      "tensor([-0.0798], device='cuda:0', grad_fn=<SqueezeBackward1>) tensor(-0.0798, device='cuda:0', grad_fn=<SelectBackward0>)\n"
     ]
    }
   ],
   "source": [
    "for x in predictions.detections:\n",
    "    print(x, x[0])"
   ]
  },
  {
   "cell_type": "code",
   "execution_count": 29,
   "id": "a590d093-934f-4ee7-aa55-79a67dce3994",
   "metadata": {
    "tags": []
   },
   "outputs": [
    {
     "data": {
      "text/html": [
       "<pre style=\"white-space:pre;overflow-x:auto;line-height:normal;font-family:Menlo,'DejaVu Sans Mono',consolas,'Courier New',monospace\"><span style=\"font-weight: bold\">[</span><span style=\"color: #800080; text-decoration-color: #800080; font-weight: bold\">array</span><span style=\"font-weight: bold\">(</span><span style=\"color: #008080; text-decoration-color: #008080; font-weight: bold\">0.5242354</span>, <span style=\"color: #808000; text-decoration-color: #808000\">dtype</span>=<span style=\"color: #800080; text-decoration-color: #800080\">float32</span><span style=\"font-weight: bold\">)</span>, <span style=\"color: #800080; text-decoration-color: #800080; font-weight: bold\">array</span><span style=\"font-weight: bold\">(</span><span style=\"color: #008080; text-decoration-color: #008080; font-weight: bold\">0.4800634</span>, <span style=\"color: #808000; text-decoration-color: #808000\">dtype</span>=<span style=\"color: #800080; text-decoration-color: #800080\">float32</span><span style=\"font-weight: bold\">)]</span>\n",
       "</pre>\n"
      ],
      "text/plain": [
       "\u001b[1m[\u001b[0m\u001b[1;35marray\u001b[0m\u001b[1m(\u001b[0m\u001b[1;36m0.5242354\u001b[0m, \u001b[33mdtype\u001b[0m=\u001b[35mfloat32\u001b[0m\u001b[1m)\u001b[0m, \u001b[1;35marray\u001b[0m\u001b[1m(\u001b[0m\u001b[1;36m0.4800634\u001b[0m, \u001b[33mdtype\u001b[0m=\u001b[35mfloat32\u001b[0m\u001b[1m)\u001b[0m\u001b[1m]\u001b[0m\n"
      ]
     },
     "metadata": {},
     "output_type": "display_data"
    }
   ],
   "source": [
    "[torch.sigmoid(x[0]).detach().cpu().numpy() for x in predictions.detections] #x[0] for accessing the actual data"
   ]
  },
  {
   "cell_type": "markdown",
   "id": "cb980662-73c8-4d6b-9c81-df6bf15e99ad",
   "metadata": {},
   "source": [
    "# Training"
   ]
  },
  {
   "cell_type": "markdown",
   "id": "4380fa62-1902-4faf-a1d6-01431cc5fc5d",
   "metadata": {},
   "source": [
    "Deep learning models are trained through a process known as batch stochastic gradient descent.\n",
    "\n",
    "1. Sample a small subset of the dataset to evaluate the network on.\n",
    "2. Evaluate the network on this batch.\n",
    "3. Compare to the truth value and produce a numerical measure of the error via a **loss** function.\n",
    "4. Calculate the gradient this loss function with respect to the network's parameter's.\n",
    "5. Update the parameters by taking a small step towards the gradient."
   ]
  },
  {
   "cell_type": "code",
   "execution_count": 26,
   "id": "f7a7b9fd-f913-4d93-9a5a-be99c082684f",
   "metadata": {
    "tags": []
   },
   "outputs": [
    {
     "data": {
      "text/html": [
       "<pre style=\"white-space:pre;overflow-x:auto;line-height:normal;font-family:Menlo,'DejaVu Sans Mono',consolas,'Courier New',monospace\"><span style=\"font-style: italic\">                      Losses                       </span>\n",
       "┏━━━━━━━━━━━━━━┳━━━━━━━━━━━━━━━━━┳━━━━━━━━━━━━━━━━┓\n",
       "┃<span style=\"color: #800080; text-decoration-color: #800080; font-weight: bold\"> Particle     </span>┃<span style=\"color: #800080; text-decoration-color: #800080; font-weight: bold\"> Assignment Loss </span>┃<span style=\"color: #800080; text-decoration-color: #800080; font-weight: bold\"> Detection Loss </span>┃\n",
       "┡━━━━━━━━━━━━━━╇━━━━━━━━━━━━━━━━━╇━━━━━━━━━━━━━━━━┩\n",
       "│ Leptonic Top │ 1.348691        │ 0.70023704     │\n",
       "│ Hadronic Top │ 2.2250466       │ 0.71221125     │\n",
       "└──────────────┴─────────────────┴────────────────┘\n",
       "</pre>\n"
      ],
      "text/plain": [
       "\u001b[3m                      Losses                       \u001b[0m\n",
       "┏━━━━━━━━━━━━━━┳━━━━━━━━━━━━━━━━━┳━━━━━━━━━━━━━━━━┓\n",
       "┃\u001b[1;35m \u001b[0m\u001b[1;35mParticle    \u001b[0m\u001b[1;35m \u001b[0m┃\u001b[1;35m \u001b[0m\u001b[1;35mAssignment Loss\u001b[0m\u001b[1;35m \u001b[0m┃\u001b[1;35m \u001b[0m\u001b[1;35mDetection Loss\u001b[0m\u001b[1;35m \u001b[0m┃\n",
       "┡━━━━━━━━━━━━━━╇━━━━━━━━━━━━━━━━━╇━━━━━━━━━━━━━━━━┩\n",
       "│ Leptonic Top │ 1.348691        │ 0.70023704     │\n",
       "│ Hadronic Top │ 2.2250466       │ 0.71221125     │\n",
       "└──────────────┴─────────────────┴────────────────┘\n"
      ]
     },
     "metadata": {},
     "output_type": "display_data"
    }
   ],
   "source": [
    "model.train()\n",
    "\n",
    "# 1 Sample subset of the data\n",
    "# -----------------------------------------------------------------------------\n",
    "batch = next(iter(model.train_dataloader()))\n",
    "\n",
    "if USE_GPU:\n",
    "    batch = batch_to_gpu(batch)\n",
    "\n",
    "# 2 Evaluate the network\n",
    "# -----------------------------------------------------------------------------\n",
    "predictions = model(batch.sources)\n",
    "\n",
    "# 3 Compute Loss\n",
    "# -----------------------------------------------------------------------------\n",
    "symmetric_losses, _ = model.symmetric_losses(\n",
    "    predictions.assignments,\n",
    "    predictions.detections,\n",
    "    batch.assignment_targets\n",
    ")\n",
    "\n",
    "display_loss_table(symmetric_losses)\n",
    "loss = symmetric_losses.mean()\n",
    "\n",
    "# 4 Compute Gradients\n",
    "# -----------------------------------------------------------------------------\n",
    "optimizer.zero_grad()\n",
    "loss.backward()\n",
    "\n",
    "# 5 Update Parameters\n",
    "# -----------------------------------------------------------------------------\n",
    "optimizer.step()"
   ]
  },
  {
   "cell_type": "markdown",
   "id": "192d9818-d883-4b7e-9f07-85e92b8cebe7",
   "metadata": {},
   "source": [
    "As we often require large datasets and large models to approximate complex functions, we often train neural networks at large scale, across several GPUs."
   ]
  },
  {
   "cell_type": "code",
   "execution_count": 27,
   "id": "421a2d56",
   "metadata": {},
   "outputs": [
    {
     "name": "stderr",
     "output_type": "stream",
     "text": [
      "GPU available: True (cuda), used: True\n",
      "TPU available: False, using: 0 TPU cores\n",
      "IPU available: False, using: 0 IPUs\n",
      "HPU available: False, using: 0 HPUs\n",
      "You are using a CUDA device ('NVIDIA A100-PCIE-40GB') that has Tensor Cores. To properly utilize them, you should set `torch.set_float32_matmul_precision('medium' | 'high')` which will trade-off precision for performance. For more details, read https://pytorch.org/docs/stable/generated/torch.set_float32_matmul_precision.html#torch.set_float32_matmul_precision\n",
      "LOCAL_RANK: 0 - CUDA_VISIBLE_DEVICES: [0]\n",
      "\n",
      "  | Name                   | Type                      | Params\n",
      "---------------------------------------------------------------------\n",
      "0 | embedding              | MultiInputVectorEmbedding | 563 K \n",
      "1 | encoder                | JetEncoder                | 2.6 M \n",
      "2 | branch_decoders        | ModuleList                | 6.3 M \n",
      "3 | regression_decoder     | RegressionDecoder         | 0     \n",
      "4 | classification_decoder | ClassificationDecoder     | 0     \n",
      "---------------------------------------------------------------------\n",
      "9.5 M     Trainable params\n",
      "20        Non-trainable params\n",
      "9.5 M     Total params\n",
      "38.176    Total estimated model params size (MB)\n"
     ]
    },
    {
     "data": {
      "application/vnd.jupyter.widget-view+json": {
       "model_id": "",
       "version_major": 2,
       "version_minor": 0
      },
      "text/plain": [
       "Sanity Checking: 0it [00:00, ?it/s]"
      ]
     },
     "metadata": {},
     "output_type": "display_data"
    },
    {
     "data": {
      "application/vnd.jupyter.widget-view+json": {
       "model_id": "381a67c5e39441da9384d6f6b774af27",
       "version_major": 2,
       "version_minor": 0
      },
      "text/plain": [
       "Training: 0it [00:00, ?it/s]"
      ]
     },
     "metadata": {},
     "output_type": "display_data"
    },
    {
     "data": {
      "application/vnd.jupyter.widget-view+json": {
       "model_id": "",
       "version_major": 2,
       "version_minor": 0
      },
      "text/plain": [
       "Validation: 0it [00:00, ?it/s]"
      ]
     },
     "metadata": {},
     "output_type": "display_data"
    },
    {
     "data": {
      "application/vnd.jupyter.widget-view+json": {
       "model_id": "",
       "version_major": 2,
       "version_minor": 0
      },
      "text/plain": [
       "Validation: 0it [00:00, ?it/s]"
      ]
     },
     "metadata": {},
     "output_type": "display_data"
    },
    {
     "data": {
      "application/vnd.jupyter.widget-view+json": {
       "model_id": "",
       "version_major": 2,
       "version_minor": 0
      },
      "text/plain": [
       "Validation: 0it [00:00, ?it/s]"
      ]
     },
     "metadata": {},
     "output_type": "display_data"
    },
    {
     "data": {
      "application/vnd.jupyter.widget-view+json": {
       "model_id": "",
       "version_major": 2,
       "version_minor": 0
      },
      "text/plain": [
       "Validation: 0it [00:00, ?it/s]"
      ]
     },
     "metadata": {},
     "output_type": "display_data"
    },
    {
     "data": {
      "application/vnd.jupyter.widget-view+json": {
       "model_id": "",
       "version_major": 2,
       "version_minor": 0
      },
      "text/plain": [
       "Validation: 0it [00:00, ?it/s]"
      ]
     },
     "metadata": {},
     "output_type": "display_data"
    },
    {
     "name": "stderr",
     "output_type": "stream",
     "text": [
      "IOPub message rate exceeded.\n",
      "The notebook server will temporarily stop sending output\n",
      "to the client in order to avoid crashing it.\n",
      "To change this limit, set the config variable\n",
      "`--NotebookApp.iopub_msg_rate_limit`.\n",
      "\n",
      "Current values:\n",
      "NotebookApp.iopub_msg_rate_limit=1000.0 (msgs/sec)\n",
      "NotebookApp.rate_limit_window=3.0 (secs)\n",
      "\n",
      "IOPub message rate exceeded.\n",
      "The notebook server will temporarily stop sending output\n",
      "to the client in order to avoid crashing it.\n",
      "To change this limit, set the config variable\n",
      "`--NotebookApp.iopub_msg_rate_limit`.\n",
      "\n",
      "Current values:\n",
      "NotebookApp.iopub_msg_rate_limit=1000.0 (msgs/sec)\n",
      "NotebookApp.rate_limit_window=3.0 (secs)\n",
      "\n",
      "IOPub message rate exceeded.\n",
      "The notebook server will temporarily stop sending output\n",
      "to the client in order to avoid crashing it.\n",
      "To change this limit, set the config variable\n",
      "`--NotebookApp.iopub_msg_rate_limit`.\n",
      "\n",
      "Current values:\n",
      "NotebookApp.iopub_msg_rate_limit=1000.0 (msgs/sec)\n",
      "NotebookApp.rate_limit_window=3.0 (secs)\n",
      "\n"
     ]
    },
    {
     "data": {
      "application/vnd.jupyter.widget-view+json": {
       "model_id": "",
       "version_major": 2,
       "version_minor": 0
      },
      "text/plain": [
       "Validation: 0it [00:00, ?it/s]"
      ]
     },
     "metadata": {},
     "output_type": "display_data"
    },
    {
     "name": "stderr",
     "output_type": "stream",
     "text": [
      "IOPub message rate exceeded.\n",
      "The notebook server will temporarily stop sending output\n",
      "to the client in order to avoid crashing it.\n",
      "To change this limit, set the config variable\n",
      "`--NotebookApp.iopub_msg_rate_limit`.\n",
      "\n",
      "Current values:\n",
      "NotebookApp.iopub_msg_rate_limit=1000.0 (msgs/sec)\n",
      "NotebookApp.rate_limit_window=3.0 (secs)\n",
      "\n"
     ]
    },
    {
     "data": {
      "application/vnd.jupyter.widget-view+json": {
       "model_id": "b65e113bda8948b2b2aa99948af88928",
       "version_major": 2,
       "version_minor": 0
      },
      "text/plain": [
       "Validation: 0it [00:00, ?it/s]"
      ]
     },
     "metadata": {},
     "output_type": "display_data"
    },
    {
     "name": "stderr",
     "output_type": "stream",
     "text": [
      "IOPub message rate exceeded.\n",
      "The notebook server will temporarily stop sending output\n",
      "to the client in order to avoid crashing it.\n",
      "To change this limit, set the config variable\n",
      "`--NotebookApp.iopub_msg_rate_limit`.\n",
      "\n",
      "Current values:\n",
      "NotebookApp.iopub_msg_rate_limit=1000.0 (msgs/sec)\n",
      "NotebookApp.rate_limit_window=3.0 (secs)\n",
      "\n",
      "IOPub message rate exceeded.\n",
      "The notebook server will temporarily stop sending output\n",
      "to the client in order to avoid crashing it.\n",
      "To change this limit, set the config variable\n",
      "`--NotebookApp.iopub_msg_rate_limit`.\n",
      "\n",
      "Current values:\n",
      "NotebookApp.iopub_msg_rate_limit=1000.0 (msgs/sec)\n",
      "NotebookApp.rate_limit_window=3.0 (secs)\n",
      "\n",
      "IOPub message rate exceeded.\n",
      "The notebook server will temporarily stop sending output\n",
      "to the client in order to avoid crashing it.\n",
      "To change this limit, set the config variable\n",
      "`--NotebookApp.iopub_msg_rate_limit`.\n",
      "\n",
      "Current values:\n",
      "NotebookApp.iopub_msg_rate_limit=1000.0 (msgs/sec)\n",
      "NotebookApp.rate_limit_window=3.0 (secs)\n",
      "\n",
      "IOPub message rate exceeded.\n",
      "The notebook server will temporarily stop sending output\n",
      "to the client in order to avoid crashing it.\n",
      "To change this limit, set the config variable\n",
      "`--NotebookApp.iopub_msg_rate_limit`.\n",
      "\n",
      "Current values:\n",
      "NotebookApp.iopub_msg_rate_limit=1000.0 (msgs/sec)\n",
      "NotebookApp.rate_limit_window=3.0 (secs)\n",
      "\n",
      "IOPub message rate exceeded.\n",
      "The notebook server will temporarily stop sending output\n",
      "to the client in order to avoid crashing it.\n",
      "To change this limit, set the config variable\n",
      "`--NotebookApp.iopub_msg_rate_limit`.\n",
      "\n",
      "Current values:\n",
      "NotebookApp.iopub_msg_rate_limit=1000.0 (msgs/sec)\n",
      "NotebookApp.rate_limit_window=3.0 (secs)\n",
      "\n"
     ]
    },
    {
     "data": {
      "application/vnd.jupyter.widget-view+json": {
       "model_id": "81ede54118534781a3c0cbde72f8ca9f",
       "version_major": 2,
       "version_minor": 0
      },
      "text/plain": [
       "Validation: 0it [00:00, ?it/s]"
      ]
     },
     "metadata": {},
     "output_type": "display_data"
    },
    {
     "name": "stderr",
     "output_type": "stream",
     "text": [
      "IOPub message rate exceeded.\n",
      "The notebook server will temporarily stop sending output\n",
      "to the client in order to avoid crashing it.\n",
      "To change this limit, set the config variable\n",
      "`--NotebookApp.iopub_msg_rate_limit`.\n",
      "\n",
      "Current values:\n",
      "NotebookApp.iopub_msg_rate_limit=1000.0 (msgs/sec)\n",
      "NotebookApp.rate_limit_window=3.0 (secs)\n",
      "\n",
      "IOPub message rate exceeded.\n",
      "The notebook server will temporarily stop sending output\n",
      "to the client in order to avoid crashing it.\n",
      "To change this limit, set the config variable\n",
      "`--NotebookApp.iopub_msg_rate_limit`.\n",
      "\n",
      "Current values:\n",
      "NotebookApp.iopub_msg_rate_limit=1000.0 (msgs/sec)\n",
      "NotebookApp.rate_limit_window=3.0 (secs)\n",
      "\n",
      "IOPub message rate exceeded.\n",
      "The notebook server will temporarily stop sending output\n",
      "to the client in order to avoid crashing it.\n",
      "To change this limit, set the config variable\n",
      "`--NotebookApp.iopub_msg_rate_limit`.\n",
      "\n",
      "Current values:\n",
      "NotebookApp.iopub_msg_rate_limit=1000.0 (msgs/sec)\n",
      "NotebookApp.rate_limit_window=3.0 (secs)\n",
      "\n",
      "IOPub message rate exceeded.\n",
      "The notebook server will temporarily stop sending output\n",
      "to the client in order to avoid crashing it.\n",
      "To change this limit, set the config variable\n",
      "`--NotebookApp.iopub_msg_rate_limit`.\n",
      "\n",
      "Current values:\n",
      "NotebookApp.iopub_msg_rate_limit=1000.0 (msgs/sec)\n",
      "NotebookApp.rate_limit_window=3.0 (secs)\n",
      "\n",
      "IOPub message rate exceeded.\n",
      "The notebook server will temporarily stop sending output\n",
      "to the client in order to avoid crashing it.\n",
      "To change this limit, set the config variable\n",
      "`--NotebookApp.iopub_msg_rate_limit`.\n",
      "\n",
      "Current values:\n",
      "NotebookApp.iopub_msg_rate_limit=1000.0 (msgs/sec)\n",
      "NotebookApp.rate_limit_window=3.0 (secs)\n",
      "\n",
      "IOPub message rate exceeded.\n",
      "The notebook server will temporarily stop sending output\n",
      "to the client in order to avoid crashing it.\n",
      "To change this limit, set the config variable\n",
      "`--NotebookApp.iopub_msg_rate_limit`.\n",
      "\n",
      "Current values:\n",
      "NotebookApp.iopub_msg_rate_limit=1000.0 (msgs/sec)\n",
      "NotebookApp.rate_limit_window=3.0 (secs)\n",
      "\n",
      "IOPub message rate exceeded.\n",
      "The notebook server will temporarily stop sending output\n",
      "to the client in order to avoid crashing it.\n",
      "To change this limit, set the config variable\n",
      "`--NotebookApp.iopub_msg_rate_limit`.\n",
      "\n",
      "Current values:\n",
      "NotebookApp.iopub_msg_rate_limit=1000.0 (msgs/sec)\n",
      "NotebookApp.rate_limit_window=3.0 (secs)\n",
      "\n"
     ]
    },
    {
     "data": {
      "application/vnd.jupyter.widget-view+json": {
       "model_id": "",
       "version_major": 2,
       "version_minor": 0
      },
      "text/plain": [
       "Validation: 0it [00:00, ?it/s]"
      ]
     },
     "metadata": {},
     "output_type": "display_data"
    },
    {
     "data": {
      "application/vnd.jupyter.widget-view+json": {
       "model_id": "",
       "version_major": 2,
       "version_minor": 0
      },
      "text/plain": [
       "Validation: 0it [00:00, ?it/s]"
      ]
     },
     "metadata": {},
     "output_type": "display_data"
    },
    {
     "data": {
      "application/vnd.jupyter.widget-view+json": {
       "model_id": "",
       "version_major": 2,
       "version_minor": 0
      },
      "text/plain": [
       "Validation: 0it [00:00, ?it/s]"
      ]
     },
     "metadata": {},
     "output_type": "display_data"
    },
    {
     "name": "stderr",
     "output_type": "stream",
     "text": [
      "IOPub message rate exceeded.\n",
      "The notebook server will temporarily stop sending output\n",
      "to the client in order to avoid crashing it.\n",
      "To change this limit, set the config variable\n",
      "`--NotebookApp.iopub_msg_rate_limit`.\n",
      "\n",
      "Current values:\n",
      "NotebookApp.iopub_msg_rate_limit=1000.0 (msgs/sec)\n",
      "NotebookApp.rate_limit_window=3.0 (secs)\n",
      "\n"
     ]
    },
    {
     "data": {
      "application/vnd.jupyter.widget-view+json": {
       "model_id": "",
       "version_major": 2,
       "version_minor": 0
      },
      "text/plain": [
       "Validation: 0it [00:00, ?it/s]"
      ]
     },
     "metadata": {},
     "output_type": "display_data"
    },
    {
     "name": "stderr",
     "output_type": "stream",
     "text": [
      "IOPub message rate exceeded.\n",
      "The notebook server will temporarily stop sending output\n",
      "to the client in order to avoid crashing it.\n",
      "To change this limit, set the config variable\n",
      "`--NotebookApp.iopub_msg_rate_limit`.\n",
      "\n",
      "Current values:\n",
      "NotebookApp.iopub_msg_rate_limit=1000.0 (msgs/sec)\n",
      "NotebookApp.rate_limit_window=3.0 (secs)\n",
      "\n",
      "IOPub message rate exceeded.\n",
      "The notebook server will temporarily stop sending output\n",
      "to the client in order to avoid crashing it.\n",
      "To change this limit, set the config variable\n",
      "`--NotebookApp.iopub_msg_rate_limit`.\n",
      "\n",
      "Current values:\n",
      "NotebookApp.iopub_msg_rate_limit=1000.0 (msgs/sec)\n",
      "NotebookApp.rate_limit_window=3.0 (secs)\n",
      "\n",
      "IOPub message rate exceeded.\n",
      "The notebook server will temporarily stop sending output\n",
      "to the client in order to avoid crashing it.\n",
      "To change this limit, set the config variable\n",
      "`--NotebookApp.iopub_msg_rate_limit`.\n",
      "\n",
      "Current values:\n",
      "NotebookApp.iopub_msg_rate_limit=1000.0 (msgs/sec)\n",
      "NotebookApp.rate_limit_window=3.0 (secs)\n",
      "\n",
      "IOPub message rate exceeded.\n",
      "The notebook server will temporarily stop sending output\n",
      "to the client in order to avoid crashing it.\n",
      "To change this limit, set the config variable\n",
      "`--NotebookApp.iopub_msg_rate_limit`.\n",
      "\n",
      "Current values:\n",
      "NotebookApp.iopub_msg_rate_limit=1000.0 (msgs/sec)\n",
      "NotebookApp.rate_limit_window=3.0 (secs)\n",
      "\n"
     ]
    },
    {
     "data": {
      "application/vnd.jupyter.widget-view+json": {
       "model_id": "",
       "version_major": 2,
       "version_minor": 0
      },
      "text/plain": [
       "Validation: 0it [00:00, ?it/s]"
      ]
     },
     "metadata": {},
     "output_type": "display_data"
    },
    {
     "name": "stderr",
     "output_type": "stream",
     "text": [
      "IOPub message rate exceeded.\n",
      "The notebook server will temporarily stop sending output\n",
      "to the client in order to avoid crashing it.\n",
      "To change this limit, set the config variable\n",
      "`--NotebookApp.iopub_msg_rate_limit`.\n",
      "\n",
      "Current values:\n",
      "NotebookApp.iopub_msg_rate_limit=1000.0 (msgs/sec)\n",
      "NotebookApp.rate_limit_window=3.0 (secs)\n",
      "\n",
      "IOPub message rate exceeded.\n",
      "The notebook server will temporarily stop sending output\n",
      "to the client in order to avoid crashing it.\n",
      "To change this limit, set the config variable\n",
      "`--NotebookApp.iopub_msg_rate_limit`.\n",
      "\n",
      "Current values:\n",
      "NotebookApp.iopub_msg_rate_limit=1000.0 (msgs/sec)\n",
      "NotebookApp.rate_limit_window=3.0 (secs)\n",
      "\n"
     ]
    },
    {
     "data": {
      "application/vnd.jupyter.widget-view+json": {
       "model_id": "",
       "version_major": 2,
       "version_minor": 0
      },
      "text/plain": [
       "Validation: 0it [00:00, ?it/s]"
      ]
     },
     "metadata": {},
     "output_type": "display_data"
    },
    {
     "name": "stderr",
     "output_type": "stream",
     "text": [
      "IOPub message rate exceeded.\n",
      "The notebook server will temporarily stop sending output\n",
      "to the client in order to avoid crashing it.\n",
      "To change this limit, set the config variable\n",
      "`--NotebookApp.iopub_msg_rate_limit`.\n",
      "\n",
      "Current values:\n",
      "NotebookApp.iopub_msg_rate_limit=1000.0 (msgs/sec)\n",
      "NotebookApp.rate_limit_window=3.0 (secs)\n",
      "\n",
      "IOPub message rate exceeded.\n",
      "The notebook server will temporarily stop sending output\n",
      "to the client in order to avoid crashing it.\n",
      "To change this limit, set the config variable\n",
      "`--NotebookApp.iopub_msg_rate_limit`.\n",
      "\n",
      "Current values:\n",
      "NotebookApp.iopub_msg_rate_limit=1000.0 (msgs/sec)\n",
      "NotebookApp.rate_limit_window=3.0 (secs)\n",
      "\n",
      "IOPub message rate exceeded.\n",
      "The notebook server will temporarily stop sending output\n",
      "to the client in order to avoid crashing it.\n",
      "To change this limit, set the config variable\n",
      "`--NotebookApp.iopub_msg_rate_limit`.\n",
      "\n",
      "Current values:\n",
      "NotebookApp.iopub_msg_rate_limit=1000.0 (msgs/sec)\n",
      "NotebookApp.rate_limit_window=3.0 (secs)\n",
      "\n",
      "IOPub message rate exceeded.\n",
      "The notebook server will temporarily stop sending output\n",
      "to the client in order to avoid crashing it.\n",
      "To change this limit, set the config variable\n",
      "`--NotebookApp.iopub_msg_rate_limit`.\n",
      "\n",
      "Current values:\n",
      "NotebookApp.iopub_msg_rate_limit=1000.0 (msgs/sec)\n",
      "NotebookApp.rate_limit_window=3.0 (secs)\n",
      "\n",
      "IOPub message rate exceeded.\n",
      "The notebook server will temporarily stop sending output\n",
      "to the client in order to avoid crashing it.\n",
      "To change this limit, set the config variable\n",
      "`--NotebookApp.iopub_msg_rate_limit`.\n",
      "\n",
      "Current values:\n",
      "NotebookApp.iopub_msg_rate_limit=1000.0 (msgs/sec)\n",
      "NotebookApp.rate_limit_window=3.0 (secs)\n",
      "\n",
      "IOPub message rate exceeded.\n",
      "The notebook server will temporarily stop sending output\n",
      "to the client in order to avoid crashing it.\n",
      "To change this limit, set the config variable\n",
      "`--NotebookApp.iopub_msg_rate_limit`.\n",
      "\n",
      "Current values:\n",
      "NotebookApp.iopub_msg_rate_limit=1000.0 (msgs/sec)\n",
      "NotebookApp.rate_limit_window=3.0 (secs)\n",
      "\n"
     ]
    },
    {
     "data": {
      "application/vnd.jupyter.widget-view+json": {
       "model_id": "",
       "version_major": 2,
       "version_minor": 0
      },
      "text/plain": [
       "Validation: 0it [00:00, ?it/s]"
      ]
     },
     "metadata": {},
     "output_type": "display_data"
    },
    {
     "name": "stderr",
     "output_type": "stream",
     "text": [
      "IOPub message rate exceeded.\n",
      "The notebook server will temporarily stop sending output\n",
      "to the client in order to avoid crashing it.\n",
      "To change this limit, set the config variable\n",
      "`--NotebookApp.iopub_msg_rate_limit`.\n",
      "\n",
      "Current values:\n",
      "NotebookApp.iopub_msg_rate_limit=1000.0 (msgs/sec)\n",
      "NotebookApp.rate_limit_window=3.0 (secs)\n",
      "\n"
     ]
    },
    {
     "data": {
      "application/vnd.jupyter.widget-view+json": {
       "model_id": "b905863744be440aabd1765f32b9aad4",
       "version_major": 2,
       "version_minor": 0
      },
      "text/plain": [
       "Validation: 0it [00:00, ?it/s]"
      ]
     },
     "metadata": {},
     "output_type": "display_data"
    },
    {
     "name": "stderr",
     "output_type": "stream",
     "text": [
      "IOPub message rate exceeded.\n",
      "The notebook server will temporarily stop sending output\n",
      "to the client in order to avoid crashing it.\n",
      "To change this limit, set the config variable\n",
      "`--NotebookApp.iopub_msg_rate_limit`.\n",
      "\n",
      "Current values:\n",
      "NotebookApp.iopub_msg_rate_limit=1000.0 (msgs/sec)\n",
      "NotebookApp.rate_limit_window=3.0 (secs)\n",
      "\n"
     ]
    },
    {
     "data": {
      "application/vnd.jupyter.widget-view+json": {
       "model_id": "",
       "version_major": 2,
       "version_minor": 0
      },
      "text/plain": [
       "Validation: 0it [00:00, ?it/s]"
      ]
     },
     "metadata": {},
     "output_type": "display_data"
    },
    {
     "data": {
      "application/vnd.jupyter.widget-view+json": {
       "model_id": "",
       "version_major": 2,
       "version_minor": 0
      },
      "text/plain": [
       "Validation: 0it [00:00, ?it/s]"
      ]
     },
     "metadata": {},
     "output_type": "display_data"
    },
    {
     "name": "stderr",
     "output_type": "stream",
     "text": [
      "IOPub message rate exceeded.\n",
      "The notebook server will temporarily stop sending output\n",
      "to the client in order to avoid crashing it.\n",
      "To change this limit, set the config variable\n",
      "`--NotebookApp.iopub_msg_rate_limit`.\n",
      "\n",
      "Current values:\n",
      "NotebookApp.iopub_msg_rate_limit=1000.0 (msgs/sec)\n",
      "NotebookApp.rate_limit_window=3.0 (secs)\n",
      "\n"
     ]
    },
    {
     "data": {
      "application/vnd.jupyter.widget-view+json": {
       "model_id": "",
       "version_major": 2,
       "version_minor": 0
      },
      "text/plain": [
       "Validation: 0it [00:00, ?it/s]"
      ]
     },
     "metadata": {},
     "output_type": "display_data"
    },
    {
     "name": "stderr",
     "output_type": "stream",
     "text": [
      "IOPub message rate exceeded.\n",
      "The notebook server will temporarily stop sending output\n",
      "to the client in order to avoid crashing it.\n",
      "To change this limit, set the config variable\n",
      "`--NotebookApp.iopub_msg_rate_limit`.\n",
      "\n",
      "Current values:\n",
      "NotebookApp.iopub_msg_rate_limit=1000.0 (msgs/sec)\n",
      "NotebookApp.rate_limit_window=3.0 (secs)\n",
      "\n",
      "IOPub message rate exceeded.\n",
      "The notebook server will temporarily stop sending output\n",
      "to the client in order to avoid crashing it.\n",
      "To change this limit, set the config variable\n",
      "`--NotebookApp.iopub_msg_rate_limit`.\n",
      "\n",
      "Current values:\n",
      "NotebookApp.iopub_msg_rate_limit=1000.0 (msgs/sec)\n",
      "NotebookApp.rate_limit_window=3.0 (secs)\n",
      "\n"
     ]
    },
    {
     "data": {
      "application/vnd.jupyter.widget-view+json": {
       "model_id": "",
       "version_major": 2,
       "version_minor": 0
      },
      "text/plain": [
       "Validation: 0it [00:00, ?it/s]"
      ]
     },
     "metadata": {},
     "output_type": "display_data"
    },
    {
     "name": "stderr",
     "output_type": "stream",
     "text": [
      "IOPub message rate exceeded.\n",
      "The notebook server will temporarily stop sending output\n",
      "to the client in order to avoid crashing it.\n",
      "To change this limit, set the config variable\n",
      "`--NotebookApp.iopub_msg_rate_limit`.\n",
      "\n",
      "Current values:\n",
      "NotebookApp.iopub_msg_rate_limit=1000.0 (msgs/sec)\n",
      "NotebookApp.rate_limit_window=3.0 (secs)\n",
      "\n",
      "IOPub message rate exceeded.\n",
      "The notebook server will temporarily stop sending output\n",
      "to the client in order to avoid crashing it.\n",
      "To change this limit, set the config variable\n",
      "`--NotebookApp.iopub_msg_rate_limit`.\n",
      "\n",
      "Current values:\n",
      "NotebookApp.iopub_msg_rate_limit=1000.0 (msgs/sec)\n",
      "NotebookApp.rate_limit_window=3.0 (secs)\n",
      "\n"
     ]
    },
    {
     "data": {
      "application/vnd.jupyter.widget-view+json": {
       "model_id": "",
       "version_major": 2,
       "version_minor": 0
      },
      "text/plain": [
       "Validation: 0it [00:00, ?it/s]"
      ]
     },
     "metadata": {},
     "output_type": "display_data"
    },
    {
     "name": "stderr",
     "output_type": "stream",
     "text": [
      "IOPub message rate exceeded.\n",
      "The notebook server will temporarily stop sending output\n",
      "to the client in order to avoid crashing it.\n",
      "To change this limit, set the config variable\n",
      "`--NotebookApp.iopub_msg_rate_limit`.\n",
      "\n",
      "Current values:\n",
      "NotebookApp.iopub_msg_rate_limit=1000.0 (msgs/sec)\n",
      "NotebookApp.rate_limit_window=3.0 (secs)\n",
      "\n"
     ]
    },
    {
     "data": {
      "application/vnd.jupyter.widget-view+json": {
       "model_id": "2a73c3f73c6149ccab0433a8f0e31711",
       "version_major": 2,
       "version_minor": 0
      },
      "text/plain": [
       "Validation: 0it [00:00, ?it/s]"
      ]
     },
     "metadata": {},
     "output_type": "display_data"
    },
    {
     "name": "stderr",
     "output_type": "stream",
     "text": [
      "IOPub message rate exceeded.\n",
      "The notebook server will temporarily stop sending output\n",
      "to the client in order to avoid crashing it.\n",
      "To change this limit, set the config variable\n",
      "`--NotebookApp.iopub_msg_rate_limit`.\n",
      "\n",
      "Current values:\n",
      "NotebookApp.iopub_msg_rate_limit=1000.0 (msgs/sec)\n",
      "NotebookApp.rate_limit_window=3.0 (secs)\n",
      "\n",
      "IOPub message rate exceeded.\n",
      "The notebook server will temporarily stop sending output\n",
      "to the client in order to avoid crashing it.\n",
      "To change this limit, set the config variable\n",
      "`--NotebookApp.iopub_msg_rate_limit`.\n",
      "\n",
      "Current values:\n",
      "NotebookApp.iopub_msg_rate_limit=1000.0 (msgs/sec)\n",
      "NotebookApp.rate_limit_window=3.0 (secs)\n",
      "\n",
      "IOPub message rate exceeded.\n",
      "The notebook server will temporarily stop sending output\n",
      "to the client in order to avoid crashing it.\n",
      "To change this limit, set the config variable\n",
      "`--NotebookApp.iopub_msg_rate_limit`.\n",
      "\n",
      "Current values:\n",
      "NotebookApp.iopub_msg_rate_limit=1000.0 (msgs/sec)\n",
      "NotebookApp.rate_limit_window=3.0 (secs)\n",
      "\n",
      "IOPub message rate exceeded.\n",
      "The notebook server will temporarily stop sending output\n",
      "to the client in order to avoid crashing it.\n",
      "To change this limit, set the config variable\n",
      "`--NotebookApp.iopub_msg_rate_limit`.\n",
      "\n",
      "Current values:\n",
      "NotebookApp.iopub_msg_rate_limit=1000.0 (msgs/sec)\n",
      "NotebookApp.rate_limit_window=3.0 (secs)\n",
      "\n"
     ]
    },
    {
     "data": {
      "application/vnd.jupyter.widget-view+json": {
       "model_id": "",
       "version_major": 2,
       "version_minor": 0
      },
      "text/plain": [
       "Validation: 0it [00:00, ?it/s]"
      ]
     },
     "metadata": {},
     "output_type": "display_data"
    },
    {
     "data": {
      "application/vnd.jupyter.widget-view+json": {
       "model_id": "",
       "version_major": 2,
       "version_minor": 0
      },
      "text/plain": [
       "Validation: 0it [00:00, ?it/s]"
      ]
     },
     "metadata": {},
     "output_type": "display_data"
    },
    {
     "data": {
      "application/vnd.jupyter.widget-view+json": {
       "model_id": "",
       "version_major": 2,
       "version_minor": 0
      },
      "text/plain": [
       "Validation: 0it [00:00, ?it/s]"
      ]
     },
     "metadata": {},
     "output_type": "display_data"
    },
    {
     "data": {
      "application/vnd.jupyter.widget-view+json": {
       "model_id": "",
       "version_major": 2,
       "version_minor": 0
      },
      "text/plain": [
       "Validation: 0it [00:00, ?it/s]"
      ]
     },
     "metadata": {},
     "output_type": "display_data"
    },
    {
     "name": "stderr",
     "output_type": "stream",
     "text": [
      "IOPub message rate exceeded.\n",
      "The notebook server will temporarily stop sending output\n",
      "to the client in order to avoid crashing it.\n",
      "To change this limit, set the config variable\n",
      "`--NotebookApp.iopub_msg_rate_limit`.\n",
      "\n",
      "Current values:\n",
      "NotebookApp.iopub_msg_rate_limit=1000.0 (msgs/sec)\n",
      "NotebookApp.rate_limit_window=3.0 (secs)\n",
      "\n"
     ]
    },
    {
     "data": {
      "application/vnd.jupyter.widget-view+json": {
       "model_id": "",
       "version_major": 2,
       "version_minor": 0
      },
      "text/plain": [
       "Validation: 0it [00:00, ?it/s]"
      ]
     },
     "metadata": {},
     "output_type": "display_data"
    },
    {
     "data": {
      "application/vnd.jupyter.widget-view+json": {
       "model_id": "9568244113994369b22bd315518bb6e6",
       "version_major": 2,
       "version_minor": 0
      },
      "text/plain": [
       "Validation: 0it [00:00, ?it/s]"
      ]
     },
     "metadata": {},
     "output_type": "display_data"
    },
    {
     "name": "stderr",
     "output_type": "stream",
     "text": [
      "IOPub message rate exceeded.\n",
      "The notebook server will temporarily stop sending output\n",
      "to the client in order to avoid crashing it.\n",
      "To change this limit, set the config variable\n",
      "`--NotebookApp.iopub_msg_rate_limit`.\n",
      "\n",
      "Current values:\n",
      "NotebookApp.iopub_msg_rate_limit=1000.0 (msgs/sec)\n",
      "NotebookApp.rate_limit_window=3.0 (secs)\n",
      "\n",
      "IOPub message rate exceeded.\n",
      "The notebook server will temporarily stop sending output\n",
      "to the client in order to avoid crashing it.\n",
      "To change this limit, set the config variable\n",
      "`--NotebookApp.iopub_msg_rate_limit`.\n",
      "\n",
      "Current values:\n",
      "NotebookApp.iopub_msg_rate_limit=1000.0 (msgs/sec)\n",
      "NotebookApp.rate_limit_window=3.0 (secs)\n",
      "\n",
      "IOPub message rate exceeded.\n",
      "The notebook server will temporarily stop sending output\n",
      "to the client in order to avoid crashing it.\n",
      "To change this limit, set the config variable\n",
      "`--NotebookApp.iopub_msg_rate_limit`.\n",
      "\n",
      "Current values:\n",
      "NotebookApp.iopub_msg_rate_limit=1000.0 (msgs/sec)\n",
      "NotebookApp.rate_limit_window=3.0 (secs)\n",
      "\n"
     ]
    },
    {
     "data": {
      "application/vnd.jupyter.widget-view+json": {
       "model_id": "",
       "version_major": 2,
       "version_minor": 0
      },
      "text/plain": [
       "Validation: 0it [00:00, ?it/s]"
      ]
     },
     "metadata": {},
     "output_type": "display_data"
    },
    {
     "name": "stderr",
     "output_type": "stream",
     "text": [
      "IOPub message rate exceeded.\n",
      "The notebook server will temporarily stop sending output\n",
      "to the client in order to avoid crashing it.\n",
      "To change this limit, set the config variable\n",
      "`--NotebookApp.iopub_msg_rate_limit`.\n",
      "\n",
      "Current values:\n",
      "NotebookApp.iopub_msg_rate_limit=1000.0 (msgs/sec)\n",
      "NotebookApp.rate_limit_window=3.0 (secs)\n",
      "\n",
      "IOPub message rate exceeded.\n",
      "The notebook server will temporarily stop sending output\n",
      "to the client in order to avoid crashing it.\n",
      "To change this limit, set the config variable\n",
      "`--NotebookApp.iopub_msg_rate_limit`.\n",
      "\n",
      "Current values:\n",
      "NotebookApp.iopub_msg_rate_limit=1000.0 (msgs/sec)\n",
      "NotebookApp.rate_limit_window=3.0 (secs)\n",
      "\n",
      "IOPub message rate exceeded.\n",
      "The notebook server will temporarily stop sending output\n",
      "to the client in order to avoid crashing it.\n",
      "To change this limit, set the config variable\n",
      "`--NotebookApp.iopub_msg_rate_limit`.\n",
      "\n",
      "Current values:\n",
      "NotebookApp.iopub_msg_rate_limit=1000.0 (msgs/sec)\n",
      "NotebookApp.rate_limit_window=3.0 (secs)\n",
      "\n",
      "IOPub message rate exceeded.\n",
      "The notebook server will temporarily stop sending output\n",
      "to the client in order to avoid crashing it.\n",
      "To change this limit, set the config variable\n",
      "`--NotebookApp.iopub_msg_rate_limit`.\n",
      "\n",
      "Current values:\n",
      "NotebookApp.iopub_msg_rate_limit=1000.0 (msgs/sec)\n",
      "NotebookApp.rate_limit_window=3.0 (secs)\n",
      "\n",
      "IOPub message rate exceeded.\n",
      "The notebook server will temporarily stop sending output\n",
      "to the client in order to avoid crashing it.\n",
      "To change this limit, set the config variable\n",
      "`--NotebookApp.iopub_msg_rate_limit`.\n",
      "\n",
      "Current values:\n",
      "NotebookApp.iopub_msg_rate_limit=1000.0 (msgs/sec)\n",
      "NotebookApp.rate_limit_window=3.0 (secs)\n",
      "\n",
      "IOPub message rate exceeded.\n",
      "The notebook server will temporarily stop sending output\n",
      "to the client in order to avoid crashing it.\n",
      "To change this limit, set the config variable\n",
      "`--NotebookApp.iopub_msg_rate_limit`.\n",
      "\n",
      "Current values:\n",
      "NotebookApp.iopub_msg_rate_limit=1000.0 (msgs/sec)\n",
      "NotebookApp.rate_limit_window=3.0 (secs)\n",
      "\n",
      "IOPub message rate exceeded.\n",
      "The notebook server will temporarily stop sending output\n",
      "to the client in order to avoid crashing it.\n",
      "To change this limit, set the config variable\n",
      "`--NotebookApp.iopub_msg_rate_limit`.\n",
      "\n",
      "Current values:\n",
      "NotebookApp.iopub_msg_rate_limit=1000.0 (msgs/sec)\n",
      "NotebookApp.rate_limit_window=3.0 (secs)\n",
      "\n"
     ]
    },
    {
     "data": {
      "application/vnd.jupyter.widget-view+json": {
       "model_id": "",
       "version_major": 2,
       "version_minor": 0
      },
      "text/plain": [
       "Validation: 0it [00:00, ?it/s]"
      ]
     },
     "metadata": {},
     "output_type": "display_data"
    },
    {
     "name": "stderr",
     "output_type": "stream",
     "text": [
      "IOPub message rate exceeded.\n",
      "The notebook server will temporarily stop sending output\n",
      "to the client in order to avoid crashing it.\n",
      "To change this limit, set the config variable\n",
      "`--NotebookApp.iopub_msg_rate_limit`.\n",
      "\n",
      "Current values:\n",
      "NotebookApp.iopub_msg_rate_limit=1000.0 (msgs/sec)\n",
      "NotebookApp.rate_limit_window=3.0 (secs)\n",
      "\n"
     ]
    },
    {
     "data": {
      "application/vnd.jupyter.widget-view+json": {
       "model_id": "7f3e00e96f9b43e2943146c8d9045216",
       "version_major": 2,
       "version_minor": 0
      },
      "text/plain": [
       "Validation: 0it [00:00, ?it/s]"
      ]
     },
     "metadata": {},
     "output_type": "display_data"
    },
    {
     "name": "stderr",
     "output_type": "stream",
     "text": [
      "IOPub message rate exceeded.\n",
      "The notebook server will temporarily stop sending output\n",
      "to the client in order to avoid crashing it.\n",
      "To change this limit, set the config variable\n",
      "`--NotebookApp.iopub_msg_rate_limit`.\n",
      "\n",
      "Current values:\n",
      "NotebookApp.iopub_msg_rate_limit=1000.0 (msgs/sec)\n",
      "NotebookApp.rate_limit_window=3.0 (secs)\n",
      "\n",
      "IOPub message rate exceeded.\n",
      "The notebook server will temporarily stop sending output\n",
      "to the client in order to avoid crashing it.\n",
      "To change this limit, set the config variable\n",
      "`--NotebookApp.iopub_msg_rate_limit`.\n",
      "\n",
      "Current values:\n",
      "NotebookApp.iopub_msg_rate_limit=1000.0 (msgs/sec)\n",
      "NotebookApp.rate_limit_window=3.0 (secs)\n",
      "\n"
     ]
    },
    {
     "data": {
      "application/vnd.jupyter.widget-view+json": {
       "model_id": "",
       "version_major": 2,
       "version_minor": 0
      },
      "text/plain": [
       "Validation: 0it [00:00, ?it/s]"
      ]
     },
     "metadata": {},
     "output_type": "display_data"
    },
    {
     "name": "stderr",
     "output_type": "stream",
     "text": [
      "IOPub message rate exceeded.\n",
      "The notebook server will temporarily stop sending output\n",
      "to the client in order to avoid crashing it.\n",
      "To change this limit, set the config variable\n",
      "`--NotebookApp.iopub_msg_rate_limit`.\n",
      "\n",
      "Current values:\n",
      "NotebookApp.iopub_msg_rate_limit=1000.0 (msgs/sec)\n",
      "NotebookApp.rate_limit_window=3.0 (secs)\n",
      "\n",
      "IOPub message rate exceeded.\n",
      "The notebook server will temporarily stop sending output\n",
      "to the client in order to avoid crashing it.\n",
      "To change this limit, set the config variable\n",
      "`--NotebookApp.iopub_msg_rate_limit`.\n",
      "\n",
      "Current values:\n",
      "NotebookApp.iopub_msg_rate_limit=1000.0 (msgs/sec)\n",
      "NotebookApp.rate_limit_window=3.0 (secs)\n",
      "\n",
      "IOPub message rate exceeded.\n",
      "The notebook server will temporarily stop sending output\n",
      "to the client in order to avoid crashing it.\n",
      "To change this limit, set the config variable\n",
      "`--NotebookApp.iopub_msg_rate_limit`.\n",
      "\n",
      "Current values:\n",
      "NotebookApp.iopub_msg_rate_limit=1000.0 (msgs/sec)\n",
      "NotebookApp.rate_limit_window=3.0 (secs)\n",
      "\n",
      "IOPub message rate exceeded.\n",
      "The notebook server will temporarily stop sending output\n",
      "to the client in order to avoid crashing it.\n",
      "To change this limit, set the config variable\n",
      "`--NotebookApp.iopub_msg_rate_limit`.\n",
      "\n",
      "Current values:\n",
      "NotebookApp.iopub_msg_rate_limit=1000.0 (msgs/sec)\n",
      "NotebookApp.rate_limit_window=3.0 (secs)\n",
      "\n",
      "IOPub message rate exceeded.\n",
      "The notebook server will temporarily stop sending output\n",
      "to the client in order to avoid crashing it.\n",
      "To change this limit, set the config variable\n",
      "`--NotebookApp.iopub_msg_rate_limit`.\n",
      "\n",
      "Current values:\n",
      "NotebookApp.iopub_msg_rate_limit=1000.0 (msgs/sec)\n",
      "NotebookApp.rate_limit_window=3.0 (secs)\n",
      "\n",
      "IOPub message rate exceeded.\n",
      "The notebook server will temporarily stop sending output\n",
      "to the client in order to avoid crashing it.\n",
      "To change this limit, set the config variable\n",
      "`--NotebookApp.iopub_msg_rate_limit`.\n",
      "\n",
      "Current values:\n",
      "NotebookApp.iopub_msg_rate_limit=1000.0 (msgs/sec)\n",
      "NotebookApp.rate_limit_window=3.0 (secs)\n",
      "\n",
      "IOPub message rate exceeded.\n",
      "The notebook server will temporarily stop sending output\n",
      "to the client in order to avoid crashing it.\n",
      "To change this limit, set the config variable\n",
      "`--NotebookApp.iopub_msg_rate_limit`.\n",
      "\n",
      "Current values:\n",
      "NotebookApp.iopub_msg_rate_limit=1000.0 (msgs/sec)\n",
      "NotebookApp.rate_limit_window=3.0 (secs)\n",
      "\n",
      "IOPub message rate exceeded.\n",
      "The notebook server will temporarily stop sending output\n",
      "to the client in order to avoid crashing it.\n",
      "To change this limit, set the config variable\n",
      "`--NotebookApp.iopub_msg_rate_limit`.\n",
      "\n",
      "Current values:\n",
      "NotebookApp.iopub_msg_rate_limit=1000.0 (msgs/sec)\n",
      "NotebookApp.rate_limit_window=3.0 (secs)\n",
      "\n"
     ]
    },
    {
     "data": {
      "application/vnd.jupyter.widget-view+json": {
       "model_id": "",
       "version_major": 2,
       "version_minor": 0
      },
      "text/plain": [
       "Validation: 0it [00:00, ?it/s]"
      ]
     },
     "metadata": {},
     "output_type": "display_data"
    },
    {
     "name": "stderr",
     "output_type": "stream",
     "text": [
      "IOPub message rate exceeded.\n",
      "The notebook server will temporarily stop sending output\n",
      "to the client in order to avoid crashing it.\n",
      "To change this limit, set the config variable\n",
      "`--NotebookApp.iopub_msg_rate_limit`.\n",
      "\n",
      "Current values:\n",
      "NotebookApp.iopub_msg_rate_limit=1000.0 (msgs/sec)\n",
      "NotebookApp.rate_limit_window=3.0 (secs)\n",
      "\n",
      "IOPub message rate exceeded.\n",
      "The notebook server will temporarily stop sending output\n",
      "to the client in order to avoid crashing it.\n",
      "To change this limit, set the config variable\n",
      "`--NotebookApp.iopub_msg_rate_limit`.\n",
      "\n",
      "Current values:\n",
      "NotebookApp.iopub_msg_rate_limit=1000.0 (msgs/sec)\n",
      "NotebookApp.rate_limit_window=3.0 (secs)\n",
      "\n",
      "IOPub message rate exceeded.\n",
      "The notebook server will temporarily stop sending output\n",
      "to the client in order to avoid crashing it.\n",
      "To change this limit, set the config variable\n",
      "`--NotebookApp.iopub_msg_rate_limit`.\n",
      "\n",
      "Current values:\n",
      "NotebookApp.iopub_msg_rate_limit=1000.0 (msgs/sec)\n",
      "NotebookApp.rate_limit_window=3.0 (secs)\n",
      "\n",
      "IOPub message rate exceeded.\n",
      "The notebook server will temporarily stop sending output\n",
      "to the client in order to avoid crashing it.\n",
      "To change this limit, set the config variable\n",
      "`--NotebookApp.iopub_msg_rate_limit`.\n",
      "\n",
      "Current values:\n",
      "NotebookApp.iopub_msg_rate_limit=1000.0 (msgs/sec)\n",
      "NotebookApp.rate_limit_window=3.0 (secs)\n",
      "\n",
      "IOPub message rate exceeded.\n",
      "The notebook server will temporarily stop sending output\n",
      "to the client in order to avoid crashing it.\n",
      "To change this limit, set the config variable\n",
      "`--NotebookApp.iopub_msg_rate_limit`.\n",
      "\n",
      "Current values:\n",
      "NotebookApp.iopub_msg_rate_limit=1000.0 (msgs/sec)\n",
      "NotebookApp.rate_limit_window=3.0 (secs)\n",
      "\n",
      "IOPub message rate exceeded.\n",
      "The notebook server will temporarily stop sending output\n",
      "to the client in order to avoid crashing it.\n",
      "To change this limit, set the config variable\n",
      "`--NotebookApp.iopub_msg_rate_limit`.\n",
      "\n",
      "Current values:\n",
      "NotebookApp.iopub_msg_rate_limit=1000.0 (msgs/sec)\n",
      "NotebookApp.rate_limit_window=3.0 (secs)\n",
      "\n",
      "IOPub message rate exceeded.\n",
      "The notebook server will temporarily stop sending output\n",
      "to the client in order to avoid crashing it.\n",
      "To change this limit, set the config variable\n",
      "`--NotebookApp.iopub_msg_rate_limit`.\n",
      "\n",
      "Current values:\n",
      "NotebookApp.iopub_msg_rate_limit=1000.0 (msgs/sec)\n",
      "NotebookApp.rate_limit_window=3.0 (secs)\n",
      "\n",
      "IOPub message rate exceeded.\n",
      "The notebook server will temporarily stop sending output\n",
      "to the client in order to avoid crashing it.\n",
      "To change this limit, set the config variable\n",
      "`--NotebookApp.iopub_msg_rate_limit`.\n",
      "\n",
      "Current values:\n",
      "NotebookApp.iopub_msg_rate_limit=1000.0 (msgs/sec)\n",
      "NotebookApp.rate_limit_window=3.0 (secs)\n",
      "\n",
      "IOPub message rate exceeded.\n",
      "The notebook server will temporarily stop sending output\n",
      "to the client in order to avoid crashing it.\n",
      "To change this limit, set the config variable\n",
      "`--NotebookApp.iopub_msg_rate_limit`.\n",
      "\n",
      "Current values:\n",
      "NotebookApp.iopub_msg_rate_limit=1000.0 (msgs/sec)\n",
      "NotebookApp.rate_limit_window=3.0 (secs)\n",
      "\n",
      "IOPub message rate exceeded.\n",
      "The notebook server will temporarily stop sending output\n",
      "to the client in order to avoid crashing it.\n",
      "To change this limit, set the config variable\n",
      "`--NotebookApp.iopub_msg_rate_limit`.\n",
      "\n",
      "Current values:\n",
      "NotebookApp.iopub_msg_rate_limit=1000.0 (msgs/sec)\n",
      "NotebookApp.rate_limit_window=3.0 (secs)\n",
      "\n",
      "IOPub message rate exceeded.\n",
      "The notebook server will temporarily stop sending output\n",
      "to the client in order to avoid crashing it.\n",
      "To change this limit, set the config variable\n",
      "`--NotebookApp.iopub_msg_rate_limit`.\n",
      "\n",
      "Current values:\n",
      "NotebookApp.iopub_msg_rate_limit=1000.0 (msgs/sec)\n",
      "NotebookApp.rate_limit_window=3.0 (secs)\n",
      "\n",
      "IOPub message rate exceeded.\n",
      "The notebook server will temporarily stop sending output\n",
      "to the client in order to avoid crashing it.\n",
      "To change this limit, set the config variable\n",
      "`--NotebookApp.iopub_msg_rate_limit`.\n",
      "\n",
      "Current values:\n",
      "NotebookApp.iopub_msg_rate_limit=1000.0 (msgs/sec)\n",
      "NotebookApp.rate_limit_window=3.0 (secs)\n",
      "\n",
      "IOPub message rate exceeded.\n",
      "The notebook server will temporarily stop sending output\n",
      "to the client in order to avoid crashing it.\n",
      "To change this limit, set the config variable\n",
      "`--NotebookApp.iopub_msg_rate_limit`.\n",
      "\n",
      "Current values:\n",
      "NotebookApp.iopub_msg_rate_limit=1000.0 (msgs/sec)\n",
      "NotebookApp.rate_limit_window=3.0 (secs)\n",
      "\n",
      "IOPub message rate exceeded.\n",
      "The notebook server will temporarily stop sending output\n",
      "to the client in order to avoid crashing it.\n",
      "To change this limit, set the config variable\n",
      "`--NotebookApp.iopub_msg_rate_limit`.\n",
      "\n",
      "Current values:\n",
      "NotebookApp.iopub_msg_rate_limit=1000.0 (msgs/sec)\n",
      "NotebookApp.rate_limit_window=3.0 (secs)\n",
      "\n",
      "IOPub message rate exceeded.\n",
      "The notebook server will temporarily stop sending output\n",
      "to the client in order to avoid crashing it.\n",
      "To change this limit, set the config variable\n",
      "`--NotebookApp.iopub_msg_rate_limit`.\n",
      "\n",
      "Current values:\n",
      "NotebookApp.iopub_msg_rate_limit=1000.0 (msgs/sec)\n",
      "NotebookApp.rate_limit_window=3.0 (secs)\n",
      "\n",
      "IOPub message rate exceeded.\n",
      "The notebook server will temporarily stop sending output\n",
      "to the client in order to avoid crashing it.\n",
      "To change this limit, set the config variable\n",
      "`--NotebookApp.iopub_msg_rate_limit`.\n",
      "\n",
      "Current values:\n",
      "NotebookApp.iopub_msg_rate_limit=1000.0 (msgs/sec)\n",
      "NotebookApp.rate_limit_window=3.0 (secs)\n",
      "\n",
      "IOPub message rate exceeded.\n",
      "The notebook server will temporarily stop sending output\n",
      "to the client in order to avoid crashing it.\n",
      "To change this limit, set the config variable\n",
      "`--NotebookApp.iopub_msg_rate_limit`.\n",
      "\n",
      "Current values:\n",
      "NotebookApp.iopub_msg_rate_limit=1000.0 (msgs/sec)\n",
      "NotebookApp.rate_limit_window=3.0 (secs)\n",
      "\n",
      "IOPub message rate exceeded.\n",
      "The notebook server will temporarily stop sending output\n",
      "to the client in order to avoid crashing it.\n",
      "To change this limit, set the config variable\n",
      "`--NotebookApp.iopub_msg_rate_limit`.\n",
      "\n",
      "Current values:\n",
      "NotebookApp.iopub_msg_rate_limit=1000.0 (msgs/sec)\n",
      "NotebookApp.rate_limit_window=3.0 (secs)\n",
      "\n",
      "IOPub message rate exceeded.\n",
      "The notebook server will temporarily stop sending output\n",
      "to the client in order to avoid crashing it.\n",
      "To change this limit, set the config variable\n",
      "`--NotebookApp.iopub_msg_rate_limit`.\n",
      "\n",
      "Current values:\n",
      "NotebookApp.iopub_msg_rate_limit=1000.0 (msgs/sec)\n",
      "NotebookApp.rate_limit_window=3.0 (secs)\n",
      "\n"
     ]
    },
    {
     "data": {
      "application/vnd.jupyter.widget-view+json": {
       "model_id": "ac821628cda84d4c836a2908378c5124",
       "version_major": 2,
       "version_minor": 0
      },
      "text/plain": [
       "Validation: 0it [00:00, ?it/s]"
      ]
     },
     "metadata": {},
     "output_type": "display_data"
    },
    {
     "name": "stderr",
     "output_type": "stream",
     "text": [
      "IOPub message rate exceeded.\n",
      "The notebook server will temporarily stop sending output\n",
      "to the client in order to avoid crashing it.\n",
      "To change this limit, set the config variable\n",
      "`--NotebookApp.iopub_msg_rate_limit`.\n",
      "\n",
      "Current values:\n",
      "NotebookApp.iopub_msg_rate_limit=1000.0 (msgs/sec)\n",
      "NotebookApp.rate_limit_window=3.0 (secs)\n",
      "\n",
      "IOPub message rate exceeded.\n",
      "The notebook server will temporarily stop sending output\n",
      "to the client in order to avoid crashing it.\n",
      "To change this limit, set the config variable\n",
      "`--NotebookApp.iopub_msg_rate_limit`.\n",
      "\n",
      "Current values:\n",
      "NotebookApp.iopub_msg_rate_limit=1000.0 (msgs/sec)\n",
      "NotebookApp.rate_limit_window=3.0 (secs)\n",
      "\n",
      "IOPub message rate exceeded.\n",
      "The notebook server will temporarily stop sending output\n",
      "to the client in order to avoid crashing it.\n",
      "To change this limit, set the config variable\n",
      "`--NotebookApp.iopub_msg_rate_limit`.\n",
      "\n",
      "Current values:\n",
      "NotebookApp.iopub_msg_rate_limit=1000.0 (msgs/sec)\n",
      "NotebookApp.rate_limit_window=3.0 (secs)\n",
      "\n"
     ]
    },
    {
     "data": {
      "application/vnd.jupyter.widget-view+json": {
       "model_id": "25adadd9ef6249deacf91a12fb219248",
       "version_major": 2,
       "version_minor": 0
      },
      "text/plain": [
       "Validation: 0it [00:00, ?it/s]"
      ]
     },
     "metadata": {},
     "output_type": "display_data"
    },
    {
     "name": "stderr",
     "output_type": "stream",
     "text": [
      "IOPub message rate exceeded.\n",
      "The notebook server will temporarily stop sending output\n",
      "to the client in order to avoid crashing it.\n",
      "To change this limit, set the config variable\n",
      "`--NotebookApp.iopub_msg_rate_limit`.\n",
      "\n",
      "Current values:\n",
      "NotebookApp.iopub_msg_rate_limit=1000.0 (msgs/sec)\n",
      "NotebookApp.rate_limit_window=3.0 (secs)\n",
      "\n",
      "IOPub message rate exceeded.\n",
      "The notebook server will temporarily stop sending output\n",
      "to the client in order to avoid crashing it.\n",
      "To change this limit, set the config variable\n",
      "`--NotebookApp.iopub_msg_rate_limit`.\n",
      "\n",
      "Current values:\n",
      "NotebookApp.iopub_msg_rate_limit=1000.0 (msgs/sec)\n",
      "NotebookApp.rate_limit_window=3.0 (secs)\n",
      "\n",
      "IOPub message rate exceeded.\n",
      "The notebook server will temporarily stop sending output\n",
      "to the client in order to avoid crashing it.\n",
      "To change this limit, set the config variable\n",
      "`--NotebookApp.iopub_msg_rate_limit`.\n",
      "\n",
      "Current values:\n",
      "NotebookApp.iopub_msg_rate_limit=1000.0 (msgs/sec)\n",
      "NotebookApp.rate_limit_window=3.0 (secs)\n",
      "\n",
      "IOPub message rate exceeded.\n",
      "The notebook server will temporarily stop sending output\n",
      "to the client in order to avoid crashing it.\n",
      "To change this limit, set the config variable\n",
      "`--NotebookApp.iopub_msg_rate_limit`.\n",
      "\n",
      "Current values:\n",
      "NotebookApp.iopub_msg_rate_limit=1000.0 (msgs/sec)\n",
      "NotebookApp.rate_limit_window=3.0 (secs)\n",
      "\n",
      "IOPub message rate exceeded.\n",
      "The notebook server will temporarily stop sending output\n",
      "to the client in order to avoid crashing it.\n",
      "To change this limit, set the config variable\n",
      "`--NotebookApp.iopub_msg_rate_limit`.\n",
      "\n",
      "Current values:\n",
      "NotebookApp.iopub_msg_rate_limit=1000.0 (msgs/sec)\n",
      "NotebookApp.rate_limit_window=3.0 (secs)\n",
      "\n",
      "IOPub message rate exceeded.\n",
      "The notebook server will temporarily stop sending output\n",
      "to the client in order to avoid crashing it.\n",
      "To change this limit, set the config variable\n",
      "`--NotebookApp.iopub_msg_rate_limit`.\n",
      "\n",
      "Current values:\n",
      "NotebookApp.iopub_msg_rate_limit=1000.0 (msgs/sec)\n",
      "NotebookApp.rate_limit_window=3.0 (secs)\n",
      "\n",
      "IOPub message rate exceeded.\n",
      "The notebook server will temporarily stop sending output\n",
      "to the client in order to avoid crashing it.\n",
      "To change this limit, set the config variable\n",
      "`--NotebookApp.iopub_msg_rate_limit`.\n",
      "\n",
      "Current values:\n",
      "NotebookApp.iopub_msg_rate_limit=1000.0 (msgs/sec)\n",
      "NotebookApp.rate_limit_window=3.0 (secs)\n",
      "\n",
      "IOPub message rate exceeded.\n",
      "The notebook server will temporarily stop sending output\n",
      "to the client in order to avoid crashing it.\n",
      "To change this limit, set the config variable\n",
      "`--NotebookApp.iopub_msg_rate_limit`.\n",
      "\n",
      "Current values:\n",
      "NotebookApp.iopub_msg_rate_limit=1000.0 (msgs/sec)\n",
      "NotebookApp.rate_limit_window=3.0 (secs)\n",
      "\n",
      "IOPub message rate exceeded.\n",
      "The notebook server will temporarily stop sending output\n",
      "to the client in order to avoid crashing it.\n",
      "To change this limit, set the config variable\n",
      "`--NotebookApp.iopub_msg_rate_limit`.\n",
      "\n",
      "Current values:\n",
      "NotebookApp.iopub_msg_rate_limit=1000.0 (msgs/sec)\n",
      "NotebookApp.rate_limit_window=3.0 (secs)\n",
      "\n",
      "IOPub message rate exceeded.\n",
      "The notebook server will temporarily stop sending output\n",
      "to the client in order to avoid crashing it.\n",
      "To change this limit, set the config variable\n",
      "`--NotebookApp.iopub_msg_rate_limit`.\n",
      "\n",
      "Current values:\n",
      "NotebookApp.iopub_msg_rate_limit=1000.0 (msgs/sec)\n",
      "NotebookApp.rate_limit_window=3.0 (secs)\n",
      "\n"
     ]
    },
    {
     "data": {
      "application/vnd.jupyter.widget-view+json": {
       "model_id": "",
       "version_major": 2,
       "version_minor": 0
      },
      "text/plain": [
       "Validation: 0it [00:00, ?it/s]"
      ]
     },
     "metadata": {},
     "output_type": "display_data"
    },
    {
     "data": {
      "application/vnd.jupyter.widget-view+json": {
       "model_id": "",
       "version_major": 2,
       "version_minor": 0
      },
      "text/plain": [
       "Validation: 0it [00:00, ?it/s]"
      ]
     },
     "metadata": {},
     "output_type": "display_data"
    },
    {
     "data": {
      "application/vnd.jupyter.widget-view+json": {
       "model_id": "",
       "version_major": 2,
       "version_minor": 0
      },
      "text/plain": [
       "Validation: 0it [00:00, ?it/s]"
      ]
     },
     "metadata": {},
     "output_type": "display_data"
    },
    {
     "data": {
      "application/vnd.jupyter.widget-view+json": {
       "model_id": "",
       "version_major": 2,
       "version_minor": 0
      },
      "text/plain": [
       "Validation: 0it [00:00, ?it/s]"
      ]
     },
     "metadata": {},
     "output_type": "display_data"
    },
    {
     "name": "stderr",
     "output_type": "stream",
     "text": [
      "IOPub message rate exceeded.\n",
      "The notebook server will temporarily stop sending output\n",
      "to the client in order to avoid crashing it.\n",
      "To change this limit, set the config variable\n",
      "`--NotebookApp.iopub_msg_rate_limit`.\n",
      "\n",
      "Current values:\n",
      "NotebookApp.iopub_msg_rate_limit=1000.0 (msgs/sec)\n",
      "NotebookApp.rate_limit_window=3.0 (secs)\n",
      "\n",
      "IOPub message rate exceeded.\n",
      "The notebook server will temporarily stop sending output\n",
      "to the client in order to avoid crashing it.\n",
      "To change this limit, set the config variable\n",
      "`--NotebookApp.iopub_msg_rate_limit`.\n",
      "\n",
      "Current values:\n",
      "NotebookApp.iopub_msg_rate_limit=1000.0 (msgs/sec)\n",
      "NotebookApp.rate_limit_window=3.0 (secs)\n",
      "\n",
      "IOPub message rate exceeded.\n",
      "The notebook server will temporarily stop sending output\n",
      "to the client in order to avoid crashing it.\n",
      "To change this limit, set the config variable\n",
      "`--NotebookApp.iopub_msg_rate_limit`.\n",
      "\n",
      "Current values:\n",
      "NotebookApp.iopub_msg_rate_limit=1000.0 (msgs/sec)\n",
      "NotebookApp.rate_limit_window=3.0 (secs)\n",
      "\n",
      "IOPub message rate exceeded.\n",
      "The notebook server will temporarily stop sending output\n",
      "to the client in order to avoid crashing it.\n",
      "To change this limit, set the config variable\n",
      "`--NotebookApp.iopub_msg_rate_limit`.\n",
      "\n",
      "Current values:\n",
      "NotebookApp.iopub_msg_rate_limit=1000.0 (msgs/sec)\n",
      "NotebookApp.rate_limit_window=3.0 (secs)\n",
      "\n",
      "IOPub message rate exceeded.\n",
      "The notebook server will temporarily stop sending output\n",
      "to the client in order to avoid crashing it.\n",
      "To change this limit, set the config variable\n",
      "`--NotebookApp.iopub_msg_rate_limit`.\n",
      "\n",
      "Current values:\n",
      "NotebookApp.iopub_msg_rate_limit=1000.0 (msgs/sec)\n",
      "NotebookApp.rate_limit_window=3.0 (secs)\n",
      "\n",
      "IOPub message rate exceeded.\n",
      "The notebook server will temporarily stop sending output\n",
      "to the client in order to avoid crashing it.\n",
      "To change this limit, set the config variable\n",
      "`--NotebookApp.iopub_msg_rate_limit`.\n",
      "\n",
      "Current values:\n",
      "NotebookApp.iopub_msg_rate_limit=1000.0 (msgs/sec)\n",
      "NotebookApp.rate_limit_window=3.0 (secs)\n",
      "\n"
     ]
    },
    {
     "data": {
      "application/vnd.jupyter.widget-view+json": {
       "model_id": "",
       "version_major": 2,
       "version_minor": 0
      },
      "text/plain": [
       "Validation: 0it [00:00, ?it/s]"
      ]
     },
     "metadata": {},
     "output_type": "display_data"
    },
    {
     "name": "stderr",
     "output_type": "stream",
     "text": [
      "IOPub message rate exceeded.\n",
      "The notebook server will temporarily stop sending output\n",
      "to the client in order to avoid crashing it.\n",
      "To change this limit, set the config variable\n",
      "`--NotebookApp.iopub_msg_rate_limit`.\n",
      "\n",
      "Current values:\n",
      "NotebookApp.iopub_msg_rate_limit=1000.0 (msgs/sec)\n",
      "NotebookApp.rate_limit_window=3.0 (secs)\n",
      "\n",
      "IOPub message rate exceeded.\n",
      "The notebook server will temporarily stop sending output\n",
      "to the client in order to avoid crashing it.\n",
      "To change this limit, set the config variable\n",
      "`--NotebookApp.iopub_msg_rate_limit`.\n",
      "\n",
      "Current values:\n",
      "NotebookApp.iopub_msg_rate_limit=1000.0 (msgs/sec)\n",
      "NotebookApp.rate_limit_window=3.0 (secs)\n",
      "\n",
      "IOPub message rate exceeded.\n",
      "The notebook server will temporarily stop sending output\n",
      "to the client in order to avoid crashing it.\n",
      "To change this limit, set the config variable\n",
      "`--NotebookApp.iopub_msg_rate_limit`.\n",
      "\n",
      "Current values:\n",
      "NotebookApp.iopub_msg_rate_limit=1000.0 (msgs/sec)\n",
      "NotebookApp.rate_limit_window=3.0 (secs)\n",
      "\n"
     ]
    },
    {
     "data": {
      "application/vnd.jupyter.widget-view+json": {
       "model_id": "25de8a5eb88c465ea36bf39cc07b5168",
       "version_major": 2,
       "version_minor": 0
      },
      "text/plain": [
       "Validation: 0it [00:00, ?it/s]"
      ]
     },
     "metadata": {},
     "output_type": "display_data"
    },
    {
     "name": "stderr",
     "output_type": "stream",
     "text": [
      "IOPub message rate exceeded.\n",
      "The notebook server will temporarily stop sending output\n",
      "to the client in order to avoid crashing it.\n",
      "To change this limit, set the config variable\n",
      "`--NotebookApp.iopub_msg_rate_limit`.\n",
      "\n",
      "Current values:\n",
      "NotebookApp.iopub_msg_rate_limit=1000.0 (msgs/sec)\n",
      "NotebookApp.rate_limit_window=3.0 (secs)\n",
      "\n",
      "IOPub message rate exceeded.\n",
      "The notebook server will temporarily stop sending output\n",
      "to the client in order to avoid crashing it.\n",
      "To change this limit, set the config variable\n",
      "`--NotebookApp.iopub_msg_rate_limit`.\n",
      "\n",
      "Current values:\n",
      "NotebookApp.iopub_msg_rate_limit=1000.0 (msgs/sec)\n",
      "NotebookApp.rate_limit_window=3.0 (secs)\n",
      "\n",
      "IOPub message rate exceeded.\n",
      "The notebook server will temporarily stop sending output\n",
      "to the client in order to avoid crashing it.\n",
      "To change this limit, set the config variable\n",
      "`--NotebookApp.iopub_msg_rate_limit`.\n",
      "\n",
      "Current values:\n",
      "NotebookApp.iopub_msg_rate_limit=1000.0 (msgs/sec)\n",
      "NotebookApp.rate_limit_window=3.0 (secs)\n",
      "\n",
      "IOPub message rate exceeded.\n",
      "The notebook server will temporarily stop sending output\n",
      "to the client in order to avoid crashing it.\n",
      "To change this limit, set the config variable\n",
      "`--NotebookApp.iopub_msg_rate_limit`.\n",
      "\n",
      "Current values:\n",
      "NotebookApp.iopub_msg_rate_limit=1000.0 (msgs/sec)\n",
      "NotebookApp.rate_limit_window=3.0 (secs)\n",
      "\n"
     ]
    },
    {
     "data": {
      "application/vnd.jupyter.widget-view+json": {
       "model_id": "",
       "version_major": 2,
       "version_minor": 0
      },
      "text/plain": [
       "Validation: 0it [00:00, ?it/s]"
      ]
     },
     "metadata": {},
     "output_type": "display_data"
    },
    {
     "name": "stderr",
     "output_type": "stream",
     "text": [
      "IOPub message rate exceeded.\n",
      "The notebook server will temporarily stop sending output\n",
      "to the client in order to avoid crashing it.\n",
      "To change this limit, set the config variable\n",
      "`--NotebookApp.iopub_msg_rate_limit`.\n",
      "\n",
      "Current values:\n",
      "NotebookApp.iopub_msg_rate_limit=1000.0 (msgs/sec)\n",
      "NotebookApp.rate_limit_window=3.0 (secs)\n",
      "\n"
     ]
    },
    {
     "data": {
      "application/vnd.jupyter.widget-view+json": {
       "model_id": "2262690b82634fdfbb7aff73b4540135",
       "version_major": 2,
       "version_minor": 0
      },
      "text/plain": [
       "Validation: 0it [00:00, ?it/s]"
      ]
     },
     "metadata": {},
     "output_type": "display_data"
    },
    {
     "name": "stderr",
     "output_type": "stream",
     "text": [
      "IOPub message rate exceeded.\n",
      "The notebook server will temporarily stop sending output\n",
      "to the client in order to avoid crashing it.\n",
      "To change this limit, set the config variable\n",
      "`--NotebookApp.iopub_msg_rate_limit`.\n",
      "\n",
      "Current values:\n",
      "NotebookApp.iopub_msg_rate_limit=1000.0 (msgs/sec)\n",
      "NotebookApp.rate_limit_window=3.0 (secs)\n",
      "\n"
     ]
    },
    {
     "data": {
      "application/vnd.jupyter.widget-view+json": {
       "model_id": "",
       "version_major": 2,
       "version_minor": 0
      },
      "text/plain": [
       "Validation: 0it [00:00, ?it/s]"
      ]
     },
     "metadata": {},
     "output_type": "display_data"
    },
    {
     "data": {
      "application/vnd.jupyter.widget-view+json": {
       "model_id": "",
       "version_major": 2,
       "version_minor": 0
      },
      "text/plain": [
       "Validation: 0it [00:00, ?it/s]"
      ]
     },
     "metadata": {},
     "output_type": "display_data"
    },
    {
     "data": {
      "application/vnd.jupyter.widget-view+json": {
       "model_id": "",
       "version_major": 2,
       "version_minor": 0
      },
      "text/plain": [
       "Validation: 0it [00:00, ?it/s]"
      ]
     },
     "metadata": {},
     "output_type": "display_data"
    },
    {
     "data": {
      "application/vnd.jupyter.widget-view+json": {
       "model_id": "",
       "version_major": 2,
       "version_minor": 0
      },
      "text/plain": [
       "Validation: 0it [00:00, ?it/s]"
      ]
     },
     "metadata": {},
     "output_type": "display_data"
    },
    {
     "data": {
      "application/vnd.jupyter.widget-view+json": {
       "model_id": "",
       "version_major": 2,
       "version_minor": 0
      },
      "text/plain": [
       "Validation: 0it [00:00, ?it/s]"
      ]
     },
     "metadata": {},
     "output_type": "display_data"
    },
    {
     "data": {
      "application/vnd.jupyter.widget-view+json": {
       "model_id": "",
       "version_major": 2,
       "version_minor": 0
      },
      "text/plain": [
       "Validation: 0it [00:00, ?it/s]"
      ]
     },
     "metadata": {},
     "output_type": "display_data"
    },
    {
     "data": {
      "application/vnd.jupyter.widget-view+json": {
       "model_id": "",
       "version_major": 2,
       "version_minor": 0
      },
      "text/plain": [
       "Validation: 0it [00:00, ?it/s]"
      ]
     },
     "metadata": {},
     "output_type": "display_data"
    },
    {
     "data": {
      "application/vnd.jupyter.widget-view+json": {
       "model_id": "",
       "version_major": 2,
       "version_minor": 0
      },
      "text/plain": [
       "Validation: 0it [00:00, ?it/s]"
      ]
     },
     "metadata": {},
     "output_type": "display_data"
    },
    {
     "data": {
      "application/vnd.jupyter.widget-view+json": {
       "model_id": "",
       "version_major": 2,
       "version_minor": 0
      },
      "text/plain": [
       "Validation: 0it [00:00, ?it/s]"
      ]
     },
     "metadata": {},
     "output_type": "display_data"
    },
    {
     "data": {
      "application/vnd.jupyter.widget-view+json": {
       "model_id": "",
       "version_major": 2,
       "version_minor": 0
      },
      "text/plain": [
       "Validation: 0it [00:00, ?it/s]"
      ]
     },
     "metadata": {},
     "output_type": "display_data"
    },
    {
     "data": {
      "application/vnd.jupyter.widget-view+json": {
       "model_id": "",
       "version_major": 2,
       "version_minor": 0
      },
      "text/plain": [
       "Validation: 0it [00:00, ?it/s]"
      ]
     },
     "metadata": {},
     "output_type": "display_data"
    },
    {
     "data": {
      "application/vnd.jupyter.widget-view+json": {
       "model_id": "",
       "version_major": 2,
       "version_minor": 0
      },
      "text/plain": [
       "Validation: 0it [00:00, ?it/s]"
      ]
     },
     "metadata": {},
     "output_type": "display_data"
    },
    {
     "name": "stderr",
     "output_type": "stream",
     "text": [
      "`Trainer.fit` stopped: `max_epochs=100` reached.\n"
     ]
    }
   ],
   "source": [
    "# Define a ModelCheckpoint callback to save the best model based on validation loss\n",
    "checkpoint_callback = ModelCheckpoint(\n",
    "    monitor=\"loss/total_loss\",    # Metric to monitor\n",
    "    filename=\"best-checkpoint\",   # Filename for the saved model\n",
    "    save_top_k=1,                 # Save only the best model\n",
    "    mode=\"min\"                    # Minimize the monitored metric (val_loss)\n",
    ")\n",
    "\n",
    "# Define the trainer with GPU acceleration, logging, and checkpointing\n",
    "trainer = pl.Trainer(\n",
    "    accelerator=\"gpu\", \n",
    "    devices=1, \n",
    "    \n",
    "    # Callbacks\n",
    "    callbacks=[checkpoint_callback],\n",
    "    \n",
    "    max_epochs=100,\n",
    "    \n",
    "    # Progress bar and logging\n",
    "    log_every_n_steps=1           # Log metrics every step\n",
    ")\n",
    "\n",
    "# Train the model\n",
    "trainer.fit(model)"
   ]
  },
  {
   "cell_type": "code",
   "execution_count": null,
   "id": "2f3ebcfe-16c5-4941-91df-bb47958e0e7a",
   "metadata": {
    "tags": []
   },
   "outputs": [],
   "source": [
    "# Large neural networks are typically trained on several GPUs in parallel.\n",
    "trainer = pl.Trainer(\n",
    "    accelerator=\"gpu\", \n",
    "    devices=1, \n",
    "    \n",
    "    # Comment these out to do a full training run.\n",
    "#     max_epochs=1,\n",
    "#     overfit_batches=100\n",
    "    # adding/recording loss validation\n",
    ")\n",
    "trainer.fit(model)"
   ]
  },
  {
   "cell_type": "markdown",
   "id": "2be432c1-6f44-4242-a840-85052ca8b8ad",
   "metadata": {},
   "source": [
    "# Evaluate\n",
    "We will load an existing pre-trained network for the rest of this example. This network takes roughly a day to train on a single four-GPU node."
   ]
  },
  {
   "cell_type": "markdown",
   "id": "13852a5a-c7be-400a-82bc-cf8d2a676c42",
   "metadata": {},
   "source": [
    "## Single Example Event\n",
    "Lets return to a single example event to see how our assignment distributions have changed. We notice that the network has successfully learned to match the jet to its associated parton. We can examine the full distributions and use these to extract a confidence in the assignment as well."
   ]
  },
  {
   "cell_type": "code",
   "execution_count": 5,
   "id": "71c7360d-4bd0-4649-9835-63a44a8ce9e1",
   "metadata": {
    "tags": []
   },
   "outputs": [
    {
     "name": "stdout",
     "output_type": "stream",
     "text": [
      "Index Range: 0...2951564\n",
      "Index Range: 2951565...3106910\n",
      "Index Range: 0...466458\n"
     ]
    }
   ],
   "source": [
    "model = JetReconstructionModel.load_from_checkpoint(\n",
    "    \"lightning_logs/version_11/checkpoints/best-checkpoint.ckpt\",\n",
    "    map_location=\"cpu\", \n",
    "    options=options\n",
    ")\n",
    "\n",
    "if USE_GPU:\n",
    "    model = model.cuda()\n",
    "    \n",
    "model = model.eval()\n",
    "for parameter in model.parameters():\n",
    "    parameter.requires_grad_(False)\n"
   ]
  },
  {
   "cell_type": "code",
   "execution_count": 6,
   "id": "9e421c70-1955-47f6-b61a-b14b91a50afa",
   "metadata": {
    "tags": []
   },
   "outputs": [],
   "source": [
    "model.validation_dataset.limit_dataset_to_full_events()\n",
    "# example_validation_event = model.validation_dataset[1:2]\n",
    "example_validation_event = model.validation_dataset[0:1]\n",
    "\n",
    "if USE_GPU:\n",
    "    example_validation_event = batch_to_gpu(example_validation_event)\n",
    "num_vectors = example_validation_event.sources[0].mask.sum().item()"
   ]
  },
  {
   "cell_type": "code",
   "execution_count": 7,
   "id": "4a7d8ec2-fd30-4703-b68b-cf9c8d0f9146",
   "metadata": {
    "tags": []
   },
   "outputs": [
    {
     "data": {
      "text/html": [
       "<pre style=\"white-space:pre;overflow-x:auto;line-height:normal;font-family:Menlo,'DejaVu Sans Mono',consolas,'Courier New',monospace\">\n",
       "<span style=\"font-weight: bold\">(</span>\n",
       "    <span style=\"color: #800080; text-decoration-color: #800080; font-weight: bold\">AssignmentTargets</span><span style=\"font-weight: bold\">(</span><span style=\"color: #808000; text-decoration-color: #808000\">indices</span>=<span style=\"color: #800080; text-decoration-color: #800080; font-weight: bold\">tensor</span><span style=\"font-weight: bold\">([[</span><span style=\"color: #008080; text-decoration-color: #008080; font-weight: bold\">2</span><span style=\"font-weight: bold\">]])</span>, <span style=\"color: #808000; text-decoration-color: #808000\">mask</span>=<span style=\"color: #800080; text-decoration-color: #800080; font-weight: bold\">tensor</span><span style=\"font-weight: bold\">([</span><span style=\"color: #00ff00; text-decoration-color: #00ff00; font-style: italic\">True</span><span style=\"font-weight: bold\">]))</span>,\n",
       "    <span style=\"color: #800080; text-decoration-color: #800080; font-weight: bold\">AssignmentTargets</span><span style=\"font-weight: bold\">(</span><span style=\"color: #808000; text-decoration-color: #808000\">indices</span>=<span style=\"color: #800080; text-decoration-color: #800080; font-weight: bold\">tensor</span><span style=\"font-weight: bold\">([[</span><span style=\"color: #008080; text-decoration-color: #008080; font-weight: bold\">3</span>, <span style=\"color: #008080; text-decoration-color: #008080; font-weight: bold\">1</span>, <span style=\"color: #008080; text-decoration-color: #008080; font-weight: bold\">4</span><span style=\"font-weight: bold\">]])</span>, <span style=\"color: #808000; text-decoration-color: #808000\">mask</span>=<span style=\"color: #800080; text-decoration-color: #800080; font-weight: bold\">tensor</span><span style=\"font-weight: bold\">([</span><span style=\"color: #00ff00; text-decoration-color: #00ff00; font-style: italic\">True</span><span style=\"font-weight: bold\">]))</span>\n",
       "<span style=\"font-weight: bold\">)</span>\n",
       "</pre>\n"
      ],
      "text/plain": [
       "\n",
       "\u001b[1m(\u001b[0m\n",
       "    \u001b[1;35mAssignmentTargets\u001b[0m\u001b[1m(\u001b[0m\u001b[33mindices\u001b[0m=\u001b[1;35mtensor\u001b[0m\u001b[1m(\u001b[0m\u001b[1m[\u001b[0m\u001b[1m[\u001b[0m\u001b[1;36m2\u001b[0m\u001b[1m]\u001b[0m\u001b[1m]\u001b[0m\u001b[1m)\u001b[0m, \u001b[33mmask\u001b[0m=\u001b[1;35mtensor\u001b[0m\u001b[1m(\u001b[0m\u001b[1m[\u001b[0m\u001b[3;92mTrue\u001b[0m\u001b[1m]\u001b[0m\u001b[1m)\u001b[0m\u001b[1m)\u001b[0m,\n",
       "    \u001b[1;35mAssignmentTargets\u001b[0m\u001b[1m(\u001b[0m\u001b[33mindices\u001b[0m=\u001b[1;35mtensor\u001b[0m\u001b[1m(\u001b[0m\u001b[1m[\u001b[0m\u001b[1m[\u001b[0m\u001b[1;36m3\u001b[0m, \u001b[1;36m1\u001b[0m, \u001b[1;36m4\u001b[0m\u001b[1m]\u001b[0m\u001b[1m]\u001b[0m\u001b[1m)\u001b[0m, \u001b[33mmask\u001b[0m=\u001b[1;35mtensor\u001b[0m\u001b[1m(\u001b[0m\u001b[1m[\u001b[0m\u001b[3;92mTrue\u001b[0m\u001b[1m]\u001b[0m\u001b[1m)\u001b[0m\u001b[1m)\u001b[0m\n",
       "\u001b[1m)\u001b[0m\n"
      ]
     },
     "metadata": {},
     "output_type": "display_data"
    }
   ],
   "source": [
    "example_validation_event.assignment_targets"
   ]
  },
  {
   "cell_type": "code",
   "execution_count": 8,
   "id": "ce34a596-1966-49dd-bf4c-a7ab1c055c27",
   "metadata": {
    "tags": []
   },
   "outputs": [],
   "source": [
    "predictions = model(example_validation_event.sources)\n",
    "\n",
    "leptonic_b_assignment = torch.exp(predictions.assignments[0])\n",
    "hadronic_b_marginal_assignment = torch.exp(predictions.assignments[1]).sum((2, 3))\n",
    "hadronic_qq_marginal_assignment = torch.exp(predictions.assignments[1]).sum(1)"
   ]
  },
  {
   "cell_type": "code",
   "execution_count": 9,
   "id": "551d3ef5-838c-4e0b-a39b-9ce1857a5d6e",
   "metadata": {
    "tags": []
   },
   "outputs": [
    {
     "data": {
      "image/png": "[encoded data removed]"
     },
     "metadata": {
      "needs_background": "light"
     },
     "output_type": "display_data"
    }
   ],
   "source": [
    "plot_1d_assignment_distribution(torch.exp(predictions.assignments[0]), num_vectors)\n",
    "plt.xticks(*make_labels(example_validation_event))\n",
    "plt.ylim(0.0, 1.0)\n",
    "plt.xlabel(\"Input Objects\")\n",
    "plt.title(\"Leptonic $b$ Quark Assignment Disitribution\")\n",
    "plt.tight_layout();"
   ]
  },
  {
   "cell_type": "code",
   "execution_count": 10,
   "id": "dd2d30fc-c67d-403d-b1d9-a3c7679bd00d",
   "metadata": {
    "tags": []
   },
   "outputs": [
    {
     "data": {
      "image/png": "[encoded data removed]"
     },
     "metadata": {
      "needs_background": "light"
     },
     "output_type": "display_data"
    }
   ],
   "source": [
    "plot_1d_assignment_distribution(hadronic_b_marginal_assignment, num_vectors)\n",
    "plt.xticks(*make_labels(example_validation_event))\n",
    "plt.ylim(0.0, 1.0)\n",
    "plt.xlabel(\"Input Objects\")\n",
    "plt.title(\"Hadronic $b$ Quark Assignment Disitribution\")\n",
    "plt.tight_layout();"
   ]
  },
  {
   "cell_type": "code",
   "execution_count": 11,
   "id": "68d65ba5-b392-4dd5-84e6-cc550aefaf4b",
   "metadata": {
    "tags": []
   },
   "outputs": [
    {
     "data": {
      "image/png": "[encoded data removed]"
     },
     "metadata": {
      "needs_background": "light"
     },
     "output_type": "display_data"
    }
   ],
   "source": [
    "plt.figure(figsize=(8, 6))\n",
    "plot_2d_assignment_distribution(hadronic_qq_marginal_assignment, num_vectors)\n",
    "plt.xticks(*make_labels(example_validation_event), minor=True)\n",
    "plt.yticks(*make_labels(example_validation_event), minor=True)\n",
    "\n",
    "plt.title(\"Hadronic $qq$ Quark Assignment Disitribution\")\n",
    "plt.tight_layout();"
   ]
  },
  {
   "cell_type": "markdown",
   "id": "822d1f7e-ae74-4c03-b1f7-3f67c7594072",
   "metadata": {},
   "source": [
    "## Full Testing Dataset Evaluation\n",
    "Lets now evaluate the entire test dataset and examine how well our model is recovering the assignments."
   ]
  },
  {
   "cell_type": "code",
   "execution_count": 6,
   "id": "85217346-130d-42b0-8fdf-bda7d269c79b",
   "metadata": {
    "tags": []
   },
   "outputs": [
    {
     "data": {
      "application/vnd.jupyter.widget-view+json": {
       "model_id": "500804ccae8445239b304e11b26602de",
       "version_major": 2,
       "version_minor": 0
      },
      "text/plain": [
       "Output()"
      ]
     },
     "metadata": {},
     "output_type": "display_data"
    },
    {
     "data": {
      "text/html": [
       "<pre style=\"white-space:pre;overflow-x:auto;line-height:normal;font-family:Menlo,'DejaVu Sans Mono',consolas,'Courier New',monospace\"></pre>\n"
      ],
      "text/plain": []
     },
     "metadata": {},
     "output_type": "display_data"
    },
    {
     "data": {
      "text/html": [
       "<pre style=\"white-space:pre;overflow-x:auto;line-height:normal;font-family:Menlo,'DejaVu Sans Mono',consolas,'Courier New',monospace\">\n",
       "</pre>\n"
      ],
      "text/plain": [
       "\n"
      ]
     },
     "metadata": {},
     "output_type": "display_data"
    }
   ],
   "source": [
    "from spanet.evaluation import evaluate_on_test_dataset\n",
    "evaluation = evaluate_on_test_dataset(model)"
   ]
  },
  {
   "cell_type": "code",
   "execution_count": 7,
   "id": "03799267-c2d1-435a-b224-d983c9ed92ad",
   "metadata": {
    "tags": []
   },
   "outputs": [
    {
     "data": {
      "image/png": "[encoded data removed]"
     },
     "metadata": {
      "needs_background": "light"
     },
     "output_type": "display_data"
    }
   ],
   "source": [
    "display_results_table(model, evaluation)"
   ]
  },
  {
   "cell_type": "markdown",
   "id": "41f7ff6f-cc3d-4752-8258-e0ca9510bbd5",
   "metadata": {},
   "source": [
    "## Top Quark Mass Estimate\n",
    "Now lets find out how well our network is recovering some top kinematics"
   ]
  },
  {
   "cell_type": "code",
   "execution_count": 8,
   "id": "2908ab83-0258-471b-8fec-08431ca7cd22",
   "metadata": {
    "tags": []
   },
   "outputs": [],
   "source": [
    "momenta = model.testing_dataset.sources[\"Momenta\"].source_data\n",
    "lt_truth, lt_mask = model.testing_dataset.assignments[\"lt\"]\n",
    "ht_truth, ht_mask = model.testing_dataset.assignments[\"ht\"]"
   ]
  },
  {
   "cell_type": "code",
   "execution_count": 24,
   "id": "8e5e64c6",
   "metadata": {},
   "outputs": [
    {
     "data": {
      "text/html": [
       "<pre style=\"white-space:pre;overflow-x:auto;line-height:normal;font-family:Menlo,'DejaVu Sans Mono',consolas,'Courier New',monospace\">\n",
       "<span style=\"color: #800080; text-decoration-color: #800080; font-weight: bold\">tensor</span><span style=\"font-weight: bold\">([[</span><span style=\"color: #008080; text-decoration-color: #008080; font-weight: bold\">-1</span>,  <span style=\"color: #008080; text-decoration-color: #008080; font-weight: bold\">3</span>, <span style=\"color: #008080; text-decoration-color: #008080; font-weight: bold\">-1</span><span style=\"font-weight: bold\">]</span>,\n",
       "        <span style=\"font-weight: bold\">[</span> <span style=\"color: #008080; text-decoration-color: #008080; font-weight: bold\">2</span>,  <span style=\"color: #008080; text-decoration-color: #008080; font-weight: bold\">3</span>,  <span style=\"color: #008080; text-decoration-color: #008080; font-weight: bold\">7</span><span style=\"font-weight: bold\">]</span>,\n",
       "        <span style=\"font-weight: bold\">[</span> <span style=\"color: #008080; text-decoration-color: #008080; font-weight: bold\">2</span>,  <span style=\"color: #008080; text-decoration-color: #008080; font-weight: bold\">4</span>, <span style=\"color: #008080; text-decoration-color: #008080; font-weight: bold\">-1</span><span style=\"font-weight: bold\">]</span>,\n",
       "        <span style=\"font-weight: bold\">[</span> <span style=\"color: #008080; text-decoration-color: #008080; font-weight: bold\">1</span>,  <span style=\"color: #008080; text-decoration-color: #008080; font-weight: bold\">2</span>, <span style=\"color: #008080; text-decoration-color: #008080; font-weight: bold\">-1</span><span style=\"font-weight: bold\">]</span>,\n",
       "        <span style=\"font-weight: bold\">[</span> <span style=\"color: #008080; text-decoration-color: #008080; font-weight: bold\">1</span>,  <span style=\"color: #008080; text-decoration-color: #008080; font-weight: bold\">3</span>,  <span style=\"color: #008080; text-decoration-color: #008080; font-weight: bold\">4</span><span style=\"font-weight: bold\">]</span>,\n",
       "        <span style=\"font-weight: bold\">[</span> <span style=\"color: #008080; text-decoration-color: #008080; font-weight: bold\">3</span>,  <span style=\"color: #008080; text-decoration-color: #008080; font-weight: bold\">2</span>,  <span style=\"color: #008080; text-decoration-color: #008080; font-weight: bold\">5</span><span style=\"font-weight: bold\">]</span>,\n",
       "        <span style=\"font-weight: bold\">[</span> <span style=\"color: #008080; text-decoration-color: #008080; font-weight: bold\">3</span>,  <span style=\"color: #008080; text-decoration-color: #008080; font-weight: bold\">1</span>,  <span style=\"color: #008080; text-decoration-color: #008080; font-weight: bold\">4</span><span style=\"font-weight: bold\">]</span>,\n",
       "        <span style=\"font-weight: bold\">[</span> <span style=\"color: #008080; text-decoration-color: #008080; font-weight: bold\">3</span>,  <span style=\"color: #008080; text-decoration-color: #008080; font-weight: bold\">2</span>,  <span style=\"color: #008080; text-decoration-color: #008080; font-weight: bold\">5</span><span style=\"font-weight: bold\">]</span>,\n",
       "        <span style=\"font-weight: bold\">[</span> <span style=\"color: #008080; text-decoration-color: #008080; font-weight: bold\">1</span>,  <span style=\"color: #008080; text-decoration-color: #008080; font-weight: bold\">3</span>,  <span style=\"color: #008080; text-decoration-color: #008080; font-weight: bold\">4</span><span style=\"font-weight: bold\">]</span>,\n",
       "        <span style=\"font-weight: bold\">[</span> <span style=\"color: #008080; text-decoration-color: #008080; font-weight: bold\">3</span>, <span style=\"color: #008080; text-decoration-color: #008080; font-weight: bold\">-1</span>, <span style=\"color: #008080; text-decoration-color: #008080; font-weight: bold\">-1</span><span style=\"font-weight: bold\">]])</span>\n",
       "</pre>\n"
      ],
      "text/plain": [
       "\n",
       "\u001b[1;35mtensor\u001b[0m\u001b[1m(\u001b[0m\u001b[1m[\u001b[0m\u001b[1m[\u001b[0m\u001b[1;36m-1\u001b[0m,  \u001b[1;36m3\u001b[0m, \u001b[1;36m-1\u001b[0m\u001b[1m]\u001b[0m,\n",
       "        \u001b[1m[\u001b[0m \u001b[1;36m2\u001b[0m,  \u001b[1;36m3\u001b[0m,  \u001b[1;36m7\u001b[0m\u001b[1m]\u001b[0m,\n",
       "        \u001b[1m[\u001b[0m \u001b[1;36m2\u001b[0m,  \u001b[1;36m4\u001b[0m, \u001b[1;36m-1\u001b[0m\u001b[1m]\u001b[0m,\n",
       "        \u001b[1m[\u001b[0m \u001b[1;36m1\u001b[0m,  \u001b[1;36m2\u001b[0m, \u001b[1;36m-1\u001b[0m\u001b[1m]\u001b[0m,\n",
       "        \u001b[1m[\u001b[0m \u001b[1;36m1\u001b[0m,  \u001b[1;36m3\u001b[0m,  \u001b[1;36m4\u001b[0m\u001b[1m]\u001b[0m,\n",
       "        \u001b[1m[\u001b[0m \u001b[1;36m3\u001b[0m,  \u001b[1;36m2\u001b[0m,  \u001b[1;36m5\u001b[0m\u001b[1m]\u001b[0m,\n",
       "        \u001b[1m[\u001b[0m \u001b[1;36m3\u001b[0m,  \u001b[1;36m1\u001b[0m,  \u001b[1;36m4\u001b[0m\u001b[1m]\u001b[0m,\n",
       "        \u001b[1m[\u001b[0m \u001b[1;36m3\u001b[0m,  \u001b[1;36m2\u001b[0m,  \u001b[1;36m5\u001b[0m\u001b[1m]\u001b[0m,\n",
       "        \u001b[1m[\u001b[0m \u001b[1;36m1\u001b[0m,  \u001b[1;36m3\u001b[0m,  \u001b[1;36m4\u001b[0m\u001b[1m]\u001b[0m,\n",
       "        \u001b[1m[\u001b[0m \u001b[1;36m3\u001b[0m, \u001b[1;36m-1\u001b[0m, \u001b[1;36m-1\u001b[0m\u001b[1m]\u001b[0m\u001b[1m]\u001b[0m\u001b[1m)\u001b[0m\n"
      ]
     },
     "metadata": {},
     "output_type": "display_data"
    }
   ],
   "source": [
    "ht_truth[:10]"
   ]
  },
  {
   "cell_type": "code",
   "execution_count": 9,
   "id": "ceae50c8-695a-4989-9114-607ae892252b",
   "metadata": {
    "tags": []
   },
   "outputs": [],
   "source": [
    "lt_momenta_true = assignment_index(momenta, lt_truth, lt_mask)\n",
    "lt_momenta_pred = assignment_index(momenta, evaluation.assignments[\"lt\"], lt_mask)\n",
    "lt_momenta_unmatched = assignment_index(momenta, evaluation.assignments[\"lt\"], ~lt_mask)\n",
    "\n",
    "ht_momenta_true = assignment_index(momenta, ht_truth, ht_mask)\n",
    "ht_momenta_pred = assignment_index(momenta, evaluation.assignments[\"ht\"], ht_mask)\n",
    "ht_momenta_unmatched = assignment_index(momenta, evaluation.assignments[\"ht\"], ~ht_mask)"
   ]
  },
  {
   "cell_type": "code",
   "execution_count": 20,
   "id": "5958dc75",
   "metadata": {},
   "outputs": [
    {
     "data": {
      "text/html": [
       "<pre style=\"white-space:pre;overflow-x:auto;line-height:normal;font-family:Menlo,'DejaVu Sans Mono',consolas,'Courier New',monospace\">\n",
       "<span style=\"color: #800080; text-decoration-color: #800080; font-weight: bold\">tensor</span><span style=\"font-weight: bold\">([[[</span> <span style=\"color: #008080; text-decoration-color: #008080; font-weight: bold\">2.4630e+00</span>,  <span style=\"color: #008080; text-decoration-color: #008080; font-weight: bold\">4.1136e+00</span>,  <span style=\"color: #008080; text-decoration-color: #008080; font-weight: bold\">2.1478e+00</span>, <span style=\"color: #008080; text-decoration-color: #008080; font-weight: bold\">-9.1692e-01</span>, <span style=\"color: #008080; text-decoration-color: #008080; font-weight: bold\">-3.9907e-01</span>,\n",
       "           <span style=\"color: #008080; text-decoration-color: #008080; font-weight: bold\">1.0000e+00</span><span style=\"font-weight: bold\">]</span>,\n",
       "         <span style=\"font-weight: bold\">[</span> <span style=\"color: #008080; text-decoration-color: #008080; font-weight: bold\">2.4686e+00</span>,  <span style=\"color: #008080; text-decoration-color: #008080; font-weight: bold\">4.5876e+00</span>, <span style=\"color: #008080; text-decoration-color: #008080; font-weight: bold\">-2.0132e+00</span>,  <span style=\"color: #008080; text-decoration-color: #008080; font-weight: bold\">6.6476e-01</span>, <span style=\"color: #008080; text-decoration-color: #008080; font-weight: bold\">-7.4705e-01</span>,\n",
       "           <span style=\"color: #008080; text-decoration-color: #008080; font-weight: bold\">0.0000e+00</span><span style=\"font-weight: bold\">]</span>,\n",
       "         <span style=\"font-weight: bold\">[</span> <span style=\"color: #008080; text-decoration-color: #008080; font-weight: bold\">2.4422e+00</span>,  <span style=\"color: #008080; text-decoration-color: #008080; font-weight: bold\">4.2567e+00</span>, <span style=\"color: #008080; text-decoration-color: #008080; font-weight: bold\">-8.8004e-01</span>, <span style=\"color: #008080; text-decoration-color: #008080; font-weight: bold\">-1.3765e-01</span>,  <span style=\"color: #008080; text-decoration-color: #008080; font-weight: bold\">9.9048e-01</span>,\n",
       "           <span style=\"color: #008080; text-decoration-color: #008080; font-weight: bold\">1.0000e+00</span><span style=\"font-weight: bold\">]]</span>,\n",
       "\n",
       "        <span style=\"font-weight: bold\">[[</span> <span style=\"color: #008080; text-decoration-color: #008080; font-weight: bold\">2.4220e+00</span>,  <span style=\"color: #008080; text-decoration-color: #008080; font-weight: bold\">4.9582e+00</span>,  <span style=\"color: #008080; text-decoration-color: #008080; font-weight: bold\">2.1432e+00</span>, <span style=\"color: #008080; text-decoration-color: #008080; font-weight: bold\">-3.9426e-01</span>,  <span style=\"color: #008080; text-decoration-color: #008080; font-weight: bold\">9.1900e-01</span>,\n",
       "           <span style=\"color: #008080; text-decoration-color: #008080; font-weight: bold\">0.0000e+00</span><span style=\"font-weight: bold\">]</span>,\n",
       "         <span style=\"font-weight: bold\">[</span> <span style=\"color: #008080; text-decoration-color: #008080; font-weight: bold\">3.1229e+00</span>,  <span style=\"color: #008080; text-decoration-color: #008080; font-weight: bold\">4.7006e+00</span>, <span style=\"color: #008080; text-decoration-color: #008080; font-weight: bold\">-2.0049e+00</span>, <span style=\"color: #008080; text-decoration-color: #008080; font-weight: bold\">-2.4727e-01</span>, <span style=\"color: #008080; text-decoration-color: #008080; font-weight: bold\">-9.6895e-01</span>,\n",
       "           <span style=\"color: #008080; text-decoration-color: #008080; font-weight: bold\">1.0000e+00</span><span style=\"font-weight: bold\">]</span>,\n",
       "         <span style=\"font-weight: bold\">[</span> <span style=\"color: #008080; text-decoration-color: #008080; font-weight: bold\">1.9654e+00</span>,  <span style=\"color: #008080; text-decoration-color: #008080; font-weight: bold\">3.7443e+00</span>, <span style=\"color: #008080; text-decoration-color: #008080; font-weight: bold\">-2.2461e+00</span>,  <span style=\"color: #008080; text-decoration-color: #008080; font-weight: bold\">5.2842e-01</span>,  <span style=\"color: #008080; text-decoration-color: #008080; font-weight: bold\">8.4898e-01</span>,\n",
       "           <span style=\"color: #008080; text-decoration-color: #008080; font-weight: bold\">0.0000e+00</span><span style=\"font-weight: bold\">]]</span>,\n",
       "\n",
       "        <span style=\"font-weight: bold\">[[</span> <span style=\"color: #008080; text-decoration-color: #008080; font-weight: bold\">2.5332e+00</span>,  <span style=\"color: #008080; text-decoration-color: #008080; font-weight: bold\">5.0073e+00</span>,  <span style=\"color: #008080; text-decoration-color: #008080; font-weight: bold\">1.4552e+00</span>, <span style=\"color: #008080; text-decoration-color: #008080; font-weight: bold\">-9.9989e-01</span>,  <span style=\"color: #008080; text-decoration-color: #008080; font-weight: bold\">1.4665e-02</span>,\n",
       "           <span style=\"color: #008080; text-decoration-color: #008080; font-weight: bold\">1.0000e+00</span><span style=\"font-weight: bold\">]</span>,\n",
       "         <span style=\"font-weight: bold\">[</span> <span style=\"color: #008080; text-decoration-color: #008080; font-weight: bold\">2.1266e+00</span>,  <span style=\"color: #008080; text-decoration-color: #008080; font-weight: bold\">3.8778e+00</span>, <span style=\"color: #008080; text-decoration-color: #008080; font-weight: bold\">-3.0688e-03</span>, <span style=\"color: #008080; text-decoration-color: #008080; font-weight: bold\">-9.2320e-01</span>, <span style=\"color: #008080; text-decoration-color: #008080; font-weight: bold\">-3.8433e-01</span>,\n",
       "           <span style=\"color: #008080; text-decoration-color: #008080; font-weight: bold\">0.0000e+00</span><span style=\"font-weight: bold\">]</span>,\n",
       "         <span style=\"font-weight: bold\">[</span> <span style=\"color: #008080; text-decoration-color: #008080; font-weight: bold\">2.2607e+00</span>,  <span style=\"color: #008080; text-decoration-color: #008080; font-weight: bold\">3.4916e+00</span>,  <span style=\"color: #008080; text-decoration-color: #008080; font-weight: bold\">1.2175e+00</span>,  <span style=\"color: #008080; text-decoration-color: #008080; font-weight: bold\">4.0495e-01</span>,  <span style=\"color: #008080; text-decoration-color: #008080; font-weight: bold\">9.1434e-01</span>,\n",
       "           <span style=\"color: #008080; text-decoration-color: #008080; font-weight: bold\">0.0000e+00</span><span style=\"font-weight: bold\">]]</span>,\n",
       "\n",
       "        <span style=\"color: #808000; text-decoration-color: #808000\">...</span>,\n",
       "\n",
       "        <span style=\"font-weight: bold\">[[</span> <span style=\"color: #008080; text-decoration-color: #008080; font-weight: bold\">2.3932e+00</span>,  <span style=\"color: #008080; text-decoration-color: #008080; font-weight: bold\">4.1638e+00</span>, <span style=\"color: #008080; text-decoration-color: #008080; font-weight: bold\">-1.2294e+00</span>, <span style=\"color: #008080; text-decoration-color: #008080; font-weight: bold\">-2.0709e-01</span>,  <span style=\"color: #008080; text-decoration-color: #008080; font-weight: bold\">9.7832e-01</span>,\n",
       "           <span style=\"color: #008080; text-decoration-color: #008080; font-weight: bold\">1.0000e+00</span><span style=\"font-weight: bold\">]</span>,\n",
       "         <span style=\"font-weight: bold\">[</span> <span style=\"color: #008080; text-decoration-color: #008080; font-weight: bold\">2.5446e+00</span>,  <span style=\"color: #008080; text-decoration-color: #008080; font-weight: bold\">4.4242e+00</span>,  <span style=\"color: #008080; text-decoration-color: #008080; font-weight: bold\">1.0598e+00</span>, <span style=\"color: #008080; text-decoration-color: #008080; font-weight: bold\">-8.4028e-01</span>, <span style=\"color: #008080; text-decoration-color: #008080; font-weight: bold\">-5.4215e-01</span>,\n",
       "           <span style=\"color: #008080; text-decoration-color: #008080; font-weight: bold\">0.0000e+00</span><span style=\"font-weight: bold\">]</span>,\n",
       "         <span style=\"font-weight: bold\">[</span> <span style=\"color: #008080; text-decoration-color: #008080; font-weight: bold\">1.9083e+00</span>,  <span style=\"color: #008080; text-decoration-color: #008080; font-weight: bold\">3.7333e+00</span>, <span style=\"color: #008080; text-decoration-color: #008080; font-weight: bold\">-1.0399e+00</span>,  <span style=\"color: #008080; text-decoration-color: #008080; font-weight: bold\">9.9297e-01</span>,  <span style=\"color: #008080; text-decoration-color: #008080; font-weight: bold\">1.1836e-01</span>,\n",
       "           <span style=\"color: #008080; text-decoration-color: #008080; font-weight: bold\">0.0000e+00</span><span style=\"font-weight: bold\">]]</span>,\n",
       "\n",
       "        <span style=\"font-weight: bold\">[[</span> <span style=\"color: #008080; text-decoration-color: #008080; font-weight: bold\">3.5529e+00</span>,  <span style=\"color: #008080; text-decoration-color: #008080; font-weight: bold\">4.9406e+00</span>, <span style=\"color: #008080; text-decoration-color: #008080; font-weight: bold\">-2.8963e-01</span>, <span style=\"color: #008080; text-decoration-color: #008080; font-weight: bold\">-5.1941e-01</span>, <span style=\"color: #008080; text-decoration-color: #008080; font-weight: bold\">-8.5453e-01</span>,\n",
       "           <span style=\"color: #008080; text-decoration-color: #008080; font-weight: bold\">1.0000e+00</span><span style=\"font-weight: bold\">]</span>,\n",
       "         <span style=\"font-weight: bold\">[</span> <span style=\"color: #008080; text-decoration-color: #008080; font-weight: bold\">3.1736e+00</span>,  <span style=\"color: #008080; text-decoration-color: #008080; font-weight: bold\">4.8714e+00</span>, <span style=\"color: #008080; text-decoration-color: #008080; font-weight: bold\">-5.3363e-01</span>,  <span style=\"color: #008080; text-decoration-color: #008080; font-weight: bold\">7.9398e-01</span>, <span style=\"color: #008080; text-decoration-color: #008080; font-weight: bold\">-6.0795e-01</span>,\n",
       "           <span style=\"color: #008080; text-decoration-color: #008080; font-weight: bold\">0.0000e+00</span><span style=\"font-weight: bold\">]</span>,\n",
       "         <span style=\"font-weight: bold\">[</span> <span style=\"color: #008080; text-decoration-color: #008080; font-weight: bold\">2.0022e+00</span>,  <span style=\"color: #008080; text-decoration-color: #008080; font-weight: bold\">3.5285e+00</span>, <span style=\"color: #008080; text-decoration-color: #008080; font-weight: bold\">-1.2604e+00</span>, <span style=\"color: #008080; text-decoration-color: #008080; font-weight: bold\">-2.6120e-01</span>, <span style=\"color: #008080; text-decoration-color: #008080; font-weight: bold\">-9.6529e-01</span>,\n",
       "           <span style=\"color: #008080; text-decoration-color: #008080; font-weight: bold\">0.0000e+00</span><span style=\"font-weight: bold\">]]</span>,\n",
       "\n",
       "        <span style=\"font-weight: bold\">[[</span> <span style=\"color: #008080; text-decoration-color: #008080; font-weight: bold\">1.9423e+00</span>,  <span style=\"color: #008080; text-decoration-color: #008080; font-weight: bold\">3.2792e+00</span>, <span style=\"color: #008080; text-decoration-color: #008080; font-weight: bold\">-3.1121e-02</span>, <span style=\"color: #008080; text-decoration-color: #008080; font-weight: bold\">-9.3932e-01</span>,  <span style=\"color: #008080; text-decoration-color: #008080; font-weight: bold\">3.4305e-01</span>,\n",
       "           <span style=\"color: #008080; text-decoration-color: #008080; font-weight: bold\">1.0000e+00</span><span style=\"font-weight: bold\">]</span>,\n",
       "         <span style=\"font-weight: bold\">[</span> <span style=\"color: #008080; text-decoration-color: #008080; font-weight: bold\">2.5373e+00</span>,  <span style=\"color: #008080; text-decoration-color: #008080; font-weight: bold\">4.2834e+00</span>, <span style=\"color: #008080; text-decoration-color: #008080; font-weight: bold\">-1.4939e+00</span>,  <span style=\"color: #008080; text-decoration-color: #008080; font-weight: bold\">6.4048e-02</span>,  <span style=\"color: #008080; text-decoration-color: #008080; font-weight: bold\">9.9795e-01</span>,\n",
       "           <span style=\"color: #008080; text-decoration-color: #008080; font-weight: bold\">0.0000e+00</span><span style=\"font-weight: bold\">]</span>,\n",
       "         <span style=\"font-weight: bold\">[</span> <span style=\"color: #008080; text-decoration-color: #008080; font-weight: bold\">2.3627e+00</span>,  <span style=\"color: #008080; text-decoration-color: #008080; font-weight: bold\">4.1775e+00</span>, <span style=\"color: #008080; text-decoration-color: #008080; font-weight: bold\">-2.3056e+00</span>, <span style=\"color: #008080; text-decoration-color: #008080; font-weight: bold\">-7.1651e-02</span>,  <span style=\"color: #008080; text-decoration-color: #008080; font-weight: bold\">9.9743e-01</span>,\n",
       "           <span style=\"color: #008080; text-decoration-color: #008080; font-weight: bold\">0.0000e+00</span><span style=\"font-weight: bold\">]]])</span>\n",
       "</pre>\n"
      ],
      "text/plain": [
       "\n",
       "\u001b[1;35mtensor\u001b[0m\u001b[1m(\u001b[0m\u001b[1m[\u001b[0m\u001b[1m[\u001b[0m\u001b[1m[\u001b[0m \u001b[1;36m2.4630e+00\u001b[0m,  \u001b[1;36m4.1136e+00\u001b[0m,  \u001b[1;36m2.1478e+00\u001b[0m, \u001b[1;36m-9.1692e-01\u001b[0m, \u001b[1;36m-3.9907e-01\u001b[0m,\n",
       "           \u001b[1;36m1.0000e+00\u001b[0m\u001b[1m]\u001b[0m,\n",
       "         \u001b[1m[\u001b[0m \u001b[1;36m2.4686e+00\u001b[0m,  \u001b[1;36m4.5876e+00\u001b[0m, \u001b[1;36m-2.0132e+00\u001b[0m,  \u001b[1;36m6.6476e-01\u001b[0m, \u001b[1;36m-7.4705e-01\u001b[0m,\n",
       "           \u001b[1;36m0.0000e+00\u001b[0m\u001b[1m]\u001b[0m,\n",
       "         \u001b[1m[\u001b[0m \u001b[1;36m2.4422e+00\u001b[0m,  \u001b[1;36m4.2567e+00\u001b[0m, \u001b[1;36m-8.8004e-01\u001b[0m, \u001b[1;36m-1.3765e-01\u001b[0m,  \u001b[1;36m9.9048e-01\u001b[0m,\n",
       "           \u001b[1;36m1.0000e+00\u001b[0m\u001b[1m]\u001b[0m\u001b[1m]\u001b[0m,\n",
       "\n",
       "        \u001b[1m[\u001b[0m\u001b[1m[\u001b[0m \u001b[1;36m2.4220e+00\u001b[0m,  \u001b[1;36m4.9582e+00\u001b[0m,  \u001b[1;36m2.1432e+00\u001b[0m, \u001b[1;36m-3.9426e-01\u001b[0m,  \u001b[1;36m9.1900e-01\u001b[0m,\n",
       "           \u001b[1;36m0.0000e+00\u001b[0m\u001b[1m]\u001b[0m,\n",
       "         \u001b[1m[\u001b[0m \u001b[1;36m3.1229e+00\u001b[0m,  \u001b[1;36m4.7006e+00\u001b[0m, \u001b[1;36m-2.0049e+00\u001b[0m, \u001b[1;36m-2.4727e-01\u001b[0m, \u001b[1;36m-9.6895e-01\u001b[0m,\n",
       "           \u001b[1;36m1.0000e+00\u001b[0m\u001b[1m]\u001b[0m,\n",
       "         \u001b[1m[\u001b[0m \u001b[1;36m1.9654e+00\u001b[0m,  \u001b[1;36m3.7443e+00\u001b[0m, \u001b[1;36m-2.2461e+00\u001b[0m,  \u001b[1;36m5.2842e-01\u001b[0m,  \u001b[1;36m8.4898e-01\u001b[0m,\n",
       "           \u001b[1;36m0.0000e+00\u001b[0m\u001b[1m]\u001b[0m\u001b[1m]\u001b[0m,\n",
       "\n",
       "        \u001b[1m[\u001b[0m\u001b[1m[\u001b[0m \u001b[1;36m2.5332e+00\u001b[0m,  \u001b[1;36m5.0073e+00\u001b[0m,  \u001b[1;36m1.4552e+00\u001b[0m, \u001b[1;36m-9.9989e-01\u001b[0m,  \u001b[1;36m1.4665e-02\u001b[0m,\n",
       "           \u001b[1;36m1.0000e+00\u001b[0m\u001b[1m]\u001b[0m,\n",
       "         \u001b[1m[\u001b[0m \u001b[1;36m2.1266e+00\u001b[0m,  \u001b[1;36m3.8778e+00\u001b[0m, \u001b[1;36m-3.0688e-03\u001b[0m, \u001b[1;36m-9.2320e-01\u001b[0m, \u001b[1;36m-3.8433e-01\u001b[0m,\n",
       "           \u001b[1;36m0.0000e+00\u001b[0m\u001b[1m]\u001b[0m,\n",
       "         \u001b[1m[\u001b[0m \u001b[1;36m2.2607e+00\u001b[0m,  \u001b[1;36m3.4916e+00\u001b[0m,  \u001b[1;36m1.2175e+00\u001b[0m,  \u001b[1;36m4.0495e-01\u001b[0m,  \u001b[1;36m9.1434e-01\u001b[0m,\n",
       "           \u001b[1;36m0.0000e+00\u001b[0m\u001b[1m]\u001b[0m\u001b[1m]\u001b[0m,\n",
       "\n",
       "        \u001b[33m...\u001b[0m,\n",
       "\n",
       "        \u001b[1m[\u001b[0m\u001b[1m[\u001b[0m \u001b[1;36m2.3932e+00\u001b[0m,  \u001b[1;36m4.1638e+00\u001b[0m, \u001b[1;36m-1.2294e+00\u001b[0m, \u001b[1;36m-2.0709e-01\u001b[0m,  \u001b[1;36m9.7832e-01\u001b[0m,\n",
       "           \u001b[1;36m1.0000e+00\u001b[0m\u001b[1m]\u001b[0m,\n",
       "         \u001b[1m[\u001b[0m \u001b[1;36m2.5446e+00\u001b[0m,  \u001b[1;36m4.4242e+00\u001b[0m,  \u001b[1;36m1.0598e+00\u001b[0m, \u001b[1;36m-8.4028e-01\u001b[0m, \u001b[1;36m-5.4215e-01\u001b[0m,\n",
       "           \u001b[1;36m0.0000e+00\u001b[0m\u001b[1m]\u001b[0m,\n",
       "         \u001b[1m[\u001b[0m \u001b[1;36m1.9083e+00\u001b[0m,  \u001b[1;36m3.7333e+00\u001b[0m, \u001b[1;36m-1.0399e+00\u001b[0m,  \u001b[1;36m9.9297e-01\u001b[0m,  \u001b[1;36m1.1836e-01\u001b[0m,\n",
       "           \u001b[1;36m0.0000e+00\u001b[0m\u001b[1m]\u001b[0m\u001b[1m]\u001b[0m,\n",
       "\n",
       "        \u001b[1m[\u001b[0m\u001b[1m[\u001b[0m \u001b[1;36m3.5529e+00\u001b[0m,  \u001b[1;36m4.9406e+00\u001b[0m, \u001b[1;36m-2.8963e-01\u001b[0m, \u001b[1;36m-5.1941e-01\u001b[0m, \u001b[1;36m-8.5453e-01\u001b[0m,\n",
       "           \u001b[1;36m1.0000e+00\u001b[0m\u001b[1m]\u001b[0m,\n",
       "         \u001b[1m[\u001b[0m \u001b[1;36m3.1736e+00\u001b[0m,  \u001b[1;36m4.8714e+00\u001b[0m, \u001b[1;36m-5.3363e-01\u001b[0m,  \u001b[1;36m7.9398e-01\u001b[0m, \u001b[1;36m-6.0795e-01\u001b[0m,\n",
       "           \u001b[1;36m0.0000e+00\u001b[0m\u001b[1m]\u001b[0m,\n",
       "         \u001b[1m[\u001b[0m \u001b[1;36m2.0022e+00\u001b[0m,  \u001b[1;36m3.5285e+00\u001b[0m, \u001b[1;36m-1.2604e+00\u001b[0m, \u001b[1;36m-2.6120e-01\u001b[0m, \u001b[1;36m-9.6529e-01\u001b[0m,\n",
       "           \u001b[1;36m0.0000e+00\u001b[0m\u001b[1m]\u001b[0m\u001b[1m]\u001b[0m,\n",
       "\n",
       "        \u001b[1m[\u001b[0m\u001b[1m[\u001b[0m \u001b[1;36m1.9423e+00\u001b[0m,  \u001b[1;36m3.2792e+00\u001b[0m, \u001b[1;36m-3.1121e-02\u001b[0m, \u001b[1;36m-9.3932e-01\u001b[0m,  \u001b[1;36m3.4305e-01\u001b[0m,\n",
       "           \u001b[1;36m1.0000e+00\u001b[0m\u001b[1m]\u001b[0m,\n",
       "         \u001b[1m[\u001b[0m \u001b[1;36m2.5373e+00\u001b[0m,  \u001b[1;36m4.2834e+00\u001b[0m, \u001b[1;36m-1.4939e+00\u001b[0m,  \u001b[1;36m6.4048e-02\u001b[0m,  \u001b[1;36m9.9795e-01\u001b[0m,\n",
       "           \u001b[1;36m0.0000e+00\u001b[0m\u001b[1m]\u001b[0m,\n",
       "         \u001b[1m[\u001b[0m \u001b[1;36m2.3627e+00\u001b[0m,  \u001b[1;36m4.1775e+00\u001b[0m, \u001b[1;36m-2.3056e+00\u001b[0m, \u001b[1;36m-7.1651e-02\u001b[0m,  \u001b[1;36m9.9743e-01\u001b[0m,\n",
       "           \u001b[1;36m0.0000e+00\u001b[0m\u001b[1m]\u001b[0m\u001b[1m]\u001b[0m\u001b[1m]\u001b[0m\u001b[1m)\u001b[0m\n"
      ]
     },
     "metadata": {},
     "output_type": "display_data"
    }
   ],
   "source": [
    "ht_momenta_unmatched"
   ]
  },
  {
   "cell_type": "code",
   "execution_count": 19,
   "id": "2dc2bcea",
   "metadata": {},
   "outputs": [
    {
     "data": {
      "text/html": [
       "<pre style=\"white-space:pre;overflow-x:auto;line-height:normal;font-family:Menlo,'DejaVu Sans Mono',consolas,'Courier New',monospace\">\n",
       "<span style=\"color: #800080; text-decoration-color: #800080; font-weight: bold\">array</span><span style=\"font-weight: bold\">([</span> <span style=\"color: #008080; text-decoration-color: #008080; font-weight: bold\">709.79206544</span>, <span style=\"color: #008080; text-decoration-color: #008080; font-weight: bold\">1217.95751242</span>,  <span style=\"color: #008080; text-decoration-color: #008080; font-weight: bold\">203.33641628</span>, <span style=\"color: #808000; text-decoration-color: #808000\">...</span>,  <span style=\"color: #008080; text-decoration-color: #008080; font-weight: bold\">310.11866925</span>,\n",
       "        <span style=\"color: #008080; text-decoration-color: #008080; font-weight: bold\">224.09061055</span>,  <span style=\"color: #008080; text-decoration-color: #008080; font-weight: bold\">163.14976201</span><span style=\"font-weight: bold\">])</span>\n",
       "</pre>\n"
      ],
      "text/plain": [
       "\n",
       "\u001b[1;35marray\u001b[0m\u001b[1m(\u001b[0m\u001b[1m[\u001b[0m \u001b[1;36m709.79206544\u001b[0m, \u001b[1;36m1217.95751242\u001b[0m,  \u001b[1;36m203.33641628\u001b[0m, \u001b[33m...\u001b[0m,  \u001b[1;36m310.11866925\u001b[0m,\n",
       "        \u001b[1;36m224.09061055\u001b[0m,  \u001b[1;36m163.14976201\u001b[0m\u001b[1m]\u001b[0m\u001b[1m)\u001b[0m\n"
      ]
     },
     "metadata": {},
     "output_type": "display_data"
    }
   ],
   "source": [
    "invariant_mass(ht_momenta_unmatched)"
   ]
  },
  {
   "cell_type": "code",
   "execution_count": 10,
   "id": "3f0ac16f-ca6c-446e-8ba3-57b238c5e69a",
   "metadata": {
    "tags": []
   },
   "outputs": [
    {
     "data": {
      "image/png": "[encoded data removed]"
     },
     "metadata": {
      "needs_background": "light"
     },
     "output_type": "display_data"
    }
   ],
   "source": [
    "plot_distribution(invariant_mass(ht_momenta_true), line=2, label=\"Truth\", range=(100, 400))\n",
    "plot_distribution(invariant_mass(ht_momenta_pred), line=2, label=\"Matched Predicted\", range=(100, 400))\n",
    "plot_distribution(invariant_mass(ht_momenta_unmatched), line=2, label=\"Umatched Predicted\", range=(100, 400))\n",
    "\n",
    "plt.xlabel(\"Hadronic $t$ Invariant Mass (GeV)\")\n",
    "plt.ylabel(\"Density\")\n",
    "plt.legend()\n",
    "plt.tight_layout();"
   ]
  },
  {
   "cell_type": "code",
   "execution_count": 11,
   "id": "c6019857-38db-4715-912f-f9a48e4a66ea",
   "metadata": {
    "tags": []
   },
   "outputs": [
    {
     "data": {
      "image/png": "[encoded data removed]"
     },
     "metadata": {
      "needs_background": "light"
     },
     "output_type": "display_data"
    }
   ],
   "source": [
    "plot_distribution(invariant_mass(lt_momenta_true), line=2, label=\"Truth\", range=(0, 50))\n",
    "plot_distribution(invariant_mass(lt_momenta_pred), line=2, label=\"Matched Predicted\", range=(0, 50))\n",
    "plot_distribution(invariant_mass(lt_momenta_unmatched), line=2, label=\"Umatched Predicted\", range=(0, 50))\n",
    "\n",
    "plt.xlabel(\"Leptonic $b$ Invariant Mass (GeV)\")\n",
    "plt.ylabel(\"Density\")\n",
    "plt.legend()\n",
    "plt.tight_layout();"
   ]
  },
  {
   "cell_type": "markdown",
   "id": "da7b1443-3932-4654-a745-d02cb8259fd5",
   "metadata": {},
   "source": [
    "## Using the detection outputs\n",
    "Lets looks at our detection probabilites for different kinds of events. We notice the network learned to identify missing jets pretty consistently."
   ]
  },
  {
   "cell_type": "code",
   "execution_count": 13,
   "id": "136b77ac-b95d-4234-8d49-9265a3d4615f",
   "metadata": {
    "tags": []
   },
   "outputs": [
    {
     "data": {
      "image/png": "[encoded data removed]"
     },
     "metadata": {
      "needs_background": "light"
     },
     "output_type": "display_data"
    }
   ],
   "source": [
    "plot_distribution(evaluation.detection_probabilities[\"ht\"][ht_mask], line=2, label=\"Matched Events\", range=(0, 1))\n",
    "plot_distribution(evaluation.detection_probabilities[\"ht\"][~ht_mask], line=2, label=\"Unmatched Events\", range=(0, 1))\n",
    "plt.xlabel(\"Hadronic Detection Probability\")\n",
    "plt.ylabel(\"Density\")\n",
    "plt.legend()\n",
    "plt.tight_layout();"
   ]
  },
  {
   "cell_type": "markdown",
   "id": "152a161b-f8ae-41be-827b-c68b2c87d4d3",
   "metadata": {},
   "source": [
    "The **Receiver Operating Characteristic (ROC)** curve tells us the tradeoff between signal purity and background at different cuts of our detection probability."
   ]
  },
  {
   "cell_type": "code",
   "execution_count": 14,
   "id": "26464b58-8f57-415a-af9a-2651832c4ac6",
   "metadata": {
    "tags": []
   },
   "outputs": [
    {
     "data": {
      "image/png": "[encoded data removed]"
     },
     "metadata": {
      "needs_background": "light"
     },
     "output_type": "display_data"
    }
   ],
   "source": [
    "plt.figure(figsize=(6, 6))\n",
    "roc_curve(ht_mask, evaluation.detection_probabilities[\"ht\"], \"Hadronic\")\n",
    "roc_curve(lt_mask, evaluation.detection_probabilities[\"lt\"], \"Leptonic\")\n",
    "\n",
    "plt.xticks(np.arange(0.0, 1.1, 0.1))\n",
    "plt.yticks(np.arange(0.0, 1.1, 0.1))\n",
    "plt.tight_layout();"
   ]
  },
  {
   "cell_type": "markdown",
   "id": "85887f2f-f6b8-4dfd-b6a2-3000a3d790d9",
   "metadata": {},
   "source": [
    "Lets recreate the mass estimation but now using our detection cut as the mask for the predictions. This should help remove some of the background sculpting."
   ]
  },
  {
   "cell_type": "code",
   "execution_count": 15,
   "id": "4a73b682-23dc-47dd-844c-4b460a2b80e4",
   "metadata": {
    "tags": []
   },
   "outputs": [],
   "source": [
    "lt_treshhold = 0.5\n",
    "lt_momenta_true = assignment_index(momenta, lt_truth, lt_mask)\n",
    "lt_momenta_pred = assignment_index(momenta, evaluation.assignments[\"lt\"], evaluation.detection_probabilities[\"lt\"] > lt_treshhold)\n",
    "lt_momenta_unmatched = assignment_index(momenta, evaluation.assignments[\"lt\"], evaluation.detection_probabilities[\"lt\"] < lt_treshhold)\n",
    "\n",
    "ht_treshhold = 0.5\n",
    "ht_momenta_true = assignment_index(momenta, ht_truth, ht_mask)\n",
    "ht_momenta_pred = assignment_index(momenta, evaluation.assignments[\"ht\"], evaluation.detection_probabilities[\"ht\"] > ht_treshhold)\n",
    "ht_momenta_unmatched = assignment_index(momenta, evaluation.assignments[\"ht\"], evaluation.detection_probabilities[\"ht\"] < ht_treshhold)"
   ]
  },
  {
   "cell_type": "code",
   "execution_count": 16,
   "id": "aac555d9-3fca-4870-bfef-21c4275f532d",
   "metadata": {
    "tags": []
   },
   "outputs": [
    {
     "data": {
      "image/png": "[encoded data removed]"
     },
     "metadata": {
      "needs_background": "light"
     },
     "output_type": "display_data"
    }
   ],
   "source": [
    "plot_distribution(invariant_mass(ht_momenta_true), line=2, label=\"Truth\", range=(100, 500))\n",
    "plot_distribution(invariant_mass(ht_momenta_pred), line=2, label=\"Matched Predicted\", range=(100, 500))\n",
    "plot_distribution(invariant_mass(ht_momenta_unmatched), line=2, label=\"Umatched Predicted\", range=(100, 500))\n",
    "\n",
    "plt.xlabel(\"Hadronic $t$ Invariant Mass (GeV)\")\n",
    "plt.ylabel(\"Density\")\n",
    "plt.legend()\n",
    "plt.tight_layout();"
   ]
  },
  {
   "cell_type": "markdown",
   "id": "41b492ef-4ac1-4c1b-a31e-4585fafe9b4a",
   "metadata": {},
   "source": [
    "# Attention Plots"
   ]
  },
  {
   "cell_type": "code",
   "execution_count": 57,
   "id": "f279b7c7-45c1-47d9-9915-7ada9dfa2e5f",
   "metadata": {},
   "outputs": [],
   "source": [
    "attention_outputs, handles = hook_attention([\n",
    "    module.attention for module in\n",
    "    model.encoder.encoder.layers\n",
    "])\n",
    "\n",
    "lt_attention_outputs, lt_handles = hook_attention([\n",
    "    module.attention for module in\n",
    "    model.branch_decoders[0].encoder.encoder.layers\n",
    "])\n",
    "\n",
    "ht_attention_outputs, ht_handles = hook_attention([\n",
    "    module.attention for module in\n",
    "    model.branch_decoders[1].encoder.encoder.layers\n",
    "])"
   ]
  },
  {
   "cell_type": "code",
   "execution_count": 58,
   "id": "bf8d61a7-39e8-418b-871b-615fd5390442",
   "metadata": {},
   "outputs": [
    {
     "data": {
      "image/png": "[encoded data removed]"
     },
     "metadata": {
      "needs_background": "light"
     },
     "output_type": "display_data"
    }
   ],
   "source": [
    "plot_attention(model, attention_outputs, example_validation_event)"
   ]
  },
  {
   "cell_type": "code",
   "execution_count": 59,
   "id": "fb948049-3f1b-472f-916b-5607723d0909",
   "metadata": {},
   "outputs": [
    {
     "data": {
      "image/png": "[encoded data removed]"
     },
     "metadata": {
      "needs_background": "light"
     },
     "output_type": "display_data"
    }
   ],
   "source": [
    "plot_attention(model, lt_attention_outputs, example_validation_event)"
   ]
  },
  {
   "cell_type": "code",
   "execution_count": 60,
   "id": "f1ff84f5-b70c-49b6-93c9-23adf92dc8c6",
   "metadata": {},
   "outputs": [
    {
     "data": {
      "image/png": "[encoded data removed]"
     },
     "metadata": {
      "needs_background": "light"
     },
     "output_type": "display_data"
    }
   ],
   "source": [
    "plot_attention(model, ht_attention_outputs, example_validation_event)"
   ]
  },
  {
   "cell_type": "code",
   "execution_count": null,
   "id": "28e81f47-2720-4540-8b57-ebf1d4a9414a",
   "metadata": {},
   "outputs": [],
   "source": []
  }
 ],
 "metadata": {
  "@webio": {
   "lastCommId": null,
   "lastKernelId": null
  },
  "kernelspec": {
   "display_name": "Python 3",
   "language": "python",
   "name": "python3"
  },
  "language_info": {
   "codemirror_mode": {
    "name": "ipython",
    "version": 3
   },
   "file_extension": ".py",
   "mimetype": "text/x-python",
   "name": "python",
   "nbconvert_exporter": "python",
   "pygments_lexer": "ipython3",
   "version": "3.9.12"
  }
 },
 "nbformat": 4,
 "nbformat_minor": 5
}
