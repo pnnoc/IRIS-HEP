{
 "cells": [
  {
   "cell_type": "code",
   "execution_count": 1,
   "id": "608ff5c7",
   "metadata": {},
   "outputs": [],
   "source": [
    "from coffea.nanoevents import NanoEventsFactory, NanoAODSchema\n",
    "import awkward as ak\n",
    "import numpy as np"
   ]
  },
  {
   "cell_type": "code",
   "execution_count": 490,
   "id": "68243787",
   "metadata": {},
   "outputs": [],
   "source": [
    "def training_filter_multiple_jets(jets, electrons, muons, genparts):\n",
    "    '''\n",
    "    Filters events down to training set and calculates jet-level labels\n",
    "    \n",
    "    Args:\n",
    "        jets: selected jets after region filter (and selecting leading four for each event)\n",
    "        electrons: selected electrons after region filter\n",
    "        muons: selected muons after region filter\n",
    "        genparts: selected genpart after region filter\n",
    "        even: whether the event is even-numbered (used to separate training events)\n",
    "    \n",
    "    Returns:\n",
    "        jets: selected jets after training filter\n",
    "        electrons: selected electrons after training filter\n",
    "        muons: selected muons after training filter\n",
    "        labels: labels of jets within an event (24=W, 6=top_hadron, -6=top_lepton)\n",
    "        even: whether the event is even-numbered\n",
    "    '''\n",
    "    #### filter genPart to valid matching candidates ####\n",
    "\n",
    "    # get rid of particles without parents\n",
    "    genpart_parent = genparts.distinctParent\n",
    "    genpart_filter = np.invert(ak.is_none(genpart_parent, axis=1))\n",
    "    genparts = genparts[genpart_filter]\n",
    "    genpart_parent = genparts.distinctParent\n",
    "\n",
    "    # ensure that parents are top quark or W\n",
    "    genpart_filter2 = ((np.abs(genpart_parent.pdgId)==6) | (np.abs(genpart_parent.pdgId)==24))\n",
    "    genparts = genparts[genpart_filter2]\n",
    "\n",
    "    # ensure particle itself is a quark\n",
    "    genpart_filter3 = ((np.abs(genparts.pdgId)<7) & (np.abs(genparts.pdgId)>0))\n",
    "    genparts = genparts[genpart_filter3]\n",
    "\n",
    "    # get rid of duplicates\n",
    "    genpart_filter4 = genparts.hasFlags(\"isLastCopy\")\n",
    "    genparts = genparts[genpart_filter4]\n",
    "            \n",
    "        \n",
    "    #### get jet-level labels and filter events to training set\n",
    "        \n",
    "    # match jets to nearest valid genPart candidate\n",
    "    nearest_genpart = jets.nearest(genparts, threshold=0.4)\n",
    "    nearest_parent = nearest_genpart.distinctParent # parent of matched particle\n",
    "    parent_pdgid = nearest_parent.pdgId # pdgId of parent particle\n",
    "    grandchild_pdgid = nearest_parent.distinctChildren.distinctChildren.pdgId # pdgId of particle's parent's grandchildren\n",
    "\n",
    "    grandchildren_flat = np.abs(ak.flatten(grandchild_pdgid,axis=-1)) # flatten innermost axis for convenience\n",
    "\n",
    "    # if particle has a cousin that is a lepton\n",
    "    has_lepton_cousin = (ak.sum(((grandchildren_flat%2==0) & (grandchildren_flat>10) & (grandchildren_flat<19)),\n",
    "                                axis=-1)>0)\n",
    "    # if particle has a cousin that is a neutrino\n",
    "    has_neutrino_cousin = (ak.sum(((grandchildren_flat%2==1) & (grandchildren_flat>10) & (grandchildren_flat<19)),\n",
    "                                  axis=-1)>0)\n",
    "\n",
    "    # if a particle has a lepton cousin and a neutrino cousin\n",
    "    has_both_cousins = ak.fill_none((has_lepton_cousin & has_neutrino_cousin), False) #not using .to_numpy bc inregular array size (different event level, multiple jets)\n",
    "\n",
    "    # get labels from parent pdgId (fill none with 100 to filter out events with those jets)\n",
    "    labels = np.abs(ak.fill_none(parent_pdgid,100)) #not using .to_numpy bc inregular array size (different event level, multiple jets)\n",
    "\n",
    "    # changing the labels while still preserve awkward array jets. To bypass inplace assignment error of numpy_array vs awkward_array\n",
    "    new_labels = ak.Array([])\n",
    "    for idx in range(len(labels)):\n",
    "        (labels[idx].to_numpy())[has_both_cousins[idx].to_numpy()]=-6\n",
    "        new_labels = ak.concatenate([new_labels, ak.Array([labels[idx]])], axis=0)\n",
    "    labels = new_labels\n",
    "    \n",
    "    #mask for event validation (atleast 4 jets with -6, 6, 24, 24, 100, 100,...)\n",
    "    mask = ak.Array([])\n",
    "    for idx in range(len(labels)):\n",
    "        event_valid_bool = (ak.sum(labels[idx]==-6)==1) & (ak.sum(labels[idx]==6)==1) & (ak.sum(labels[idx]==24)==2)\n",
    "        mask = ak.concatenate([mask, ak.Array([event_valid_bool])], axis=0)\n",
    "            \n",
    "    # filter events\n",
    "    jets = jets[mask]\n",
    "    electrons = electrons[mask]\n",
    "    muons = muons[mask]\n",
    "    labels = labels[mask]\n",
    "    \n",
    "    return jets, electrons, muons, labels"
   ]
  },
  {
   "cell_type": "code",
   "execution_count": 3,
   "id": "8270c792",
   "metadata": {},
   "outputs": [
    {
     "name": "stderr",
     "output_type": "stream",
     "text": [
      "/Users/con_np/micromamba/envs/r3k_bdttools/lib/python3.10/site-packages/coffea/nanoevents/schemas/nanoaod.py:201: RuntimeWarning: Missing cross-reference index for FatJet_subJetIdx1 => SubJet\n",
      "  warnings.warn(\n",
      "/Users/con_np/micromamba/envs/r3k_bdttools/lib/python3.10/site-packages/coffea/nanoevents/schemas/nanoaod.py:201: RuntimeWarning: Missing cross-reference index for FatJet_subJetIdx2 => SubJet\n",
      "  warnings.warn(\n"
     ]
    }
   ],
   "source": [
    "file_path = 'https://xrootd-local.unl.edu:1094//store/user/AGC/nanoAOD/TT_TuneCUETP8M1_13TeV-powheg-pythia8/cmsopendata2015_ttbar_19980_PU25nsData2015v1_76X_mcRun2_asymptotic_v12_ext3-v1_00000_0000.root'\n",
    "treename = 'Events'\n",
    "events = NanoEventsFactory.from_root(file_path, treepath=treename, schemaclass=NanoAODSchema).events()"
   ]
  },
  {
   "cell_type": "code",
   "execution_count": 4,
   "id": "29291124",
   "metadata": {},
   "outputs": [],
   "source": [
    "#Event filtering\n",
    "#code from jetassignment_training\n",
    "selected_electrons = events.Electron[(events.Electron.pt > 30) & (np.abs(events.Electron.eta)<2.1) & \n",
    "                                        (events.Electron.cutBased==4) & (events.Electron.sip3d < 4)]\n",
    "selected_muons = events.Muon[(events.Muon.pt > 30) & (np.abs(events.Muon.eta)<2.1) & (events.Muon.tightId) & \n",
    "                                (events.Muon.sip3d < 4) & (events.Muon.pfRelIso04_all < 0.15)]\n",
    "jet_filter = (events.Jet.pt > 30) & (np.abs(events.Jet.eta) < 2.4) & (events.Jet.isTightLeptonVeto)\n",
    "selected_jets = events.Jet[jet_filter]\n",
    "selected_genpart = events.GenPart\n",
    "even = (events.event%2==0)\n",
    "    \n",
    "# single lepton requirements\n",
    "event_filters = ((ak.count(selected_electrons.pt, axis=1) + ak.count(selected_muons.pt, axis=1)) == 1)\n",
    "# require at least 4 jets\n",
    "event_filters = event_filters & (ak.count(selected_jets.pt, axis=1) >= 4)\n",
    "# require at least one jet above B_TAG_THRESHOLD\n",
    "B_TAG_THRESHOLD = 0.5\n",
    "event_filters = event_filters & (ak.sum(selected_jets.btagCSVV2 >= B_TAG_THRESHOLD, axis=1) >= 1)\n",
    "    \n",
    "# apply event filters\n",
    "selected_electrons = selected_electrons[event_filters]\n",
    "selected_muons = selected_muons[event_filters]\n",
    "selected_jets = selected_jets[event_filters]\n",
    "selected_genpart = selected_genpart[event_filters]\n",
    "even = even[event_filters]\n",
    "    \n",
    "### only consider 4j2b (signal) region\n",
    "region_filter = ak.sum(selected_jets.btagCSVV2 > B_TAG_THRESHOLD, axis=1) >= 2 # at least two b-tagged jets\n",
    "\n",
    "# selected_jets_region = selected_jets[region_filter][:,:10] # only keep top 10 jets\n",
    "selected_jets_region = selected_jets[region_filter] # all jets\n",
    "\n",
    "selected_electrons_region = selected_electrons[region_filter]\n",
    "selected_muons_region = selected_muons[region_filter]\n",
    "selected_genpart_region = selected_genpart[region_filter]\n",
    "even = even[region_filter]"
   ]
  },
  {
   "cell_type": "code",
   "execution_count": 492,
   "id": "6d5d282e",
   "metadata": {},
   "outputs": [],
   "source": [
    "selected_jets_region = selected_jets[region_filter][:,:] # all jetsss"
   ]
  },
  {
   "cell_type": "code",
   "execution_count": 493,
   "id": "23fde5e2",
   "metadata": {},
   "outputs": [],
   "source": [
    "jets, electrons, muons, labels = training_filter_multiple_jets(selected_jets_region, selected_electrons_region, selected_muons_region, selected_genpart_region)"
   ]
  },
  {
   "cell_type": "code",
   "execution_count": null,
   "id": "7c5963b8",
   "metadata": {},
   "outputs": [],
   "source": []
  },
  {
   "cell_type": "markdown",
   "id": "d6318dcb",
   "metadata": {},
   "source": [
    "### Break down"
   ]
  },
  {
   "cell_type": "code",
   "execution_count": 424,
   "id": "998b0e14",
   "metadata": {},
   "outputs": [],
   "source": [
    "# get rid of particles without parents\n",
    "genpart_parent = selected_genpart_region.distinctParent\n",
    "genpart_filter = np.invert(ak.is_none(genpart_parent, axis=1))\n",
    "genparts = selected_genpart_region[genpart_filter]\n",
    "genpart_parent = genparts.distinctParent\n",
    "\n",
    "# ensure that parents are top quark or W\n",
    "genpart_filter2 = ((np.abs(genpart_parent.pdgId)==6) | (np.abs(genpart_parent.pdgId)==24))\n",
    "genparts = genparts[genpart_filter2]\n",
    "\n",
    "# ensure particle itself is a quark\n",
    "genpart_filter3 = ((np.abs(genparts.pdgId)<7) & (np.abs(genparts.pdgId)>0))\n",
    "genparts = genparts[genpart_filter3]\n",
    "\n",
    "# get rid of duplicates\n",
    "genpart_filter4 = genparts.hasFlags(\"isLastCopy\")\n",
    "genparts = genparts[genpart_filter4]"
   ]
  },
  {
   "cell_type": "code",
   "execution_count": 425,
   "id": "c58faeab",
   "metadata": {},
   "outputs": [],
   "source": [
    "# match jets to nearest valid genPart candidate\n",
    "nearest_genpart = selected_jets_region.nearest(genparts, threshold=0.4)\n",
    "nearest_parent = nearest_genpart.distinctParent # parent of matched particle\n",
    "parent_pdgid = nearest_parent.pdgId # pdgId of parent particle\n",
    "grandchild_pdgid = nearest_parent.distinctChildren.distinctChildren.pdgId # pdgId of particle's parent's grandchildren\n",
    "\n",
    "grandchildren_flat = np.abs(ak.flatten(grandchild_pdgid,axis=-1)) # flatten innermost axis for convenience"
   ]
  },
  {
   "cell_type": "code",
   "execution_count": 426,
   "id": "9d3e5b1b",
   "metadata": {},
   "outputs": [],
   "source": [
    "# if particle has a cousin that is a lepton\n",
    "has_lepton_cousin = (ak.sum(((grandchildren_flat%2==0) & (grandchildren_flat>10) & (grandchildren_flat<19)),\n",
    "                            axis=-1)>0)\n",
    "\n",
    "# if particle has a cousin that is a neutrino\n",
    "has_neutrino_cousin = (ak.sum(((grandchildren_flat%2==1) & (grandchildren_flat>10) & (grandchildren_flat<19)),\n",
    "                                axis=-1)>0)"
   ]
  },
  {
   "cell_type": "code",
   "execution_count": 427,
   "id": "263af0b2",
   "metadata": {},
   "outputs": [],
   "source": [
    "# if a particle has a lepton cousin and a neutrino cousin\n",
    "has_both_cousins = ak.fill_none((has_lepton_cousin & has_neutrino_cousin), False)#.to_numpy()"
   ]
  },
  {
   "cell_type": "code",
   "execution_count": 472,
   "id": "77d81976",
   "metadata": {},
   "outputs": [],
   "source": [
    "# get labels from parent pdgId (fill none with 100 to filter out events with those jets)\n",
    "labels = np.abs(ak.fill_none(parent_pdgid,100))#.to_numpy()"
   ]
  },
  {
   "cell_type": "code",
   "execution_count": 474,
   "id": "0d395daa",
   "metadata": {},
   "outputs": [],
   "source": [
    "# changing the labels while still preserve awkward array jets. To bypass inplace assignment error of numpy_array vs awkward_array\n",
    "def top_lep_label(labels, has_both_cousins, label_num):\n",
    "    new_labels = ak.Array([])\n",
    "    for idx in range(len(labels)):\n",
    "        # print(labels[idx], has_both_cousins[idx])\n",
    "        (labels[idx].to_numpy())[has_both_cousins[idx].to_numpy()]=label_num\n",
    "        # print(labels[idx])\n",
    "        new_labels = ak.concatenate([new_labels, ak.Array([labels[idx]])], axis=0)\n",
    "        # print(new_labels[idx])\n",
    "    return new_labels"
   ]
  },
  {
   "cell_type": "code",
   "execution_count": 477,
   "id": "7916bb47",
   "metadata": {},
   "outputs": [],
   "source": [
    "labels = top_lep_label(labels, has_both_cousins, label_num=-6)"
   ]
  },
  {
   "cell_type": "code",
   "execution_count": 463,
   "id": "4e230d63",
   "metadata": {},
   "outputs": [],
   "source": [
    "# valid event must have -6, 6, 24, 24, 100, 100, ...\n",
    "\n",
    "# creating mask\n",
    "# def event_validation(labels):\n",
    "#     mask = ak.Array([])\n",
    "#     for idx in range(len(labels)):\n",
    "#         event_valid_bool = (ak.sum(labels[idx]==-6)==1) & (ak.sum(labels[idx]==6)==1) & (ak.sum(labels[idx]==24)==2)\n",
    "#         mask = ak.concatenate([mask, ak.Array([event_valid_bool])], axis=0)\n",
    "#     return labels[mask]"
   ]
  },
  {
   "cell_type": "code",
   "execution_count": 467,
   "id": "21701c96",
   "metadata": {},
   "outputs": [],
   "source": [
    "# labels = event_validation(labels)"
   ]
  },
  {
   "cell_type": "code",
   "execution_count": null,
   "id": "d84b7717",
   "metadata": {},
   "outputs": [],
   "source": [
    "# max(ak.num(labels, axis=1)) # 12"
   ]
  },
  {
   "cell_type": "code",
   "execution_count": null,
   "id": "749a3f87",
   "metadata": {},
   "outputs": [],
   "source": []
  }
 ],
 "metadata": {
  "kernelspec": {
   "display_name": "Python 3",
   "language": "python",
   "name": "python3"
  },
  "language_info": {
   "codemirror_mode": {
    "name": "ipython",
    "version": 3
   },
   "file_extension": ".py",
   "mimetype": "text/x-python",
   "name": "python",
   "nbconvert_exporter": "python",
   "pygments_lexer": "ipython3",
   "version": "3.10.13"
  }
 },
 "nbformat": 4,
 "nbformat_minor": 5
}
