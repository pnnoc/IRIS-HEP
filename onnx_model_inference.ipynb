{
 "cells": [
  {
   "cell_type": "code",
   "execution_count": 25,
   "id": "90ce1b10",
   "metadata": {},
   "outputs": [],
   "source": [
    "import onnxruntime as ort # to inference ONNX models, we use the ONNX Runtime\n",
    "import numpy as np\n",
    "import awkward as ak\n",
    "from coffea.nanoevents import NanoEventsFactory, NanoAODSchema\n",
    "import torch\n",
    "from helper import *"
   ]
  },
  {
   "cell_type": "code",
   "execution_count": 26,
   "id": "89de429f",
   "metadata": {},
   "outputs": [],
   "source": [
    "def training_filter_multiple_jets(jets, electrons, muons, genparts, mets):\n",
    "    '''\n",
    "    Filters events down to training set and calculates jet-level labels\n",
    "    \n",
    "    Args:\n",
    "        jets: selected jets after region filter (and selecting leading four for each event)\n",
    "        electrons: selected electrons after region filter\n",
    "        muons: selected muons after region filter\n",
    "        genparts: selected genpart after region filter\n",
    "        even: whether the event is even-numbered (used to separate training events)\n",
    "    \n",
    "    Returns:\n",
    "        jets: selected jets after training filter\n",
    "        electrons: selected electrons after training filter\n",
    "        muons: selected muons after training filter\n",
    "        labels: labels of jets within an event (24=W, 6=top_hadron, -6=top_lepton)\n",
    "        even: whether the event is even-numbered\n",
    "    '''\n",
    "    #### filter genPart to valid matching candidates ####\n",
    "\n",
    "    # get rid of particles without parents\n",
    "    genpart_parent = genparts.distinctParent\n",
    "    genpart_filter = np.invert(ak.is_none(genpart_parent, axis=1))\n",
    "    genparts = genparts[genpart_filter]\n",
    "    genpart_parent = genparts.distinctParent\n",
    "\n",
    "    # ensure that parents are top quark or W\n",
    "    genpart_filter2 = ((np.abs(genpart_parent.pdgId)==6) | (np.abs(genpart_parent.pdgId)==24))\n",
    "    genparts = genparts[genpart_filter2]\n",
    "\n",
    "    # ensure particle itself is a quark\n",
    "    genpart_filter3 = ((np.abs(genparts.pdgId)<7) & (np.abs(genparts.pdgId)>0))\n",
    "    genparts = genparts[genpart_filter3]\n",
    "\n",
    "    # get rid of duplicates\n",
    "    genpart_filter4 = genparts.hasFlags(\"isLastCopy\")\n",
    "    genparts = genparts[genpart_filter4]\n",
    "            \n",
    "        \n",
    "    #### get jet-level labels and filter events to training set\n",
    "        \n",
    "    # match jets to nearest valid genPart candidate\n",
    "    nearest_genpart = jets.nearest(genparts, threshold=0.4)\n",
    "    nearest_parent = nearest_genpart.distinctParent # parent of matched particle\n",
    "    parent_pdgid = nearest_parent.pdgId # pdgId of parent particle\n",
    "    grandchild_pdgid = nearest_parent.distinctChildren.distinctChildren.pdgId # pdgId of particle's parent's grandchildren\n",
    "\n",
    "    grandchildren_flat = np.abs(ak.flatten(grandchild_pdgid,axis=-1)) # flatten innermost axis for convenience\n",
    "\n",
    "    # if particle has a cousin that is a lepton\n",
    "    has_lepton_cousin = (ak.sum(((grandchildren_flat%2==0) & (grandchildren_flat>10) & (grandchildren_flat<19)),\n",
    "                                axis=-1)>0)\n",
    "    # if particle has a cousin that is a neutrino\n",
    "    has_neutrino_cousin = (ak.sum(((grandchildren_flat%2==1) & (grandchildren_flat>10) & (grandchildren_flat<19)),\n",
    "                                  axis=-1)>0)\n",
    "\n",
    "    # if a particle has a lepton cousin and a neutrino cousin\n",
    "    has_both_cousins = ak.fill_none((has_lepton_cousin & has_neutrino_cousin), False) #not using .to_numpy bc inregular array size (different event level, multiple jets)\n",
    "\n",
    "    # get labels from parent pdgId (fill none with 100 to filter out events with those jets)\n",
    "    labels = np.abs(ak.fill_none(parent_pdgid,100)) #not using .to_numpy bc inregular array size (different event level, multiple jets)\n",
    "\n",
    "    # changing the labels while still preserve awkward array jets. To bypass inplace assignment error of numpy_array vs awkward_array\n",
    "    new_labels = ak.Array([])\n",
    "    for idx in range(len(labels)):\n",
    "        (labels[idx].to_numpy())[has_both_cousins[idx].to_numpy()]=-6\n",
    "        new_labels = ak.concatenate([new_labels, ak.Array([labels[idx]])], axis=0)\n",
    "    labels = new_labels\n",
    "    \n",
    "    #mask for event validation (atleast 4 jets with -6, 6, 24, 24, 100, 100,...)\n",
    "    mask = ak.Array([])\n",
    "    for idx in range(len(labels)):\n",
    "        event_valid_bool = (ak.sum(labels[idx]==-6)==1) & (ak.sum(labels[idx]==6)==1) & (ak.sum(labels[idx]==24)==2)\n",
    "        mask = ak.concatenate([mask, ak.Array([event_valid_bool])], axis=0)\n",
    "            \n",
    "    # filter events\n",
    "    jets = jets[mask]\n",
    "    electrons = electrons[mask]\n",
    "    muons = muons[mask]\n",
    "    labels = labels[mask]\n",
    "    mets = mets[mask]\n",
    "    \n",
    "    return jets, electrons, muons, mets, labels\n",
    "\n",
    "\n",
    "def random_assignment(jet_level_mask):\n",
    "    \"\"\"\n",
    "    Generates random unique indices for 'lt' and 'ht' for each event, excluding index 0 (lepton).\n",
    "    \n",
    "    Parameters:\n",
    "    mask (np.array): Boolean tensor of shape [N, 17] indicating real jets (True) and fake jets (False).\n",
    "\n",
    "    Returns:\n",
    "    dict: A dictionary with keys 'lt' and 'ht' containing the randomly generated indices.\n",
    "    \"\"\"\n",
    "    num_events = jet_level_mask.shape[0]\n",
    "    assignments = {'lt':[], 'ht':[]}\n",
    "    for i in range(num_events):\n",
    "        real_jet_indices = np.where(jet_level_mask[i])[0] #getting real jets indices [0, 1, 2, 3, 4,...]\n",
    "        real_jet_indices = real_jet_indices[real_jet_indices != 0] #exclude 0 index out of random indices because lepton indices is always one. We want leptonic/hadronic top quarks\n",
    "\n",
    "        chosen_indices = np.random.choice(real_jet_indices, size=4, replace=False) #technically rearrange, assign random indices\n",
    "        lt_index = chosen_indices[0]\n",
    "        ht_indices = chosen_indices[1:]\n",
    "\n",
    "        assignments['lt'].append([lt_index])\n",
    "        assignments['ht'].append(ht_indices)\n",
    "\n",
    "    # Convert lists to numpy arrays\n",
    "    assignments['lt'] = np.array(assignments['lt'])\n",
    "    assignments['ht'] = np.array(assignments['ht'])\n",
    "    \n",
    "    return assignments\n",
    "\n",
    "def log_normalize(x):\n",
    "    return np.log(x+1)"
   ]
  },
  {
   "cell_type": "code",
   "execution_count": 27,
   "id": "d520cb41",
   "metadata": {},
   "outputs": [],
   "source": [
    "# # Load the ONNX model\n",
    "onnx_model_path = \"./spanet.onnx\"\n",
    "session = ort.InferenceSession(onnx_model_path, providers=['CUDAExecutionProvider', 'CPUExecutionProvider'])"
   ]
  },
  {
   "cell_type": "code",
   "execution_count": 5,
   "id": "935fb4db",
   "metadata": {},
   "outputs": [],
   "source": [
    "# print(\"Inputs:\", [input.name for input in session.get_inputs()])\n",
    "# print(\"Outputs:\", [output.name for output in session.get_outputs()])"
   ]
  },
  {
   "cell_type": "code",
   "execution_count": null,
   "id": "b45ef23c",
   "metadata": {},
   "outputs": [],
   "source": []
  },
  {
   "cell_type": "code",
   "execution_count": 28,
   "id": "3383e405",
   "metadata": {},
   "outputs": [
    {
     "name": "stderr",
     "output_type": "stream",
     "text": [
      "/cvmfs/sft.cern.ch/lcg/views/LCG_105a_cuda/x86_64-el9-gcc11-opt/lib/python3.9/site-packages/coffea/nanoevents/schemas/nanoaod.py:201: RuntimeWarning: Missing cross-reference index for FatJet_subJetIdx1 => SubJet\n",
      "  warnings.warn(\n",
      "/cvmfs/sft.cern.ch/lcg/views/LCG_105a_cuda/x86_64-el9-gcc11-opt/lib/python3.9/site-packages/coffea/nanoevents/schemas/nanoaod.py:201: RuntimeWarning: Missing cross-reference index for FatJet_subJetIdx2 => SubJet\n",
      "  warnings.warn(\n"
     ]
    }
   ],
   "source": [
    "# Input preprocessing\n",
    "\n",
    "#Coffea Events importing\n",
    "file_path = 'https://xrootd-local.unl.edu:1094//store/user/AGC/nanoAOD/TT_TuneCUETP8M1_13TeV-powheg-pythia8/cmsopendata2015_ttbar_19980_PU25nsData2015v1_76X_mcRun2_asymptotic_v12_ext3-v1_70000_0000.root'\n",
    "tree_name = \"Events\"\n",
    "events = NanoEventsFactory.from_root(file_path, treepath=tree_name, entry_start=None, entry_stop=None, schemaclass=NanoAODSchema).events()"
   ]
  },
  {
   "cell_type": "code",
   "execution_count": 29,
   "id": "a5c156c6",
   "metadata": {},
   "outputs": [],
   "source": [
    "selected_electrons = events.Electron[(events.Electron.pt > 30) & (np.abs(events.Electron.eta)<2.1) & \n",
    "                                        (events.Electron.cutBased==4) & (events.Electron.sip3d < 4)]\n",
    "selected_muons = events.Muon[(events.Muon.pt > 30) & (np.abs(events.Muon.eta)<2.1) & (events.Muon.tightId) & \n",
    "                                (events.Muon.sip3d < 4) & (events.Muon.pfRelIso04_all < 0.15)]\n",
    "\n",
    "selected_genpart = events.GenPart # for label calcualtion later\n",
    "selected_MET = events.MET # Part of SPANet features (global feature)\n",
    "\n",
    "jet_filter = (events.Jet.pt > 30) & (np.abs(events.Jet.eta) < 2.4) & (events.Jet.isTightLeptonVeto) #Jet filter\n",
    "selected_jets = events.Jet[jet_filter]"
   ]
  },
  {
   "cell_type": "code",
   "execution_count": 30,
   "id": "a910a94b",
   "metadata": {},
   "outputs": [],
   "source": [
    "# single lepton requirement\n",
    "event_filters = ((ak.count(selected_electrons.pt, axis=1) + ak.count(selected_muons.pt, axis=1)) == 1)\n",
    "# require at least 4 jets\n",
    "event_filters = event_filters & (ak.count(selected_jets.pt, axis=1) >= 4)\n",
    "# require at least one jet above B_TAG_THRESHOLD\n",
    "B_TAG_THRESHOLD = 0.5\n",
    "event_filters = event_filters & (ak.sum(selected_jets.btagCSVV2 >= B_TAG_THRESHOLD, axis=1) >= 1)\n",
    "\n",
    "# apply event filters\n",
    "selected_electrons = selected_electrons[event_filters]\n",
    "selected_muons = selected_muons[event_filters]\n",
    "selected_jets = selected_jets[event_filters]\n",
    "selected_genpart = selected_genpart[event_filters]\n",
    "selected_MET = selected_MET[event_filters]\n",
    "\n",
    "### only consider 4j2b (signal) region\n",
    "region_filter = ak.sum(selected_jets.btagCSVV2 > B_TAG_THRESHOLD, axis=1) >= 2 # at least two b-tagged jets\n",
    "selected_jets_region = selected_jets[region_filter] # all jet\n",
    "selected_electrons_region = selected_electrons[region_filter]\n",
    "selected_muons_region = selected_muons[region_filter]\n",
    "selected_genpart_region = selected_genpart[region_filter]\n",
    "selected_MET_region = selected_MET[region_filter]"
   ]
  },
  {
   "cell_type": "code",
   "execution_count": 31,
   "id": "c93434fb",
   "metadata": {},
   "outputs": [],
   "source": [
    "#getting labels for valid event\n",
    "jets, electrons, muons, mets, labels = training_filter_multiple_jets(selected_jets_region, selected_electrons_region, selected_muons_region, selected_genpart_region, selected_MET_region)"
   ]
  },
  {
   "cell_type": "code",
   "execution_count": null,
   "id": "cd525c6d",
   "metadata": {},
   "outputs": [],
   "source": []
  },
  {
   "cell_type": "code",
   "execution_count": null,
   "id": "9a714026",
   "metadata": {},
   "outputs": [],
   "source": []
  },
  {
   "cell_type": "code",
   "execution_count": 32,
   "id": "6d0e75b3",
   "metadata": {},
   "outputs": [],
   "source": [
    "#jets\n",
    "jets_btag = jets.btagCSVV2 #awkward array (not padded yet)\n",
    "jets_mass = jets.mass\n",
    "jets_pt = jets.pt\n",
    "jets_eta = jets.eta\n",
    "jets_sin_phi = np.sin(jets.phi)\n",
    "jets_cos_phi = np.cos(jets.phi)\n",
    "\n",
    "#Met\n",
    "mets_sumEt = mets.sumEt #awkward array (no padded needed)\n",
    "mets_sin_phi = np.sin(mets.phi)\n",
    "mets_cos_phi = np.cos(mets.phi)"
   ]
  },
  {
   "cell_type": "code",
   "execution_count": 33,
   "id": "2193eff6",
   "metadata": {},
   "outputs": [],
   "source": [
    "num_events = ak.num(jets, axis=0)\n",
    "\n",
    "#initializing (for memory allocation)\n",
    "leptons_btag = np.zeros(num_events)\n",
    "leptons_mass = np.zeros(num_events)\n",
    "leptons_pt = np.zeros(num_events)\n",
    "leptons_eta = np.zeros(num_events)\n",
    "leptons_sin_phi = np.zeros(num_events)\n",
    "leptons_cos_phi = np.zeros(num_events)\n",
    "\n",
    "# creating lepton mask (either one electron or one muon)\n",
    "has_electron = ak.num(electrons, axis=1) > 0\n",
    "has_muon = ak.num(muons, axis=1) > 0\n",
    "\n",
    "#filling electrons features from events\n",
    "leptons_mass[has_electron] = electrons.mass[has_electron][:, 0]\n",
    "leptons_pt[has_electron] = electrons.pt[has_electron][:, 0]\n",
    "leptons_eta[has_electron] = electrons.eta[has_electron][:, 0]\n",
    "leptons_sin_phi[has_electron] = np.sin(electrons.phi[has_electron][:, 0])\n",
    "leptons_cos_phi[has_electron] = np.cos(electrons.phi[has_electron][:, 0])\n",
    "#fillinig  muons features from events\n",
    "leptons_mass[has_muon] = muons.mass[has_muon][:, 0]\n",
    "leptons_pt[has_muon] = muons.pt[has_muon][:, 0]\n",
    "leptons_eta[has_muon] = muons.eta[has_muon][:, 0]\n",
    "leptons_sin_phi[has_muon] = np.sin(muons.phi[has_muon][:, 0])\n",
    "leptons_cos_phi[has_muon] = np.cos(muons.phi[has_muon][:, 0])"
   ]
  },
  {
   "cell_type": "code",
   "execution_count": 34,
   "id": "ee3fa580",
   "metadata": {},
   "outputs": [],
   "source": [
    "# Combining momenta (leptons + jets)\n",
    "# max_num_jets = ak.max(ak.num(jets, axis=1))\n",
    "max_num_jets = 16 # +1 electrons\n",
    "\n",
    "momenta_btag = np.zeros((num_events, max_num_jets + 1)) #initializing 2d array. num_events*(max_num_jets+1 lepton) (padded)\n",
    "momenta_mass = np.zeros((num_events, max_num_jets + 1))\n",
    "momenta_pt = np.zeros((num_events, max_num_jets + 1))\n",
    "momenta_eta = np.zeros((num_events, max_num_jets + 1))\n",
    "momenta_sin_phi = np.zeros((num_events, max_num_jets + 1))\n",
    "momenta_cos_phi = np.zeros((num_events, max_num_jets + 1))\n",
    "\n",
    "#the 0th argument from lepton information\n",
    "momenta_btag[:, 0] = leptons_btag #no btag for electron. Thus, all zero.\n",
    "momenta_mass[:, 0] = leptons_mass\n",
    "momenta_pt[:, 0] = leptons_pt\n",
    "momenta_eta[:, 0] = leptons_eta\n",
    "momenta_sin_phi[:, 0] = leptons_sin_phi\n",
    "momenta_cos_phi[:, 0] = leptons_cos_phi\n",
    "\n",
    "#filling jets into momenta\n",
    "for idx in range(max_num_jets): #going through jets level\n",
    "    mask = ak.num(jets, axis=1) > idx #filtering events that has num_jets > idx\n",
    "    momenta_btag[mask, idx + 1] = jets_btag[mask][:, idx]\n",
    "    momenta_mass[mask, idx + 1] = jets_mass[mask][:, idx]\n",
    "    momenta_pt[mask, idx + 1] = jets_pt[mask][:, idx]\n",
    "    momenta_eta[mask, idx + 1] = jets_eta[mask][:, idx]\n",
    "    momenta_sin_phi[mask, idx + 1] = jets_sin_phi[mask][:, idx]\n",
    "    momenta_cos_phi[mask, idx + 1] = jets_cos_phi[mask][:, idx]\n",
    "\n",
    "momenta_MASK = momenta_mass != 0 #this should valid (since mass would never be zero -> jets/leptons exist)\n",
    "\n",
    "#convert met to numpy\n",
    "mets_sumEt = mets_sumEt.to_numpy()\n",
    "mets_sin_phi = mets_sin_phi.to_numpy()\n",
    "mets_cos_phi = mets_cos_phi.to_numpy()"
   ]
  },
  {
   "cell_type": "code",
   "execution_count": 35,
   "id": "8f632a9e",
   "metadata": {},
   "outputs": [],
   "source": [
    "### TRAGET indices ###\n",
    "#ht\n",
    "b_had_indices = np.zeros(num_events, dtype=int)\n",
    "q1_indices = np.zeros(num_events, dtype=int)\n",
    "q2_indices = np.zeros(num_events, dtype=int)\n",
    "#lt\n",
    "b_lep_indices = np.zeros(num_events, dtype=int)\n",
    "l_indices = np.zeros(num_events, dtype=int)\n",
    "\n",
    "b_lep_indices[:] = ak.argmax(labels == -6, axis=1) + 1 #avoiding for-loop since there is exact one -6 and one 6\n",
    "b_had_indices[:] = ak.argmax(labels == 6, axis=1) + 1\n",
    "  \n",
    "# Find indices for 24\n",
    "for idx, event in enumerate(labels):\n",
    "    q_indices = ak.where(event == 24)[0]\n",
    "    q1_indices[idx] = q_indices[0] + 1\n",
    "    q2_indices[idx] = q_indices[1] + 1\n",
    "\n",
    "#TARGETS\n",
    "ht_target = {\n",
    "    'b': b_had_indices,\n",
    "    'q1': q1_indices,\n",
    "    'q2': q2_indices,\n",
    "}\n",
    "\n",
    "lt_target = {\n",
    "    'b': b_lep_indices,\n",
    "    'l': l_indices,\n",
    "}"
   ]
  },
  {
   "cell_type": "code",
   "execution_count": 36,
   "id": "9c58d6b7",
   "metadata": {},
   "outputs": [
    {
     "data": {
      "text/plain": [
       "(8995, 17)"
      ]
     },
     "execution_count": 36,
     "metadata": {},
     "output_type": "execute_result"
    }
   ],
   "source": [
    "momenta_mass.shape"
   ]
  },
  {
   "cell_type": "code",
   "execution_count": null,
   "id": "50140159",
   "metadata": {},
   "outputs": [],
   "source": []
  },
  {
   "cell_type": "code",
   "execution_count": null,
   "id": "4e92750a",
   "metadata": {},
   "outputs": [],
   "source": []
  },
  {
   "cell_type": "code",
   "execution_count": 43,
   "id": "c270289e",
   "metadata": {},
   "outputs": [],
   "source": [
    "# Constructing inputs according to model shape\n",
    "num_event_limit = 7000\n",
    "\n",
    "# Combine all momenta into a single data array\n",
    "# doing log-normalize\n",
    "Momenta_data = np.stack([\n",
    "#     momenta_mass[:num_event_limit], #\n",
    "#     momenta_pt[:num_event_limit], \n",
    "    momenta_mass[:num_event_limit],\n",
    "    momenta_pt[:num_event_limit], \n",
    "    momenta_eta[:num_event_limit], \n",
    "    momenta_sin_phi[:num_event_limit], \n",
    "    momenta_cos_phi[:num_event_limit], \n",
    "    momenta_btag[:num_event_limit]\n",
    "], axis=-1)  # Shape: (8995, 17, 6)\n",
    "\n",
    "Momenta_mask = momenta_MASK[:num_event_limit]\n",
    "\n",
    "Met_data = np.stack([\n",
    "    mets_sumEt[:num_event_limit], \n",
    "    mets_sin_phi[:num_event_limit], \n",
    "    mets_cos_phi[:num_event_limit]], \n",
    "    axis=-1)[:, np.newaxis, :]  # Shape: (8995, 1, 3)\n",
    "\n",
    "#All true becasue each event have one MET\n",
    "Met_mask = np.ones((num_event_limit, 1), dtype=bool)  # Shape: (8995, 1)\n",
    "# Met_mask = np.ones((num_events, 1), dtype=bool)  # Shape: (8995, 1)\n",
    "\n",
    "# Combine into a dictionary for ONNX model input\n",
    "inputs = {\n",
    "    \"Momenta_data\": Momenta_data.astype(np.float32),  # Shape: (8995, 17, 6)\n",
    "    \"Momenta_mask\": Momenta_mask.astype(np.bool_),  # Shape: (8995, 17)\n",
    "    \"Met_data\": Met_data.astype(np.float32),       # Shape: (8995, 1, 3)\n",
    "    \"Met_mask\": Met_mask.astype(np.bool_)        # Shape: (8995, 1)\n",
    "}\n",
    "\n",
    "### Inputs: ['Momenta_data', 'Momenta_mask', 'Met_data', 'Met_mask']"
   ]
  },
  {
   "cell_type": "code",
   "execution_count": 44,
   "id": "52bb5e60",
   "metadata": {},
   "outputs": [
    {
     "data": {
      "text/plain": [
       "(7000, 17, 6)"
      ]
     },
     "execution_count": 44,
     "metadata": {},
     "output_type": "execute_result"
    }
   ],
   "source": [
    "Momenta_data.shape"
   ]
  },
  {
   "cell_type": "code",
   "execution_count": null,
   "id": "2bb5a360",
   "metadata": {},
   "outputs": [],
   "source": []
  },
  {
   "cell_type": "code",
   "execution_count": 45,
   "id": "0d881ec0",
   "metadata": {},
   "outputs": [],
   "source": [
    "# Running inference on onnx\n",
    "outputs = session.run(None, inputs)\n",
    "### Outputs: ['lt_assignment_log_probability', 'ht_assignment_log_probability', 'lt_detection_log_probability', 'ht_detection_log_probability']"
   ]
  },
  {
   "cell_type": "code",
   "execution_count": 46,
   "id": "b6a008a8",
   "metadata": {},
   "outputs": [
    {
     "data": {
      "text/plain": [
       "(7000, 17)"
      ]
     },
     "execution_count": 46,
     "metadata": {},
     "output_type": "execute_result"
    }
   ],
   "source": [
    "# outputs[0].shape # 'lt_assignment_log_probability' (num_event, num_decay_products)"
   ]
  },
  {
   "cell_type": "code",
   "execution_count": 47,
   "id": "2d35effc",
   "metadata": {},
   "outputs": [
    {
     "data": {
      "text/plain": [
       "(7000, 17, 17, 17)"
      ]
     },
     "execution_count": 47,
     "metadata": {},
     "output_type": "execute_result"
    }
   ],
   "source": [
    "# outputs[1].shape # 'ht_assignment_log_probability' (num_event, num_decay_products)"
   ]
  },
  {
   "cell_type": "code",
   "execution_count": 48,
   "id": "4e39942b",
   "metadata": {},
   "outputs": [],
   "source": [
    "lt_assignment_probability = np.exp(outputs[0]) # (num_events, 17, 17, 17), convert to normal probability \n",
    "ht_assignment_probability = np.exp(outputs[1]) # (num_events, 17, 17, 17), convert to normal probability "
   ]
  },
  {
   "cell_type": "code",
   "execution_count": 49,
   "id": "e6d36076",
   "metadata": {},
   "outputs": [],
   "source": [
    "# Finding indices for a leptonic top with highest probability\n",
    "lt_predicted_indices = np.argmax(lt_assignment_probability, axis=1) #ruturn shape would be (number of event,)"
   ]
  },
  {
   "cell_type": "code",
   "execution_count": 50,
   "id": "212b9a65",
   "metadata": {},
   "outputs": [],
   "source": [
    "lt_predicted_indices = (torch.tensor(lt_predicted_indices, dtype=torch.int)).unsqueeze(1)"
   ]
  },
  {
   "cell_type": "code",
   "execution_count": 51,
   "id": "77026afe",
   "metadata": {},
   "outputs": [],
   "source": [
    "#Finding indices for three hadronic tops with the highest probability\n",
    "#each event has (17, 17, 17) probability distribution indicating the likelihood of three jets combination \n",
    "# forming haddronic top quark\n",
    "ht_predicted_indices = [\n",
    "    np.unravel_index(np.argmax(ht_assignment_probability[i]), (17, 17, 17))\n",
    "    for i in range(num_event_limit)\n",
    "]"
   ]
  },
  {
   "cell_type": "code",
   "execution_count": 52,
   "id": "cb607f87",
   "metadata": {},
   "outputs": [],
   "source": [
    "#convert array to tensor so that can use SPANet plotting function\n",
    "ht_predicted_indices = torch.tensor(ht_predicted_indices, dtype=torch.long)"
   ]
  },
  {
   "cell_type": "code",
   "execution_count": 53,
   "id": "944acdc1",
   "metadata": {},
   "outputs": [],
   "source": [
    "ht_mask = torch.full((num_event_limit,), True, dtype=torch.bool)\n",
    "lt_mask = torch.full((num_event_limit,), True, dtype=torch.bool)"
   ]
  },
  {
   "cell_type": "code",
   "execution_count": null,
   "id": "d4635681",
   "metadata": {},
   "outputs": [],
   "source": [
    "#PLOTTING"
   ]
  },
  {
   "cell_type": "code",
   "execution_count": 54,
   "id": "df6a9d20",
   "metadata": {},
   "outputs": [],
   "source": [
    "#Momenta_input needs to have log-normalization for mass and pt (to use invariant mass function in helper.py)\n",
    "Momenta_inputs = np.stack([\n",
    "    log_normalize(momenta_mass[:num_event_limit]),\n",
    "    log_normalize(momenta_pt[:num_event_limit]), \n",
    "    momenta_eta[:num_event_limit], \n",
    "    momenta_sin_phi[:num_event_limit], \n",
    "    momenta_cos_phi[:num_event_limit], \n",
    "    momenta_btag[:num_event_limit]\n",
    "], axis=-1)  # Shape: (8995, 17, 6)"
   ]
  },
  {
   "cell_type": "code",
   "execution_count": 55,
   "id": "12b4b6c5",
   "metadata": {},
   "outputs": [
    {
     "data": {
      "text/plain": [
       "(7000, 17, 6)"
      ]
     },
     "execution_count": 55,
     "metadata": {},
     "output_type": "execute_result"
    }
   ],
   "source": [
    "Momenta_inputs.shape"
   ]
  },
  {
   "cell_type": "code",
   "execution_count": null,
   "id": "f37be80a",
   "metadata": {},
   "outputs": [],
   "source": []
  },
  {
   "cell_type": "code",
   "execution_count": 56,
   "id": "20916c50",
   "metadata": {},
   "outputs": [],
   "source": [
    "#converting np array to tensor\n",
    "Momenta = torch.tensor(Momenta_inputs, dtype=torch.float32)\n",
    "lt_truth = (torch.tensor(lt_target['b'][:num_event_limit], dtype=torch.long)).unsqueeze(1)"
   ]
  },
  {
   "cell_type": "code",
   "execution_count": 57,
   "id": "cc4eb817",
   "metadata": {},
   "outputs": [],
   "source": [
    "ht_truth_stack = np.stack([ht_target['b'][:num_event_limit], ht_target['q1'][:num_event_limit], ht_target['q2'][:num_event_limit]], axis=1)\n",
    "ht_truth = torch.tensor(ht_truth_stack, dtype=torch.long)"
   ]
  },
  {
   "cell_type": "code",
   "execution_count": 58,
   "id": "e0d9d3ca",
   "metadata": {},
   "outputs": [],
   "source": [
    "random_evaluation = random_assignment(torch.tensor(Momenta_mask, dtype=torch.bool)) #tensor argument not np"
   ]
  },
  {
   "cell_type": "code",
   "execution_count": 59,
   "id": "91f8a0af",
   "metadata": {},
   "outputs": [],
   "source": [
    "lt_momenta_true = assignment_index(Momenta, lt_truth, lt_mask) #extract information of leptonic top jet information\n",
    "lt_momenta_pred = assignment_index(Momenta, lt_predicted_indices, lt_mask)\n",
    "lt_momenta_rand = assignment_index(Momenta, random_evaluation['lt'], lt_mask)\n",
    "\n",
    "ht_momenta_true = assignment_index(Momenta, ht_truth, ht_mask)\n",
    "ht_momenta_pred = assignment_index(Momenta, ht_predicted_indices, ht_mask)\n",
    "ht_momenta_rand = assignment_index(Momenta, random_evaluation['ht'], ht_mask)"
   ]
  },
  {
   "cell_type": "code",
   "execution_count": 40,
   "id": "d5d34dbf",
   "metadata": {},
   "outputs": [],
   "source": [
    "# Momenta_data[0][0]"
   ]
  },
  {
   "cell_type": "code",
   "execution_count": 60,
   "id": "b39ce381",
   "metadata": {},
   "outputs": [
    {
     "data": {
      "image/png": "[encoded data removed]",
      "text/plain": [
       "<Figure size 432x288 with 1 Axes>"
      ]
     },
     "metadata": {
      "needs_background": "light"
     },
     "output_type": "display_data"
    }
   ],
   "source": [
    "plot_distribution(invariant_mass(ht_momenta_true), line=2, label=\"Truth\", range=(100, 400))\n",
    "plot_distribution(invariant_mass(ht_momenta_pred), line=2, label=\"Matched Predicted\", range=(100, 400))\n",
    "plot_distribution(invariant_mass(ht_momenta_rand), line=2, label=\"Random\", range=(100, 400))\n",
    "\n",
    "plt.xlabel(\"Hadronic $t$ Invariant Mass (GeV)\")\n",
    "plt.ylabel(\"Density\")\n",
    "plt.legend()\n",
    "plt.tight_layout();"
   ]
  },
  {
   "cell_type": "code",
   "execution_count": null,
   "id": "026f9ee0",
   "metadata": {},
   "outputs": [],
   "source": []
  }
 ],
 "metadata": {
  "@webio": {
   "lastCommId": null,
   "lastKernelId": null
  },
  "kernelspec": {
   "display_name": "Python 3",
   "language": "python",
   "name": "python3"
  },
  "language_info": {
   "codemirror_mode": {
    "name": "ipython",
    "version": 3
   },
   "file_extension": ".py",
   "mimetype": "text/x-python",
   "name": "python",
   "nbconvert_exporter": "python",
   "pygments_lexer": "ipython3",
   "version": "3.9.12"
  }
 },
 "nbformat": 4,
 "nbformat_minor": 5
}
